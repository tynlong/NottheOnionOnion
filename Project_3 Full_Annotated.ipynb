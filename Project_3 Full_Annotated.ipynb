{
 "cells": [
  {
   "cell_type": "code",
   "execution_count": 3,
   "metadata": {
    "ExecuteTime": {
     "end_time": "2019-10-24T16:19:08.438562Z",
     "start_time": "2019-10-24T16:19:03.604227Z"
    }
   },
   "outputs": [],
   "source": [
    "import requests\n",
    "import pandas as pd\n",
    "import numpy as np\n",
    "import seaborn as sns\n",
    "import matplotlib\n",
    "from bs4 import BeautifulSoup\n",
    "from matplotlib_venn import venn2\n",
    "from matplotlib_venn_wordcloud import venn2_wordcloud\n",
    "import praw\n",
    "from wordcloud import WordCloud, STOPWORDS, ImageColorGenerator\n",
    "import matplotlib.pyplot as plt\n",
    "from sklearn.feature_extraction.text import CountVectorizer, TfidfVectorizer\n",
    "from sklearn.pipeline import Pipeline\n",
    "from sklearn.model_selection import train_test_split, GridSearchCV\n",
    "from sklearn.linear_model import LogisticRegression,LogisticRegressionCV\n",
    "from sklearn.neighbors import KNeighborsClassifier\n",
    "from nltk.corpus import stopwords # Import the stop word list\n",
    "from sklearn.naive_bayes import MultinomialNB\n",
    "from time import sleep\n",
    "from sklearn.ensemble import BaggingClassifier, GradientBoostingClassifier, AdaBoostClassifier, VotingClassifier\n",
    "\n",
    "%matplotlib inline\n",
    "matplotlib.style.use('fivethirtyeight')"
   ]
  },
  {
   "cell_type": "markdown",
   "metadata": {},
   "source": [
    "## Data Science Problem"
   ]
  },
  {
   "cell_type": "markdown",
   "metadata": {
    "ExecuteTime": {
     "end_time": "2019-10-23T04:57:50.128944Z",
     "start_time": "2019-10-23T04:57:50.119000Z"
    }
   },
   "source": [
    "Data Science Problem: To differentiate posts found on the subreddits r/notTheOnion and r/TheOnion"
   ]
  },
  {
   "cell_type": "markdown",
   "metadata": {},
   "source": [
    "**Introduction**:  \n",
    "r/TheOnion is a subreddit that is dedicated to articles from the satirical newspaper The Onion. The Onion's articles cover current events, both real and fictional, satirizing the tone and format of traditional news organizations with stories, editorials, and man-on-the-street interviews using a traditional news website layout and an editorial voice modeled after that of the Associated Press. The publication's humor often depends on presenting mundane, everyday events as newsworthy, surreal, or alarming, such as \"Rotation of Earth Throws Entire North American Continent into Darkness\".\n",
    "\n",
    "r/notTheOnion on the other hand, is dedicated to real-life news articles that are absurd, surreal or ludicrous to the point that one suspects if it is in fact satire, more specifically that published by The Onion.\n",
    "\n",
    "**Why these two subreddits were chosen**\n",
    "The posts in these subreddits are limited to links to the actual news articles, with the titles being the actual article headlines, and are similiar in form. Submissions are also chosen in r/notheonion's case to be similiar in content to r/TheOnion, making this problem more difficult.\n",
    "\n",
    "Few, if any of the posts contain self-text, and it I think it will be an interesting and challenging project."
   ]
  },
  {
   "cell_type": "markdown",
   "metadata": {},
   "source": [
    "## Data Scraping and Cleaning"
   ]
  },
  {
   "cell_type": "markdown",
   "metadata": {},
   "source": [
    "### Accessing reddit API for subreddit posts"
   ]
  },
  {
   "cell_type": "markdown",
   "metadata": {},
   "source": [
    "#### Writing headers and url"
   ]
  },
  {
   "cell_type": "code",
   "execution_count": 24,
   "metadata": {
    "ExecuteTime": {
     "end_time": "2019-10-21T07:06:27.781865Z",
     "start_time": "2019-10-21T07:06:26.982321Z"
    }
   },
   "outputs": [],
   "source": [
    "header={'User-agent':'subdiff:v1.00'}\n",
    "url='https://www.reddit.com/r/theonion/new.json'\n",
    "res=requests.get(url,headers=header)\n"
   ]
  },
  {
   "cell_type": "markdown",
   "metadata": {},
   "source": [
    "#### Passing json into list"
   ]
  },
  {
   "cell_type": "code",
   "execution_count": 25,
   "metadata": {
    "ExecuteTime": {
     "end_time": "2019-10-21T07:07:42.950346Z",
     "start_time": "2019-10-21T07:06:28.190031Z"
    },
    "scrolled": true
   },
   "outputs": [],
   "source": [
    "url='https://www.reddit.com/r/theonion/new.json'\n",
    "after=1\n",
    "to=[]\n",
    "url2=url\n",
    "while(after):\n",
    "    res=requests.get(url2,headers=header)\n",
    "    to_dict = res.json()\n",
    "    for entry in to_dict['data']['children']:\n",
    "        to.append(entry['data']['title'])\n",
    "    \n",
    "    after=to_dict['data']['after']\n",
    "    if after:\n",
    "        url2=url+'?after='+after\n",
    "        sleep(1)\n",
    "    else:\n",
    "        break"
   ]
  },
  {
   "cell_type": "code",
   "execution_count": 98,
   "metadata": {
    "ExecuteTime": {
     "end_time": "2019-10-21T07:48:55.584873Z",
     "start_time": "2019-10-21T07:48:18.570707Z"
    },
    "scrolled": true
   },
   "outputs": [],
   "source": [
    "after=1\n",
    "nto=[]\n",
    "url='https://www.reddit.com/r/nottheonion/new.json?limit=100;'\n",
    "url2=url\n",
    "while(after):\n",
    "    res=requests.get(url2,headers=header)\n",
    "    to_dict = res.json()\n",
    "    for entry in to_dict['data']['children']:\n",
    "        nto.append(entry['data']['title'])\n",
    "    \n",
    "    after=to_dict['data']['after']\n",
    "    if after:\n",
    "        url2=url+'after='+after\n",
    "        sleep(2)\n",
    "    else:\n",
    "        break"
   ]
  },
  {
   "cell_type": "code",
   "execution_count": 28,
   "metadata": {
    "ExecuteTime": {
     "end_time": "2019-10-21T07:09:34.687923Z",
     "start_time": "2019-10-21T07:09:34.680200Z"
    }
   },
   "outputs": [
    {
     "data": {
      "text/plain": [
       "998"
      ]
     },
     "execution_count": 28,
     "metadata": {},
     "output_type": "execute_result"
    }
   ],
   "source": [
    "len(to)"
   ]
  },
  {
   "cell_type": "code",
   "execution_count": 29,
   "metadata": {
    "ExecuteTime": {
     "end_time": "2019-10-21T07:09:35.816848Z",
     "start_time": "2019-10-21T07:09:35.807665Z"
    }
   },
   "outputs": [
    {
     "data": {
      "text/plain": [
       "906"
      ]
     },
     "execution_count": 29,
     "metadata": {},
     "output_type": "execute_result"
    }
   ],
   "source": [
    "len(nto)"
   ]
  },
  {
   "cell_type": "markdown",
   "metadata": {},
   "source": [
    "#### Using PushShift.io to get more posts\n",
    "I can only get 1000 posts, so I turn to pushshift.io for more entries"
   ]
  },
  {
   "cell_type": "code",
   "execution_count": 634,
   "metadata": {
    "ExecuteTime": {
     "end_time": "2019-10-23T08:25:35.964689Z",
     "start_time": "2019-10-23T08:25:32.569550Z"
    }
   },
   "outputs": [],
   "source": [
    "to=[]\n",
    "url='https://api.pushshift.io/reddit/search/submission/?q=&subreddit=theonion&size=10000'\n",
    "\n",
    "res=requests.get(url,headers=header)\n",
    "to_dict = res.json()\n",
    "\n"
   ]
  },
  {
   "cell_type": "markdown",
   "metadata": {},
   "source": [
    "**Because the largest request size is 1000, we have to iterate until N=10000**"
   ]
  },
  {
   "cell_type": "code",
   "execution_count": 653,
   "metadata": {
    "ExecuteTime": {
     "end_time": "2019-10-23T09:15:39.654992Z",
     "start_time": "2019-10-23T09:15:17.260625Z"
    }
   },
   "outputs": [],
   "source": [
    "N = 0\n",
    "last = ''\n",
    "ids = []\n",
    "to=[]\n",
    "url='https://api.pushshift.io/reddit/search/submission/?q=&subreddit=theonion&fields=id,created_utc,title&size=1000'\n",
    "\n",
    "while N < 10000:\n",
    "    request = requests.get('{}&before={}'.format(url,last))\n",
    "    json = request.json()\n",
    "    for s in json['data']:\n",
    "        ids.append(s['id'])\n",
    "        to.append(s['title'])\n",
    "        N += 1\n",
    "    last = int(s['created_utc'])"
   ]
  },
  {
   "cell_type": "code",
   "execution_count": 655,
   "metadata": {
    "ExecuteTime": {
     "end_time": "2019-10-23T09:15:56.177691Z",
     "start_time": "2019-10-23T09:15:56.169461Z"
    }
   },
   "outputs": [
    {
     "data": {
      "text/plain": [
       "10000"
      ]
     },
     "execution_count": 655,
     "metadata": {},
     "output_type": "execute_result"
    }
   ],
   "source": [
    "len(to)"
   ]
  },
  {
   "cell_type": "code",
   "execution_count": 659,
   "metadata": {
    "ExecuteTime": {
     "end_time": "2019-10-23T09:17:42.579242Z",
     "start_time": "2019-10-23T09:17:42.566626Z"
    }
   },
   "outputs": [],
   "source": [
    "todf=pd.DataFrame(to,columns=['titles'])"
   ]
  },
  {
   "cell_type": "markdown",
   "metadata": {},
   "source": [
    "**Drop Duplicate submissions**"
   ]
  },
  {
   "cell_type": "code",
   "execution_count": 711,
   "metadata": {
    "ExecuteTime": {
     "end_time": "2019-10-23T09:29:18.887291Z",
     "start_time": "2019-10-23T09:29:18.871576Z"
    }
   },
   "outputs": [],
   "source": [
    "todf=todf.drop_duplicates()"
   ]
  },
  {
   "cell_type": "code",
   "execution_count": 1088,
   "metadata": {
    "ExecuteTime": {
     "end_time": "2019-10-24T08:10:27.935841Z",
     "start_time": "2019-10-24T08:10:27.922402Z"
    }
   },
   "outputs": [
    {
     "data": {
      "text/plain": [
       "titles         0\n",
       "target         0\n",
       "length         0\n",
       "word length    0\n",
       "dtype: int64"
      ]
     },
     "execution_count": 1088,
     "metadata": {},
     "output_type": "execute_result"
    }
   ],
   "source": [
    "todf.isnull().sum()"
   ]
  },
  {
   "cell_type": "code",
   "execution_count": 712,
   "metadata": {
    "ExecuteTime": {
     "end_time": "2019-10-23T09:29:22.483656Z",
     "start_time": "2019-10-23T09:29:22.473930Z"
    }
   },
   "outputs": [
    {
     "data": {
      "text/plain": [
       "(9197, 3)"
      ]
     },
     "execution_count": 712,
     "metadata": {},
     "output_type": "execute_result"
    }
   ],
   "source": [
    "todf.shape"
   ]
  },
  {
   "cell_type": "markdown",
   "metadata": {},
   "source": [
    "**Repeat process for r/nottheonion**"
   ]
  },
  {
   "cell_type": "code",
   "execution_count": 656,
   "metadata": {
    "ExecuteTime": {
     "end_time": "2019-10-23T09:16:27.141939Z",
     "start_time": "2019-10-23T09:16:04.279134Z"
    }
   },
   "outputs": [],
   "source": [
    "N = 0\n",
    "last = ''\n",
    "ids = []\n",
    "nto=[]\n",
    "url='https://api.pushshift.io/reddit/search/submission/?q=&subreddit=nottheonion&fields=id,created_utc,title&size=1000'\n",
    "\n",
    "while N < 10000:\n",
    "    request = requests.get('{}&before={}'.format(url,last))\n",
    "    json = request.json()\n",
    "    for s in json['data']:\n",
    "        ids.append(s['id'])\n",
    "        nto.append(s['title'])\n",
    "        N += 1\n",
    "    last = int(s['created_utc'])"
   ]
  },
  {
   "cell_type": "code",
   "execution_count": 657,
   "metadata": {
    "ExecuteTime": {
     "end_time": "2019-10-23T09:16:27.156040Z",
     "start_time": "2019-10-23T09:16:27.146312Z"
    }
   },
   "outputs": [
    {
     "data": {
      "text/plain": [
       "10000"
      ]
     },
     "execution_count": 657,
     "metadata": {},
     "output_type": "execute_result"
    }
   ],
   "source": [
    "len(nto)"
   ]
  },
  {
   "cell_type": "code",
   "execution_count": 708,
   "metadata": {
    "ExecuteTime": {
     "end_time": "2019-10-23T09:29:01.095959Z",
     "start_time": "2019-10-23T09:29:01.087399Z"
    }
   },
   "outputs": [],
   "source": [
    "ntodf=pd.DataFrame(nto,columns=['titles'])"
   ]
  },
  {
   "cell_type": "code",
   "execution_count": 709,
   "metadata": {
    "ExecuteTime": {
     "end_time": "2019-10-23T09:29:03.854475Z",
     "start_time": "2019-10-23T09:29:03.841351Z"
    }
   },
   "outputs": [],
   "source": [
    "ntodf=ntodf.drop_duplicates()"
   ]
  },
  {
   "cell_type": "code",
   "execution_count": 1089,
   "metadata": {
    "ExecuteTime": {
     "end_time": "2019-10-24T08:10:41.025828Z",
     "start_time": "2019-10-24T08:10:41.007901Z"
    }
   },
   "outputs": [
    {
     "data": {
      "text/plain": [
       "titles         0\n",
       "target         0\n",
       "length         0\n",
       "word length    0\n",
       "dtype: int64"
      ]
     },
     "execution_count": 1089,
     "metadata": {},
     "output_type": "execute_result"
    }
   ],
   "source": [
    "ntodf.isnull().sum()"
   ]
  },
  {
   "cell_type": "code",
   "execution_count": 710,
   "metadata": {
    "ExecuteTime": {
     "end_time": "2019-10-23T09:29:08.279558Z",
     "start_time": "2019-10-23T09:29:08.271043Z"
    }
   },
   "outputs": [
    {
     "data": {
      "text/plain": [
       "(7898, 1)"
      ]
     },
     "execution_count": 710,
     "metadata": {},
     "output_type": "execute_result"
    }
   ],
   "source": [
    "ntodf.shape"
   ]
  },
  {
   "cell_type": "markdown",
   "metadata": {},
   "source": [
    "#### Alternate method using Python Reddit API Wrapper**(from which we found the self-text is empty except for one instance, and so we didn't collect it)"
   ]
  },
  {
   "cell_type": "code",
   "execution_count": 626,
   "metadata": {
    "ExecuteTime": {
     "end_time": "2019-10-23T05:19:36.366515Z",
     "start_time": "2019-10-23T05:19:01.248180Z"
    }
   },
   "outputs": [],
   "source": [
    "reddit = praw.Reddit(client_id='5PSPLnAopcS4Gg',\n",
    "                     client_secret='aXYcVIqwgZZueLAMqcVc6kORImY',\n",
    "                     user_agent='user_agent')\n",
    "    \n",
    "nto=[submission for submission in reddit.subreddit('nottheonion').top(limit=2000)]\n",
    "to=[submission for submission in reddit.subreddit('theonion').top(limit=2000)]"
   ]
  },
  {
   "cell_type": "code",
   "execution_count": 627,
   "metadata": {
    "ExecuteTime": {
     "end_time": "2019-10-23T05:19:36.383297Z",
     "start_time": "2019-10-23T05:19:36.369727Z"
    }
   },
   "outputs": [
    {
     "data": {
      "text/plain": [
       "965"
      ]
     },
     "execution_count": 627,
     "metadata": {},
     "output_type": "execute_result"
    }
   ],
   "source": [
    "#len(nto)"
   ]
  },
  {
   "cell_type": "code",
   "execution_count": 628,
   "metadata": {
    "ExecuteTime": {
     "end_time": "2019-10-23T05:19:36.412036Z",
     "start_time": "2019-10-23T05:19:36.394777Z"
    }
   },
   "outputs": [
    {
     "data": {
      "text/plain": [
       "999"
      ]
     },
     "execution_count": 628,
     "metadata": {},
     "output_type": "execute_result"
    }
   ],
   "source": [
    "#len(to)"
   ]
  },
  {
   "cell_type": "code",
   "execution_count": null,
   "metadata": {
    "ExecuteTime": {
     "end_time": "2019-10-21T06:59:57.425264Z",
     "start_time": "2019-10-21T06:52:46.974Z"
    }
   },
   "outputs": [],
   "source": [
    "#ntodf=pd.DataFrame({'titles':[sub.title for sub in nto],'selftext':[sub.selftext for sub in nto]})\n",
    "#ntodf['selftext'].value_counts()"
   ]
  },
  {
   "cell_type": "code",
   "execution_count": null,
   "metadata": {
    "ExecuteTime": {
     "end_time": "2019-10-21T06:59:57.427273Z",
     "start_time": "2019-10-21T06:52:46.976Z"
    },
    "scrolled": true
   },
   "outputs": [],
   "source": [
    "#todf=pd.DataFrame({'titles':[sub.title for sub in to],'selftext':[sub.selftext for sub in to]})\n",
    "#todf['selftext'].value_counts()"
   ]
  },
  {
   "cell_type": "markdown",
   "metadata": {},
   "source": [
    "#### Add target column and concat the two dataframes"
   ]
  },
  {
   "cell_type": "code",
   "execution_count": 713,
   "metadata": {
    "ExecuteTime": {
     "end_time": "2019-10-23T09:31:57.685543Z",
     "start_time": "2019-10-23T09:31:55.297255Z"
    }
   },
   "outputs": [],
   "source": [
    "ntodf['target']=np.zeros(shape=ntodf['titles'].shape)\n",
    "todf['target']=np.ones(shape=todf['titles'].shape)"
   ]
  },
  {
   "cell_type": "code",
   "execution_count": 714,
   "metadata": {
    "ExecuteTime": {
     "end_time": "2019-10-23T09:31:57.707383Z",
     "start_time": "2019-10-23T09:31:57.688847Z"
    }
   },
   "outputs": [],
   "source": [
    "df=pd.concat([ntodf[['titles','target']],todf[['titles','target']]])\n",
    "df.reset_index(drop=True,inplace=True)"
   ]
  },
  {
   "cell_type": "code",
   "execution_count": 715,
   "metadata": {
    "ExecuteTime": {
     "end_time": "2019-10-23T09:31:57.729509Z",
     "start_time": "2019-10-23T09:31:57.710605Z"
    },
    "scrolled": true
   },
   "outputs": [
    {
     "data": {
      "text/html": [
       "<div>\n",
       "<style scoped>\n",
       "    .dataframe tbody tr th:only-of-type {\n",
       "        vertical-align: middle;\n",
       "    }\n",
       "\n",
       "    .dataframe tbody tr th {\n",
       "        vertical-align: top;\n",
       "    }\n",
       "\n",
       "    .dataframe thead th {\n",
       "        text-align: right;\n",
       "    }\n",
       "</style>\n",
       "<table border=\"1\" class=\"dataframe\">\n",
       "  <thead>\n",
       "    <tr style=\"text-align: right;\">\n",
       "      <th></th>\n",
       "      <th>titles</th>\n",
       "      <th>target</th>\n",
       "    </tr>\n",
       "  </thead>\n",
       "  <tbody>\n",
       "    <tr>\n",
       "      <th>0</th>\n",
       "      <td>Founders Brewing manager claims he didn’t know...</td>\n",
       "      <td>0.0</td>\n",
       "    </tr>\n",
       "    <tr>\n",
       "      <th>1</th>\n",
       "      <td>Lid on 1947-49 Kashmir files? Archives reveal ...</td>\n",
       "      <td>0.0</td>\n",
       "    </tr>\n",
       "    <tr>\n",
       "      <th>2</th>\n",
       "      <td>Lions and rhinos are farm animals, says South ...</td>\n",
       "      <td>0.0</td>\n",
       "    </tr>\n",
       "    <tr>\n",
       "      <th>3</th>\n",
       "      <td>‘Humane, professional’ Hong Kong police force ...</td>\n",
       "      <td>0.0</td>\n",
       "    </tr>\n",
       "    <tr>\n",
       "      <th>4</th>\n",
       "      <td>Kashmir Politicians Refuse to Sign Bond Bannin...</td>\n",
       "      <td>0.0</td>\n",
       "    </tr>\n",
       "  </tbody>\n",
       "</table>\n",
       "</div>"
      ],
      "text/plain": [
       "                                              titles  target\n",
       "0  Founders Brewing manager claims he didn’t know...     0.0\n",
       "1  Lid on 1947-49 Kashmir files? Archives reveal ...     0.0\n",
       "2  Lions and rhinos are farm animals, says South ...     0.0\n",
       "3  ‘Humane, professional’ Hong Kong police force ...     0.0\n",
       "4  Kashmir Politicians Refuse to Sign Bond Bannin...     0.0"
      ]
     },
     "execution_count": 715,
     "metadata": {},
     "output_type": "execute_result"
    }
   ],
   "source": [
    "df.head()"
   ]
  },
  {
   "cell_type": "code",
   "execution_count": 716,
   "metadata": {
    "ExecuteTime": {
     "end_time": "2019-10-23T09:31:57.758866Z",
     "start_time": "2019-10-23T09:31:57.733283Z"
    },
    "scrolled": true
   },
   "outputs": [
    {
     "data": {
      "text/html": [
       "<div>\n",
       "<style scoped>\n",
       "    .dataframe tbody tr th:only-of-type {\n",
       "        vertical-align: middle;\n",
       "    }\n",
       "\n",
       "    .dataframe tbody tr th {\n",
       "        vertical-align: top;\n",
       "    }\n",
       "\n",
       "    .dataframe thead th {\n",
       "        text-align: right;\n",
       "    }\n",
       "</style>\n",
       "<table border=\"1\" class=\"dataframe\">\n",
       "  <thead>\n",
       "    <tr style=\"text-align: right;\">\n",
       "      <th></th>\n",
       "      <th>titles</th>\n",
       "      <th>target</th>\n",
       "    </tr>\n",
       "  </thead>\n",
       "  <tbody>\n",
       "    <tr>\n",
       "      <th>17090</th>\n",
       "      <td>How Trump Writes His Tweets</td>\n",
       "      <td>1.0</td>\n",
       "    </tr>\n",
       "    <tr>\n",
       "      <th>17091</th>\n",
       "      <td>Trump Boys Sadly Release Pet Alligator Into Li...</td>\n",
       "      <td>1.0</td>\n",
       "    </tr>\n",
       "    <tr>\n",
       "      <th>17092</th>\n",
       "      <td>A glimpse into the Female world of Web design:...</td>\n",
       "      <td>1.0</td>\n",
       "    </tr>\n",
       "    <tr>\n",
       "      <th>17093</th>\n",
       "      <td>They Said What?!: Find Out What Soledad O’Brie...</td>\n",
       "      <td>1.0</td>\n",
       "    </tr>\n",
       "    <tr>\n",
       "      <th>17094</th>\n",
       "      <td>USD 1000 Paypal Account only0.08 Bitcoin (or $...</td>\n",
       "      <td>1.0</td>\n",
       "    </tr>\n",
       "  </tbody>\n",
       "</table>\n",
       "</div>"
      ],
      "text/plain": [
       "                                                  titles  target\n",
       "17090                        How Trump Writes His Tweets     1.0\n",
       "17091  Trump Boys Sadly Release Pet Alligator Into Li...     1.0\n",
       "17092  A glimpse into the Female world of Web design:...     1.0\n",
       "17093  They Said What?!: Find Out What Soledad O’Brie...     1.0\n",
       "17094  USD 1000 Paypal Account only0.08 Bitcoin (or $...     1.0"
      ]
     },
     "execution_count": 716,
     "metadata": {},
     "output_type": "execute_result"
    }
   ],
   "source": [
    "df.tail()"
   ]
  },
  {
   "cell_type": "code",
   "execution_count": 717,
   "metadata": {
    "ExecuteTime": {
     "end_time": "2019-10-23T09:32:01.472648Z",
     "start_time": "2019-10-23T09:32:01.353638Z"
    }
   },
   "outputs": [],
   "source": [
    "df.to_csv('ntoto.csv')"
   ]
  },
  {
   "cell_type": "code",
   "execution_count": 4,
   "metadata": {
    "ExecuteTime": {
     "end_time": "2019-10-24T16:19:08.866326Z",
     "start_time": "2019-10-24T16:19:08.791342Z"
    }
   },
   "outputs": [],
   "source": [
    "df=pd.read_csv('ntoto.csv')"
   ]
  },
  {
   "cell_type": "code",
   "execution_count": 5,
   "metadata": {
    "ExecuteTime": {
     "end_time": "2019-10-24T16:19:09.932828Z",
     "start_time": "2019-10-24T16:19:09.915324Z"
    }
   },
   "outputs": [],
   "source": [
    "ntodf=pd.DataFrame(df[df['target']==0])\n",
    "todf=pd.DataFrame(df[df['target']==1])\n"
   ]
  },
  {
   "cell_type": "markdown",
   "metadata": {},
   "source": [
    "## EDA"
   ]
  },
  {
   "cell_type": "markdown",
   "metadata": {},
   "source": [
    "#### Word length Histogram"
   ]
  },
  {
   "cell_type": "code",
   "execution_count": 5,
   "metadata": {
    "ExecuteTime": {
     "end_time": "2019-10-24T15:56:25.104325Z",
     "start_time": "2019-10-24T15:56:25.030892Z"
    }
   },
   "outputs": [],
   "source": [
    "ntodf['sentence length']=ntodf['titles'].apply(lambda x: len(x.split(' ')))\n",
    "todf['sentence length']=todf['titles'].apply(lambda x: len(x.split(' ')))\n",
    "df['sentence length']=df['titles'].apply(lambda x: len(x.split(' ')))"
   ]
  },
  {
   "cell_type": "code",
   "execution_count": 854,
   "metadata": {
    "ExecuteTime": {
     "end_time": "2019-10-24T02:39:58.313265Z",
     "start_time": "2019-10-24T02:39:57.481757Z"
    },
    "scrolled": false
   },
   "outputs": [
    {
     "data": {
      "image/png": "[encoded data removed]",
      "text/plain": [
       "<Figure size 1440x504 with 2 Axes>"
      ]
     },
     "metadata": {},
     "output_type": "display_data"
    }
   ],
   "source": [
    "ncols=2\n",
    "fig,ax=plt.subplots(ncols=ncols,figsize=(ncols*10,7),sharex=True,sharey=True)\n",
    "\n",
    "sns.distplot(ntodf['sentence length'],bins=55,ax=ax[0])\n",
    "\n",
    "sns.distplot(todf['sentence length'],bins=45,ax=ax[1])\n",
    "ax[0].set_title('r/notTheOnion',fontsize=20)\n",
    "ax[1].set_title('r/TheOnion',fontsize=20)\n",
    "fig.suptitle('Histogram of sentence length for r/notTheOnion and r/TheOnion',fontsize=36,y=1)\n",
    "\n",
    "plt.show()\n",
    "\n",
    "\n"
   ]
  },
  {
   "cell_type": "code",
   "execution_count": 862,
   "metadata": {
    "ExecuteTime": {
     "end_time": "2019-10-24T02:43:49.439131Z",
     "start_time": "2019-10-24T02:43:49.114344Z"
    }
   },
   "outputs": [
    {
     "data": {
      "text/plain": [
       "<matplotlib.axes._subplots.AxesSubplot at 0x1a4e2c1240>"
      ]
     },
     "execution_count": 862,
     "metadata": {},
     "output_type": "execute_result"
    },
    {
     "data": {
      "text/plain": [
       "<Figure size 720x360 with 0 Axes>"
      ]
     },
     "metadata": {},
     "output_type": "display_data"
    },
    {
     "data": {
      "image/png": "[encoded data removed]",
      "text/plain": [
       "<Figure size 720x576 with 1 Axes>"
      ]
     },
     "metadata": {},
     "output_type": "display_data"
    }
   ],
   "source": [
    "plt.figure(figsize=(10,5))\n",
    "df.boxplot('sentence length',by='target',figsize=(10,8))"
   ]
  },
  {
   "cell_type": "markdown",
   "metadata": {},
   "source": [
    "**Comments on the sentence length distributions**   \n",
    "The titles length of the two subreddits are normally distributed,have similiar medians, but interestingly rather different variances. The variance of r/theonion titles is larger and is more widely distributed despite being generally balanced classes."
   ]
  },
  {
   "cell_type": "markdown",
   "metadata": {},
   "source": [
    "#### Wordcloud Visualization"
   ]
  },
  {
   "cell_type": "code",
   "execution_count": 995,
   "metadata": {
    "ExecuteTime": {
     "end_time": "2019-10-24T03:29:15.732468Z",
     "start_time": "2019-10-24T03:29:06.008744Z"
    },
    "scrolled": false
   },
   "outputs": [],
   "source": [
    "onioncloud=WordCloud(width=1080,height=720,background_color='white',stopwords=STOPWORDS,max_words=30,prefer_horizontal=True,regexp='(?u)\\\\b\\\\w\\\\w+\\\\b').generate(todf['titles'].sum())\n",
    "notonioncloud=WordCloud(width=1080,height=720,background_color='white',stopwords=STOPWORDS,max_words=30,prefer_horizontal=True,regexp='(?u)\\\\b\\\\w\\\\w+\\\\b').generate(ntodf['titles'].sum())\n",
    "\n",
    "\n"
   ]
  },
  {
   "cell_type": "code",
   "execution_count": 996,
   "metadata": {
    "ExecuteTime": {
     "end_time": "2019-10-24T03:29:16.535357Z",
     "start_time": "2019-10-24T03:29:15.734961Z"
    },
    "scrolled": false
   },
   "outputs": [
    {
     "data": {
      "image/png": "[encoded data removed]",
      "text/plain": [
       "<Figure size 1440x504 with 2 Axes>"
      ]
     },
     "metadata": {},
     "output_type": "display_data"
    }
   ],
   "source": [
    "ncols=2\n",
    "fig,ax=plt.subplots(ncols=ncols,figsize=(ncols*10,7))\n",
    "ax[0].axis(\"off\")\n",
    "ax[1].axis(\"off\")\n",
    "ax[0].imshow(onioncloud, interpolation='bilinear')\n",
    "ax[0].set_title('r/TheOnion',fontsize=20)\n",
    "ax[1].imshow(notonioncloud, interpolation='bilinear')\n",
    "ax[1].set_title('r/NotTheOnion',fontsize=20)\n",
    "fig.suptitle('Top 50 words of each subreddit',fontsize=36,)\n",
    "\n",
    "plt.show()"
   ]
  },
  {
   "cell_type": "code",
   "execution_count": 998,
   "metadata": {
    "ExecuteTime": {
     "end_time": "2019-10-24T03:29:34.004478Z",
     "start_time": "2019-10-24T03:29:33.996155Z"
    }
   },
   "outputs": [],
   "source": [
    "compdf=pd.DataFrame(list(onioncloud.words_.keys()),columns=['Top30Onion'])"
   ]
  },
  {
   "cell_type": "code",
   "execution_count": 999,
   "metadata": {
    "ExecuteTime": {
     "end_time": "2019-10-24T03:29:34.664020Z",
     "start_time": "2019-10-24T03:29:34.647509Z"
    }
   },
   "outputs": [],
   "source": [
    "compdf['Frequency1']=list(onioncloud.words_.values())\n",
    "compdf['Top30notOnion']=list(notonioncloud.words_.keys())\n",
    "compdf['Frequency2']=list(notonioncloud.words_.values())\n",
    "compdf['Top30Onion']=compdf['Top30Onion'].apply(lambda x: x.lower())\n",
    "compdf['Top30notOnion']=compdf['Top30notOnion'].apply(lambda x: x.lower())"
   ]
  },
  {
   "cell_type": "code",
   "execution_count": 1000,
   "metadata": {
    "ExecuteTime": {
     "end_time": "2019-10-24T03:29:38.820775Z",
     "start_time": "2019-10-24T03:29:38.814044Z"
    },
    "scrolled": true
   },
   "outputs": [],
   "source": [
    "set1={word for word in compdf['Top30Onion'].values}\n",
    "set2={word for word in compdf['Top30notOnion'].values}\n",
    "\n",
    "sets=[]\n",
    "sets.append(set1)\n",
    "sets.append(set2)"
   ]
  },
  {
   "cell_type": "code",
   "execution_count": 973,
   "metadata": {
    "ExecuteTime": {
     "end_time": "2019-10-24T03:16:27.411259Z",
     "start_time": "2019-10-24T03:16:27.379228Z"
    }
   },
   "outputs": [],
   "source": [
    "cvec=CountVectorizer(stop_words=None)"
   ]
  },
  {
   "cell_type": "code",
   "execution_count": 974,
   "metadata": {
    "ExecuteTime": {
     "end_time": "2019-10-24T03:16:28.221258Z",
     "start_time": "2019-10-24T03:16:27.587564Z"
    }
   },
   "outputs": [],
   "source": [
    "freq_df=cvec.fit_transform(df['titles'])"
   ]
  },
  {
   "cell_type": "code",
   "execution_count": 975,
   "metadata": {
    "ExecuteTime": {
     "end_time": "2019-10-24T03:16:28.265927Z",
     "start_time": "2019-10-24T03:16:28.224547Z"
    }
   },
   "outputs": [],
   "source": [
    "words=cvec.get_feature_names()"
   ]
  },
  {
   "cell_type": "code",
   "execution_count": 1001,
   "metadata": {
    "ExecuteTime": {
     "end_time": "2019-10-24T03:30:25.186113Z",
     "start_time": "2019-10-24T03:30:14.916654Z"
    },
    "scrolled": true
   },
   "outputs": [
    {
     "data": {
      "text/html": [
       "<div>\n",
       "<style scoped>\n",
       "    .dataframe tbody tr th:only-of-type {\n",
       "        vertical-align: middle;\n",
       "    }\n",
       "\n",
       "    .dataframe tbody tr th {\n",
       "        vertical-align: top;\n",
       "    }\n",
       "\n",
       "    .dataframe thead th {\n",
       "        text-align: right;\n",
       "    }\n",
       "</style>\n",
       "<table border=\"1\" class=\"dataframe\">\n",
       "  <thead>\n",
       "    <tr style=\"text-align: right;\">\n",
       "      <th></th>\n",
       "      <th>Count</th>\n",
       "      <th>Words</th>\n",
       "      <th>Relative Frequency</th>\n",
       "    </tr>\n",
       "  </thead>\n",
       "  <tbody>\n",
       "    <tr>\n",
       "      <th>19272</th>\n",
       "      <td>7024</td>\n",
       "      <td>to</td>\n",
       "      <td>1.000000</td>\n",
       "    </tr>\n",
       "    <tr>\n",
       "      <th>13174</th>\n",
       "      <td>4474</td>\n",
       "      <td>of</td>\n",
       "      <td>0.636959</td>\n",
       "    </tr>\n",
       "    <tr>\n",
       "      <th>19055</th>\n",
       "      <td>4410</td>\n",
       "      <td>the</td>\n",
       "      <td>0.627847</td>\n",
       "    </tr>\n",
       "    <tr>\n",
       "      <th>9592</th>\n",
       "      <td>3564</td>\n",
       "      <td>in</td>\n",
       "      <td>0.507403</td>\n",
       "    </tr>\n",
       "    <tr>\n",
       "      <th>7581</th>\n",
       "      <td>2736</td>\n",
       "      <td>for</td>\n",
       "      <td>0.389522</td>\n",
       "    </tr>\n",
       "    <tr>\n",
       "      <th>1070</th>\n",
       "      <td>1967</td>\n",
       "      <td>and</td>\n",
       "      <td>0.280040</td>\n",
       "    </tr>\n",
       "    <tr>\n",
       "      <th>13256</th>\n",
       "      <td>1935</td>\n",
       "      <td>on</td>\n",
       "      <td>0.275484</td>\n",
       "    </tr>\n",
       "    <tr>\n",
       "      <th>20986</th>\n",
       "      <td>1615</td>\n",
       "      <td>with</td>\n",
       "      <td>0.229926</td>\n",
       "    </tr>\n",
       "    <tr>\n",
       "      <th>767</th>\n",
       "      <td>1428</td>\n",
       "      <td>after</td>\n",
       "      <td>0.203303</td>\n",
       "    </tr>\n",
       "    <tr>\n",
       "      <th>10055</th>\n",
       "      <td>1392</td>\n",
       "      <td>is</td>\n",
       "      <td>0.198178</td>\n",
       "    </tr>\n",
       "  </tbody>\n",
       "</table>\n",
       "</div>"
      ],
      "text/plain": [
       "       Count  Words  Relative Frequency\n",
       "19272   7024     to            1.000000\n",
       "13174   4474     of            0.636959\n",
       "19055   4410    the            0.627847\n",
       "9592    3564     in            0.507403\n",
       "7581    2736    for            0.389522\n",
       "1070    1967    and            0.280040\n",
       "13256   1935     on            0.275484\n",
       "20986   1615   with            0.229926\n",
       "767     1428  after            0.203303\n",
       "10055   1392     is            0.198178"
      ]
     },
     "execution_count": 1001,
     "metadata": {},
     "output_type": "execute_result"
    }
   ],
   "source": [
    "freq_col=pd.DataFrame(pd.DataFrame(freq_df.todense()).sum())\n",
    "freq_col['words']=words\n",
    "freq_col.columns=['Count','Words']\n",
    "freq_col['Relative Frequency']=freq_col['Count']/freq_col['Count'].max()\n",
    "freq_col.sort_values('Count',ascending=False).head(10)"
   ]
  },
  {
   "cell_type": "code",
   "execution_count": 1003,
   "metadata": {
    "ExecuteTime": {
     "end_time": "2019-10-24T03:30:50.152008Z",
     "start_time": "2019-10-24T03:30:49.950626Z"
    },
    "scrolled": true
   },
   "outputs": [],
   "source": [
    "freqdict={}\n",
    "for key in list(set1.union(set2)):\n",
    "    flag=0\n",
    "    try: freqdict[key]=freq_col[freq_col['Words']==key]['Relative Frequency'].values[0]\n",
    "    except: flag=1\n",
    "    if flag:\n",
    "        set1.discard(key)\n",
    "        set2.discard(key)"
   ]
  },
  {
   "cell_type": "markdown",
   "metadata": {},
   "source": [
    "#### We use a Venn Diagram of the top 30 occurring words of each dataset to see which words appear in each dataset most, and which ones appear in both"
   ]
  },
  {
   "cell_type": "code",
   "execution_count": 1004,
   "metadata": {
    "ExecuteTime": {
     "end_time": "2019-10-24T03:30:54.919002Z",
     "start_time": "2019-10-24T03:30:51.980804Z"
    }
   },
   "outputs": [
    {
     "data": {
      "image/png": "[encoded data removed]",
      "text/plain": [
       "<Figure size 1080x720 with 2 Axes>"
      ]
     },
     "metadata": {},
     "output_type": "display_data"
    }
   ],
   "source": [
    "plt.figure(figsize=(15,10))\n",
    "venn=venn2_wordcloud([set1,set2],set_labels=['Top 30 r/TheOnion','Top 30 r/notTheOnion'],\n",
    "                     ax=plt.gca(),word_to_frequency=freqdict)"
   ]
  },
  {
   "cell_type": "markdown",
   "metadata": {},
   "source": [
    "**In this Venn diagram, the size of the word represents how often it appears.**\n",
    "\n",
    "The words that appear in both subreddit, while appearing frequently, are **non-discriminating** features, and may not help very much in identifying the different subreddits.\n",
    "\n",
    "As expected, pronouns/nouns like **\"man,woman,people\"** appear the most and verbs like **\"make,find\"** are also common to both subreddits.\n",
    "\n",
    "The word that obviously stands out is **\"Trump\"** in comparison to the other less specific words and I wonder if this would be the case if we ran the post search on posts before his presidential campaign."
   ]
  },
  {
   "cell_type": "markdown",
   "metadata": {},
   "source": [
    "## Estimator selection and comparison"
   ]
  },
  {
   "cell_type": "markdown",
   "metadata": {
    "ExecuteTime": {
     "end_time": "2019-10-17T09:33:04.909143Z",
     "start_time": "2019-10-17T09:33:04.902358Z"
    }
   },
   "source": [
    "### Train Test Split"
   ]
  },
  {
   "cell_type": "code",
   "execution_count": 726,
   "metadata": {
    "ExecuteTime": {
     "end_time": "2019-10-23T09:34:00.172117Z",
     "start_time": "2019-10-23T09:34:00.149110Z"
    }
   },
   "outputs": [],
   "source": [
    "X=df['titles']\n",
    "y=df['target']\n",
    "X_train,X_test,y_train,y_test=train_test_split(X,y,stratify=y,random_state=23)"
   ]
  },
  {
   "cell_type": "markdown",
   "metadata": {},
   "source": [
    "**1. Count Vectorize the corpus so we know the number of words we are working with to provide context for the pipeline parameter range selection**  \n",
    "**2. Attempt no max_feature logreg**"
   ]
  },
  {
   "cell_type": "code",
   "execution_count": 727,
   "metadata": {
    "ExecuteTime": {
     "end_time": "2019-10-23T09:34:01.947671Z",
     "start_time": "2019-10-23T09:34:01.939215Z"
    }
   },
   "outputs": [],
   "source": [
    "cvec=CountVectorizer(stop_words='english')"
   ]
  },
  {
   "cell_type": "code",
   "execution_count": 728,
   "metadata": {
    "ExecuteTime": {
     "end_time": "2019-10-23T09:34:02.948482Z",
     "start_time": "2019-10-23T09:34:02.619050Z"
    }
   },
   "outputs": [],
   "source": [
    "X_train_cvec=cvec.fit_transform(X_train)"
   ]
  },
  {
   "cell_type": "code",
   "execution_count": 729,
   "metadata": {
    "ExecuteTime": {
     "end_time": "2019-10-23T09:34:03.405195Z",
     "start_time": "2019-10-23T09:34:03.110483Z"
    },
    "scrolled": true
   },
   "outputs": [
    {
     "data": {
      "text/plain": [
       "(12821, 18496)"
      ]
     },
     "execution_count": 729,
     "metadata": {},
     "output_type": "execute_result"
    }
   ],
   "source": [
    "pd.DataFrame(X_train_cvec.todense(),columns=cvec.get_feature_names()).shape"
   ]
  },
  {
   "cell_type": "code",
   "execution_count": 730,
   "metadata": {
    "ExecuteTime": {
     "end_time": "2019-10-23T09:34:04.669530Z",
     "start_time": "2019-10-23T09:34:04.564060Z"
    }
   },
   "outputs": [],
   "source": [
    "X_test_cvec=cvec.transform(X_test)"
   ]
  },
  {
   "cell_type": "code",
   "execution_count": 809,
   "metadata": {
    "ExecuteTime": {
     "end_time": "2019-10-23T17:00:44.653324Z",
     "start_time": "2019-10-23T17:00:44.648781Z"
    }
   },
   "outputs": [],
   "source": [
    "logreg=LogisticRegression()"
   ]
  },
  {
   "cell_type": "code",
   "execution_count": 810,
   "metadata": {
    "ExecuteTime": {
     "end_time": "2019-10-23T17:00:45.133124Z",
     "start_time": "2019-10-23T17:00:44.958530Z"
    },
    "scrolled": true
   },
   "outputs": [
    {
     "data": {
      "text/plain": [
       "LogisticRegression(C=1.0, class_weight=None, dual=False, fit_intercept=True,\n",
       "                   intercept_scaling=1, l1_ratio=None, max_iter=100,\n",
       "                   multi_class='warn', n_jobs=None, penalty='l2',\n",
       "                   random_state=None, solver='warn', tol=0.0001, verbose=0,\n",
       "                   warm_start=False)"
      ]
     },
     "execution_count": 810,
     "metadata": {},
     "output_type": "execute_result"
    }
   ],
   "source": [
    "logreg.fit(X_train_cvec,y_train)"
   ]
  },
  {
   "cell_type": "code",
   "execution_count": 811,
   "metadata": {
    "ExecuteTime": {
     "end_time": "2019-10-23T17:00:45.441631Z",
     "start_time": "2019-10-23T17:00:45.431118Z"
    }
   },
   "outputs": [
    {
     "data": {
      "text/plain": [
       "0.9703611262772015"
      ]
     },
     "execution_count": 811,
     "metadata": {},
     "output_type": "execute_result"
    }
   ],
   "source": [
    "logreg.score(X_train_cvec,y_train)"
   ]
  },
  {
   "cell_type": "code",
   "execution_count": 812,
   "metadata": {
    "ExecuteTime": {
     "end_time": "2019-10-23T17:00:46.947952Z",
     "start_time": "2019-10-23T17:00:46.935051Z"
    }
   },
   "outputs": [
    {
     "data": {
      "text/plain": [
       "0.829433785680861"
      ]
     },
     "execution_count": 812,
     "metadata": {},
     "output_type": "execute_result"
    }
   ],
   "source": [
    "logreg.score(X_test_cvec,y_test)"
   ]
  },
  {
   "cell_type": "code",
   "execution_count": 735,
   "metadata": {
    "ExecuteTime": {
     "end_time": "2019-10-23T09:34:10.683113Z",
     "start_time": "2019-10-23T09:34:10.674447Z"
    }
   },
   "outputs": [
    {
     "data": {
      "text/plain": [
       "(12821, 18496)"
      ]
     },
     "execution_count": 735,
     "metadata": {},
     "output_type": "execute_result"
    }
   ],
   "source": [
    "X_train_cvec.shape"
   ]
  },
  {
   "cell_type": "code",
   "execution_count": null,
   "metadata": {},
   "outputs": [],
   "source": [
    "#### Defining Custom Stop Words to make the problem non-trivial"
   ]
  },
  {
   "cell_type": "markdown",
   "metadata": {},
   "source": [
    "**There are 18496 features**"
   ]
  },
  {
   "cell_type": "markdown",
   "metadata": {},
   "source": [
    "### Preparation of dataframes..."
   ]
  },
  {
   "cell_type": "markdown",
   "metadata": {},
   "source": [
    "#### Lemma and Stem: Tokenize and strip punctuation, then lemmatize/stem"
   ]
  },
  {
   "cell_type": "code",
   "execution_count": 7,
   "metadata": {
    "ExecuteTime": {
     "end_time": "2019-10-24T16:19:25.376426Z",
     "start_time": "2019-10-24T16:19:25.197299Z"
    }
   },
   "outputs": [],
   "source": [
    "from nltk.tokenize import RegexpTokenizer\n",
    "from nltk.stem import PorterStemmer, WordNetLemmatizer\n",
    "lemmer=WordNetLemmatizer()\n",
    "stemmer=PorterStemmer()\n",
    "tokenizer = RegexpTokenizer(r'\\w+')\n",
    "dftoken=pd.DataFrame(df['titles'].apply(lambda x: tokenizer.tokenize(x.lower())))"
   ]
  },
  {
   "cell_type": "code",
   "execution_count": 761,
   "metadata": {
    "ExecuteTime": {
     "end_time": "2019-10-23T16:50:35.489330Z",
     "start_time": "2019-10-23T16:50:35.466464Z"
    },
    "scrolled": true
   },
   "outputs": [
    {
     "data": {
      "text/plain": [
       "0        [founders, brewing, manager, claims, he, didn,...\n",
       "1        [lid, on, 1947, 49, kashmir, files, archives, ...\n",
       "2        [lions, and, rhinos, are, farm, animals, says,...\n",
       "3        [humane, professional, hong, kong, police, for...\n",
       "4        [kashmir, politicians, refuse, to, sign, bond,...\n",
       "5        [chinese, hitmen, jailed, over, repeatedly, ou...\n",
       "6        [man, in, china, pays, hitman, s, 385, 000, to...\n",
       "7        [vegan, struggles, to, get, over, trauma, of, ...\n",
       "8        [kmart, pulls, offensive, children, s, bride, ...\n",
       "9        [real, ham, on, pizza, leaves, aussie, vegan, ...\n",
       "10       [on, j, amp, k, indian, journalist, s, face, o...\n",
       "11       [the, us, nuclear, forces, dr, strangelove, er...\n",
       "12       [pak, singer, poses, with, suicide, vest, to, ...\n",
       "13       [u, s, air, force, retires, its, vintage, nucl...\n",
       "14       [we, don, t, want, to, con, anyone, inventor, ...\n",
       "15       [woman, loses, husband, lover, in, murder, plo...\n",
       "16       [amit, shah, savarkar, and, the, battle, for, ...\n",
       "17       [baby, shark, song, used, to, soothe, toddler,...\n",
       "18       [opposition, parties, join, hands, to, dethron...\n",
       "19       [video, white, man, caught, raping, a, 6, year...\n",
       "20       [proposed, law, would, make, the, b, word, ill...\n",
       "21       [bitch, an, an, insult, would, be, banned, by,...\n",
       "22       [natalie, portman, excited, thor, 4, may, tack...\n",
       "23       [women, told, not, to, flaunt, body, or, confr...\n",
       "24       [delhi, traffic, kidnappers, take, man, in, ca...\n",
       "25                    [kidnappers, hate, this, one, trick]\n",
       "26       [a, lebanese, mother, told, protesters, her, b...\n",
       "27       [the, stumbling, block, of, caste, in, solving...\n",
       "28       [hesitant, hitmen, jailed, over, botched, job,...\n",
       "29       [scientists, have, trained, rats, to, drive, t...\n",
       "                               ...                        \n",
       "17065    [blog, lowe, s, would, again, like, to, remind...\n",
       "17066    [blog, my, republican, colleagues, must, conde...\n",
       "17067    [target, dorm, room, essentials, aisle, being,...\n",
       "17068    [nervous, steve, bannon, binge, eats, entire, ...\n",
       "17069    [charlottesville, suspect, might, have, receiv...\n",
       "17070    [laptop, gets, to, age, when, it, can, be, lig...\n",
       "17071    [life, great, news, for, anyone, who, hates, c...\n",
       "17072    [must, see, after, leaving, his, family, 20, y...\n",
       "17073    [life, at, last, the, mind, behind, lumineers,...\n",
       "17074    [news, desperation, a, starving, emaciated, je...\n",
       "17075    [they, said, what, find, out, what, jamie, oli...\n",
       "17076    [local, dipshit, planning, on, fighting, trump...\n",
       "17077    [god, planning, to, get, rid, of, harsh, shado...\n",
       "17078               [report, mom, sending, you, something]\n",
       "17079    [weird, creepy, guy, just, hanging, around, sa...\n",
       "17080    [man, worried, about, drug, dealer, who, s, no...\n",
       "17081    [slideshow, 7, unbelievably, inspirational, qu...\n",
       "17082    [perfect, day, in, catch, the, orca, show, at,...\n",
       "17083    [report, most, americans, now, getting, their,...\n",
       "17084    [quiz, are, you, having, a, quarter, life, cri...\n",
       "17085    [blog, feminists, don, t, want, to, admit, it,...\n",
       "17086    [culture, shock, everything, you, need, to, kn...\n",
       "17087    [news, incredible, find, this, dinosaur, fossi...\n",
       "17088    [all, flights, grounded, after, faa, officials...\n",
       "17089    [life, the, doctors, told, her, that, her, hus...\n",
       "17090                    [how, trump, writes, his, tweets]\n",
       "17091    [trump, boys, sadly, release, pet, alligator, ...\n",
       "17092    [a, glimpse, into, the, female, world, of, web...\n",
       "17093    [they, said, what, find, out, what, soledad, o...\n",
       "17094    [usd, 1000, paypal, account, only0, 08, bitcoi...\n",
       "Name: titles, Length: 17095, dtype: object"
      ]
     },
     "execution_count": 761,
     "metadata": {},
     "output_type": "execute_result"
    }
   ],
   "source": [
    "dftoken['titles']"
   ]
  },
  {
   "cell_type": "code",
   "execution_count": 762,
   "metadata": {
    "ExecuteTime": {
     "end_time": "2019-10-23T16:50:47.086490Z",
     "start_time": "2019-10-23T16:50:39.444484Z"
    }
   },
   "outputs": [],
   "source": [
    "dflemma=pd.DataFrame(dftoken['titles'].apply(lambda x: ' '.join([lemmer.lemmatize(word) for word in x])))\n",
    "dflemma['target']=df['target']\n",
    "dfstem=pd.DataFrame(dftoken['titles'].apply(lambda x: ' '.join([stemmer.stem(word) for word in x])))\n",
    "dfstem['target']=df['target']"
   ]
  },
  {
   "cell_type": "markdown",
   "metadata": {},
   "source": [
    "#### Lemma2 and Stem2 Lemmatize and treat the punctuation as words "
   ]
  },
  {
   "cell_type": "code",
   "execution_count": 8,
   "metadata": {
    "ExecuteTime": {
     "end_time": "2019-10-24T16:19:28.570199Z",
     "start_time": "2019-10-24T16:19:28.405988Z"
    }
   },
   "outputs": [],
   "source": [
    "from nltk.tokenize import RegexpTokenizer\n",
    "tokenizer = RegexpTokenizer(r'\\w+|[\\'\",\\/+.-]')\n",
    "dftoken2=pd.DataFrame(df['titles'].apply(lambda x: tokenizer.tokenize(x)))"
   ]
  },
  {
   "cell_type": "code",
   "execution_count": 8,
   "metadata": {
    "ExecuteTime": {
     "end_time": "2019-10-24T15:58:46.258945Z",
     "start_time": "2019-10-24T15:58:46.204455Z"
    },
    "scrolled": true
   },
   "outputs": [
    {
     "data": {
      "text/html": [
       "<div>\n",
       "<style scoped>\n",
       "    .dataframe tbody tr th:only-of-type {\n",
       "        vertical-align: middle;\n",
       "    }\n",
       "\n",
       "    .dataframe tbody tr th {\n",
       "        vertical-align: top;\n",
       "    }\n",
       "\n",
       "    .dataframe thead th {\n",
       "        text-align: right;\n",
       "    }\n",
       "</style>\n",
       "<table border=\"1\" class=\"dataframe\">\n",
       "  <thead>\n",
       "    <tr style=\"text-align: right;\">\n",
       "      <th></th>\n",
       "      <th>titles</th>\n",
       "    </tr>\n",
       "  </thead>\n",
       "  <tbody>\n",
       "    <tr>\n",
       "      <th>0</th>\n",
       "      <td>[Founders, Brewing, manager, claims, he, didn,...</td>\n",
       "    </tr>\n",
       "    <tr>\n",
       "      <th>1</th>\n",
       "      <td>[Lid, on, 1947, -, 49, Kashmir, files, Archive...</td>\n",
       "    </tr>\n",
       "    <tr>\n",
       "      <th>2</th>\n",
       "      <td>[Lions, and, rhinos, are, farm, animals, ,, sa...</td>\n",
       "    </tr>\n",
       "    <tr>\n",
       "      <th>3</th>\n",
       "      <td>[Humane, ,, professional, Hong, Kong, police, ...</td>\n",
       "    </tr>\n",
       "    <tr>\n",
       "      <th>4</th>\n",
       "      <td>[Kashmir, Politicians, Refuse, to, Sign, Bond,...</td>\n",
       "    </tr>\n",
       "    <tr>\n",
       "      <th>5</th>\n",
       "      <td>[Chinese, Hitmen, Jailed, Over, Repeatedly, Ou...</td>\n",
       "    </tr>\n",
       "    <tr>\n",
       "      <th>6</th>\n",
       "      <td>[Man, in, China, pays, hitman, S, 385, ,, 000,...</td>\n",
       "    </tr>\n",
       "    <tr>\n",
       "      <th>7</th>\n",
       "      <td>[Vegan, struggles, to, get, over, trauma, of, ...</td>\n",
       "    </tr>\n",
       "    <tr>\n",
       "      <th>8</th>\n",
       "      <td>[Kmart, pulls, ', offensive, ', children, ', s...</td>\n",
       "    </tr>\n",
       "    <tr>\n",
       "      <th>9</th>\n",
       "      <td>[Real, ham, on, pizza, leaves, Aussie, vegan, ...</td>\n",
       "    </tr>\n",
       "    <tr>\n",
       "      <th>10</th>\n",
       "      <td>[On, J, amp, K, ,, Indian, Journalist, ', s, F...</td>\n",
       "    </tr>\n",
       "    <tr>\n",
       "      <th>11</th>\n",
       "      <td>[The, US, nuclear, forces, Dr, ., Strangelove,...</td>\n",
       "    </tr>\n",
       "    <tr>\n",
       "      <th>12</th>\n",
       "      <td>[Pak, singer, poses, with, suicide, vest, to, ...</td>\n",
       "    </tr>\n",
       "    <tr>\n",
       "      <th>13</th>\n",
       "      <td>[U, ., S, ., Air, Force, Retires, Its, Vintage...</td>\n",
       "    </tr>\n",
       "    <tr>\n",
       "      <th>14</th>\n",
       "      <td>[We, don, t, want, to, con, anyone, Inventor, ...</td>\n",
       "    </tr>\n",
       "    <tr>\n",
       "      <th>15</th>\n",
       "      <td>[Woman, loses, husband, ,, lover, in, murder, ...</td>\n",
       "    </tr>\n",
       "    <tr>\n",
       "      <th>16</th>\n",
       "      <td>[Amit, Shah, ,, Savarkar, and, the, battle, fo...</td>\n",
       "    </tr>\n",
       "    <tr>\n",
       "      <th>17</th>\n",
       "      <td>[', Baby, Shark, ', song, used, to, soothe, to...</td>\n",
       "    </tr>\n",
       "    <tr>\n",
       "      <th>18</th>\n",
       "      <td>[Opposition, parties, join, hands, to, dethron...</td>\n",
       "    </tr>\n",
       "    <tr>\n",
       "      <th>19</th>\n",
       "      <td>[VIDEO, White, man, caught, raping, a, 6, -, y...</td>\n",
       "    </tr>\n",
       "    <tr>\n",
       "      <th>20</th>\n",
       "      <td>[Proposed, law, would, make, the, b, -, word, ...</td>\n",
       "    </tr>\n",
       "    <tr>\n",
       "      <th>21</th>\n",
       "      <td>[Bitch, an, an, insult, would, be, banned, by,...</td>\n",
       "    </tr>\n",
       "    <tr>\n",
       "      <th>22</th>\n",
       "      <td>[Natalie, Portman, Excited, Thor, 4, May, Tack...</td>\n",
       "    </tr>\n",
       "    <tr>\n",
       "      <th>23</th>\n",
       "      <td>[Women, told, not, to, flaunt, body, or, confr...</td>\n",
       "    </tr>\n",
       "    <tr>\n",
       "      <th>24</th>\n",
       "      <td>[delhi, traffic, Kidnappers, Take, Man, In, Ca...</td>\n",
       "    </tr>\n",
       "    <tr>\n",
       "      <th>25</th>\n",
       "      <td>[Kidnappers, hate, this, one, trick]</td>\n",
       "    </tr>\n",
       "    <tr>\n",
       "      <th>26</th>\n",
       "      <td>[A, Lebanese, mother, told, protesters, her, b...</td>\n",
       "    </tr>\n",
       "    <tr>\n",
       "      <th>27</th>\n",
       "      <td>[The, Stumbling, Block, of, Caste, in, Solving...</td>\n",
       "    </tr>\n",
       "    <tr>\n",
       "      <th>28</th>\n",
       "      <td>[Hesitant, hitmen, jailed, over, botched, job,...</td>\n",
       "    </tr>\n",
       "    <tr>\n",
       "      <th>29</th>\n",
       "      <td>[Scientists, have, trained, rats, to, drive, t...</td>\n",
       "    </tr>\n",
       "    <tr>\n",
       "      <th>...</th>\n",
       "      <td>...</td>\n",
       "    </tr>\n",
       "    <tr>\n",
       "      <th>17065</th>\n",
       "      <td>[Blog, Lowe, s, Would, Again, Like, To, Remind...</td>\n",
       "    </tr>\n",
       "    <tr>\n",
       "      <th>17066</th>\n",
       "      <td>[Blog, My, Republican, Colleagues, Must, Conde...</td>\n",
       "    </tr>\n",
       "    <tr>\n",
       "      <th>17067</th>\n",
       "      <td>[Target, Dorm, Room, Essentials, Aisle, Being,...</td>\n",
       "    </tr>\n",
       "    <tr>\n",
       "      <th>17068</th>\n",
       "      <td>[Nervous, Steve, Bannon, Binge, -, Eats, Entir...</td>\n",
       "    </tr>\n",
       "    <tr>\n",
       "      <th>17069</th>\n",
       "      <td>[Charlottesville, Suspect, Might, Have, Receiv...</td>\n",
       "    </tr>\n",
       "    <tr>\n",
       "      <th>17070</th>\n",
       "      <td>[Laptop, Gets, To, Age, When, It, Can, Be, Lig...</td>\n",
       "    </tr>\n",
       "    <tr>\n",
       "      <th>17071</th>\n",
       "      <td>[Life, Great, News, For, Anyone, Who, Hates, C...</td>\n",
       "    </tr>\n",
       "    <tr>\n",
       "      <th>17072</th>\n",
       "      <td>[Must, See, After, Leaving, His, Family, 20, Y...</td>\n",
       "    </tr>\n",
       "    <tr>\n",
       "      <th>17073</th>\n",
       "      <td>[Life, At, Last, The, Mind, Behind, Lumineers,...</td>\n",
       "    </tr>\n",
       "    <tr>\n",
       "      <th>17074</th>\n",
       "      <td>[News, Desperation, A, Starving, ,, Emaciated,...</td>\n",
       "    </tr>\n",
       "    <tr>\n",
       "      <th>17075</th>\n",
       "      <td>[They, Said, What, Find, Out, What, Jamie, Oli...</td>\n",
       "    </tr>\n",
       "    <tr>\n",
       "      <th>17076</th>\n",
       "      <td>[Local, Dipshit, Planning, On, Fighting, Trump...</td>\n",
       "    </tr>\n",
       "    <tr>\n",
       "      <th>17077</th>\n",
       "      <td>[God, Planning, To, Get, Rid, Of, Harsh, Shado...</td>\n",
       "    </tr>\n",
       "    <tr>\n",
       "      <th>17078</th>\n",
       "      <td>[Report, Mom, Sending, You, Something]</td>\n",
       "    </tr>\n",
       "    <tr>\n",
       "      <th>17079</th>\n",
       "      <td>[Weird, ,, Creepy, Guy, Just, Hanging, Around,...</td>\n",
       "    </tr>\n",
       "    <tr>\n",
       "      <th>17080</th>\n",
       "      <td>[Man, Worried, About, Drug, Dealer, Who, ', s,...</td>\n",
       "    </tr>\n",
       "    <tr>\n",
       "      <th>17081</th>\n",
       "      <td>[Slideshow, 7, Unbelievably, Inspirational, Qu...</td>\n",
       "    </tr>\n",
       "    <tr>\n",
       "      <th>17082</th>\n",
       "      <td>[Perfect, Day, In, Catch, The, Orca, Show, At,...</td>\n",
       "    </tr>\n",
       "    <tr>\n",
       "      <th>17083</th>\n",
       "      <td>[Report, Most, Americans, Now, Getting, Their,...</td>\n",
       "    </tr>\n",
       "    <tr>\n",
       "      <th>17084</th>\n",
       "      <td>[Quiz, Are, You, Having, A, Quarter, -, Life, ...</td>\n",
       "    </tr>\n",
       "    <tr>\n",
       "      <th>17085</th>\n",
       "      <td>[Blog, Feminists, Don, t, Want, To, Admit, It,...</td>\n",
       "    </tr>\n",
       "    <tr>\n",
       "      <th>17086</th>\n",
       "      <td>[Culture, Shock, Everything, You, Need, To, Kn...</td>\n",
       "    </tr>\n",
       "    <tr>\n",
       "      <th>17087</th>\n",
       "      <td>[News, Incredible, Find, This, Dinosaur, Fossi...</td>\n",
       "    </tr>\n",
       "    <tr>\n",
       "      <th>17088</th>\n",
       "      <td>[All, Flights, Grounded, After, FAA, Officials...</td>\n",
       "    </tr>\n",
       "    <tr>\n",
       "      <th>17089</th>\n",
       "      <td>[Life, The, Doctors, Told, Her, That, Her, Hus...</td>\n",
       "    </tr>\n",
       "    <tr>\n",
       "      <th>17090</th>\n",
       "      <td>[How, Trump, Writes, His, Tweets]</td>\n",
       "    </tr>\n",
       "    <tr>\n",
       "      <th>17091</th>\n",
       "      <td>[Trump, Boys, Sadly, Release, Pet, Alligator, ...</td>\n",
       "    </tr>\n",
       "    <tr>\n",
       "      <th>17092</th>\n",
       "      <td>[A, glimpse, into, the, Female, world, of, Web...</td>\n",
       "    </tr>\n",
       "    <tr>\n",
       "      <th>17093</th>\n",
       "      <td>[They, Said, What, Find, Out, What, Soledad, O...</td>\n",
       "    </tr>\n",
       "    <tr>\n",
       "      <th>17094</th>\n",
       "      <td>[USD, 1000, Paypal, Account, only0, ., 08, Bit...</td>\n",
       "    </tr>\n",
       "  </tbody>\n",
       "</table>\n",
       "<p>17095 rows × 1 columns</p>\n",
       "</div>"
      ],
      "text/plain": [
       "                                                  titles\n",
       "0      [Founders, Brewing, manager, claims, he, didn,...\n",
       "1      [Lid, on, 1947, -, 49, Kashmir, files, Archive...\n",
       "2      [Lions, and, rhinos, are, farm, animals, ,, sa...\n",
       "3      [Humane, ,, professional, Hong, Kong, police, ...\n",
       "4      [Kashmir, Politicians, Refuse, to, Sign, Bond,...\n",
       "5      [Chinese, Hitmen, Jailed, Over, Repeatedly, Ou...\n",
       "6      [Man, in, China, pays, hitman, S, 385, ,, 000,...\n",
       "7      [Vegan, struggles, to, get, over, trauma, of, ...\n",
       "8      [Kmart, pulls, ', offensive, ', children, ', s...\n",
       "9      [Real, ham, on, pizza, leaves, Aussie, vegan, ...\n",
       "10     [On, J, amp, K, ,, Indian, Journalist, ', s, F...\n",
       "11     [The, US, nuclear, forces, Dr, ., Strangelove,...\n",
       "12     [Pak, singer, poses, with, suicide, vest, to, ...\n",
       "13     [U, ., S, ., Air, Force, Retires, Its, Vintage...\n",
       "14     [We, don, t, want, to, con, anyone, Inventor, ...\n",
       "15     [Woman, loses, husband, ,, lover, in, murder, ...\n",
       "16     [Amit, Shah, ,, Savarkar, and, the, battle, fo...\n",
       "17     [', Baby, Shark, ', song, used, to, soothe, to...\n",
       "18     [Opposition, parties, join, hands, to, dethron...\n",
       "19     [VIDEO, White, man, caught, raping, a, 6, -, y...\n",
       "20     [Proposed, law, would, make, the, b, -, word, ...\n",
       "21     [Bitch, an, an, insult, would, be, banned, by,...\n",
       "22     [Natalie, Portman, Excited, Thor, 4, May, Tack...\n",
       "23     [Women, told, not, to, flaunt, body, or, confr...\n",
       "24     [delhi, traffic, Kidnappers, Take, Man, In, Ca...\n",
       "25                  [Kidnappers, hate, this, one, trick]\n",
       "26     [A, Lebanese, mother, told, protesters, her, b...\n",
       "27     [The, Stumbling, Block, of, Caste, in, Solving...\n",
       "28     [Hesitant, hitmen, jailed, over, botched, job,...\n",
       "29     [Scientists, have, trained, rats, to, drive, t...\n",
       "...                                                  ...\n",
       "17065  [Blog, Lowe, s, Would, Again, Like, To, Remind...\n",
       "17066  [Blog, My, Republican, Colleagues, Must, Conde...\n",
       "17067  [Target, Dorm, Room, Essentials, Aisle, Being,...\n",
       "17068  [Nervous, Steve, Bannon, Binge, -, Eats, Entir...\n",
       "17069  [Charlottesville, Suspect, Might, Have, Receiv...\n",
       "17070  [Laptop, Gets, To, Age, When, It, Can, Be, Lig...\n",
       "17071  [Life, Great, News, For, Anyone, Who, Hates, C...\n",
       "17072  [Must, See, After, Leaving, His, Family, 20, Y...\n",
       "17073  [Life, At, Last, The, Mind, Behind, Lumineers,...\n",
       "17074  [News, Desperation, A, Starving, ,, Emaciated,...\n",
       "17075  [They, Said, What, Find, Out, What, Jamie, Oli...\n",
       "17076  [Local, Dipshit, Planning, On, Fighting, Trump...\n",
       "17077  [God, Planning, To, Get, Rid, Of, Harsh, Shado...\n",
       "17078             [Report, Mom, Sending, You, Something]\n",
       "17079  [Weird, ,, Creepy, Guy, Just, Hanging, Around,...\n",
       "17080  [Man, Worried, About, Drug, Dealer, Who, ', s,...\n",
       "17081  [Slideshow, 7, Unbelievably, Inspirational, Qu...\n",
       "17082  [Perfect, Day, In, Catch, The, Orca, Show, At,...\n",
       "17083  [Report, Most, Americans, Now, Getting, Their,...\n",
       "17084  [Quiz, Are, You, Having, A, Quarter, -, Life, ...\n",
       "17085  [Blog, Feminists, Don, t, Want, To, Admit, It,...\n",
       "17086  [Culture, Shock, Everything, You, Need, To, Kn...\n",
       "17087  [News, Incredible, Find, This, Dinosaur, Fossi...\n",
       "17088  [All, Flights, Grounded, After, FAA, Officials...\n",
       "17089  [Life, The, Doctors, Told, Her, That, Her, Hus...\n",
       "17090                  [How, Trump, Writes, His, Tweets]\n",
       "17091  [Trump, Boys, Sadly, Release, Pet, Alligator, ...\n",
       "17092  [A, glimpse, into, the, Female, world, of, Web...\n",
       "17093  [They, Said, What, Find, Out, What, Soledad, O...\n",
       "17094  [USD, 1000, Paypal, Account, only0, ., 08, Bit...\n",
       "\n",
       "[17095 rows x 1 columns]"
      ]
     },
     "execution_count": 8,
     "metadata": {},
     "output_type": "execute_result"
    }
   ],
   "source": [
    "dftoken2"
   ]
  },
  {
   "cell_type": "code",
   "execution_count": 9,
   "metadata": {
    "ExecuteTime": {
     "end_time": "2019-10-24T16:19:41.445260Z",
     "start_time": "2019-10-24T16:19:31.005567Z"
    }
   },
   "outputs": [],
   "source": [
    "dflemma2=pd.DataFrame(dftoken2['titles'].apply(lambda x: ' '.join([lemmer.lemmatize(word.lower()) for word in x])))\n",
    "dflemma2['target']=df['target']\n",
    "dfstem2=pd.DataFrame(dftoken2['titles'].apply(lambda x: ' '.join([stemmer.stem(word.lower()) for word in x])))\n",
    "dfstem2['target']=df['target']"
   ]
  },
  {
   "cell_type": "code",
   "execution_count": 10,
   "metadata": {
    "ExecuteTime": {
     "end_time": "2019-10-24T15:58:59.586084Z",
     "start_time": "2019-10-24T15:58:59.549622Z"
    },
    "scrolled": true
   },
   "outputs": [
    {
     "data": {
      "text/html": [
       "<div>\n",
       "<style scoped>\n",
       "    .dataframe tbody tr th:only-of-type {\n",
       "        vertical-align: middle;\n",
       "    }\n",
       "\n",
       "    .dataframe tbody tr th {\n",
       "        vertical-align: top;\n",
       "    }\n",
       "\n",
       "    .dataframe thead th {\n",
       "        text-align: right;\n",
       "    }\n",
       "</style>\n",
       "<table border=\"1\" class=\"dataframe\">\n",
       "  <thead>\n",
       "    <tr style=\"text-align: right;\">\n",
       "      <th></th>\n",
       "      <th>titles</th>\n",
       "      <th>target</th>\n",
       "    </tr>\n",
       "  </thead>\n",
       "  <tbody>\n",
       "    <tr>\n",
       "      <th>0</th>\n",
       "      <td>founder brew manag claim he didn t know black ...</td>\n",
       "      <td>0.0</td>\n",
       "    </tr>\n",
       "    <tr>\n",
       "      <th>1</th>\n",
       "      <td>lid on 1947 - 49 kashmir file archiv reveal ne...</td>\n",
       "      <td>0.0</td>\n",
       "    </tr>\n",
       "    <tr>\n",
       "      <th>2</th>\n",
       "      <td>lion and rhino are farm anim , say south africa</td>\n",
       "      <td>0.0</td>\n",
       "    </tr>\n",
       "    <tr>\n",
       "      <th>3</th>\n",
       "      <td>human , profession hong kong polic forc to be ...</td>\n",
       "      <td>0.0</td>\n",
       "    </tr>\n",
       "    <tr>\n",
       "      <th>4</th>\n",
       "      <td>kashmir politician refus to sign bond ban them...</td>\n",
       "      <td>0.0</td>\n",
       "    </tr>\n",
       "    <tr>\n",
       "      <th>5</th>\n",
       "      <td>chines hitmen jail over repeatedli outsourc mu...</td>\n",
       "      <td>0.0</td>\n",
       "    </tr>\n",
       "    <tr>\n",
       "      <th>6</th>\n",
       "      <td>man in china pay hitman s 385 , 000 to kill ri...</td>\n",
       "      <td>0.0</td>\n",
       "    </tr>\n",
       "    <tr>\n",
       "      <th>7</th>\n",
       "      <td>vegan struggl to get over trauma of eat domino...</td>\n",
       "      <td>0.0</td>\n",
       "    </tr>\n",
       "    <tr>\n",
       "      <th>8</th>\n",
       "      <td>kmart pull ' offens ' children ' s bride costu...</td>\n",
       "      <td>0.0</td>\n",
       "    </tr>\n",
       "    <tr>\n",
       "      <th>9</th>\n",
       "      <td>real ham on pizza leav aussi vegan feel ' betr...</td>\n",
       "      <td>0.0</td>\n",
       "    </tr>\n",
       "    <tr>\n",
       "      <th>10</th>\n",
       "      <td>on j amp k , indian journalist ' s face - off ...</td>\n",
       "      <td>0.0</td>\n",
       "    </tr>\n",
       "    <tr>\n",
       "      <th>11</th>\n",
       "      <td>the us nuclear forc dr . strangelov - era mess...</td>\n",
       "      <td>0.0</td>\n",
       "    </tr>\n",
       "    <tr>\n",
       "      <th>12</th>\n",
       "      <td>pak singer pose with suicid vest to threaten m...</td>\n",
       "      <td>0.0</td>\n",
       "    </tr>\n",
       "    <tr>\n",
       "      <th>13</th>\n",
       "      <td>u . s . air forc retir it vintag nuclear comma...</td>\n",
       "      <td>0.0</td>\n",
       "    </tr>\n",
       "    <tr>\n",
       "      <th>14</th>\n",
       "      <td>we don t want to con anyon inventor charg 50 ,...</td>\n",
       "      <td>0.0</td>\n",
       "    </tr>\n",
       "    <tr>\n",
       "      <th>15</th>\n",
       "      <td>woman lose husband , lover in murder plot both...</td>\n",
       "      <td>0.0</td>\n",
       "    </tr>\n",
       "    <tr>\n",
       "      <th>16</th>\n",
       "      <td>amit shah , savarkar and the battl for india s...</td>\n",
       "      <td>0.0</td>\n",
       "    </tr>\n",
       "    <tr>\n",
       "      <th>17</th>\n",
       "      <td>' babi shark ' song use to sooth toddler becom...</td>\n",
       "      <td>0.0</td>\n",
       "    </tr>\n",
       "    <tr>\n",
       "      <th>18</th>\n",
       "      <td>opposit parti join hand to dethron pakistan pr...</td>\n",
       "      <td>0.0</td>\n",
       "    </tr>\n",
       "    <tr>\n",
       "      <th>19</th>\n",
       "      <td>video white man caught rape a 6 - year - old s...</td>\n",
       "      <td>0.0</td>\n",
       "    </tr>\n",
       "    <tr>\n",
       "      <th>20</th>\n",
       "      <td>propos law would make the b - word illeg in ma...</td>\n",
       "      <td>0.0</td>\n",
       "    </tr>\n",
       "    <tr>\n",
       "      <th>21</th>\n",
       "      <td>bitch an an insult would be ban by massachuset...</td>\n",
       "      <td>0.0</td>\n",
       "    </tr>\n",
       "    <tr>\n",
       "      <th>22</th>\n",
       "      <td>natali portman excit thor 4 may tackl jane s b...</td>\n",
       "      <td>0.0</td>\n",
       "    </tr>\n",
       "    <tr>\n",
       "      <th>23</th>\n",
       "      <td>women told not to flaunt bodi or confront men ...</td>\n",
       "      <td>0.0</td>\n",
       "    </tr>\n",
       "    <tr>\n",
       "      <th>24</th>\n",
       "      <td>delhi traffic kidnapp take man in car from jan...</td>\n",
       "      <td>0.0</td>\n",
       "    </tr>\n",
       "    <tr>\n",
       "      <th>25</th>\n",
       "      <td>kidnapp hate thi one trick</td>\n",
       "      <td>0.0</td>\n",
       "    </tr>\n",
       "    <tr>\n",
       "      <th>26</th>\n",
       "      <td>a lebanes mother told protest her babi wa scar...</td>\n",
       "      <td>0.0</td>\n",
       "    </tr>\n",
       "    <tr>\n",
       "      <th>27</th>\n",
       "      <td>the stumbl block of cast in solv india s sanit...</td>\n",
       "      <td>0.0</td>\n",
       "    </tr>\n",
       "    <tr>\n",
       "      <th>28</th>\n",
       "      <td>hesit hitmen jail over botch job in china</td>\n",
       "      <td>0.0</td>\n",
       "    </tr>\n",
       "    <tr>\n",
       "      <th>29</th>\n",
       "      <td>scientist have train rat to drive tini car to ...</td>\n",
       "      <td>0.0</td>\n",
       "    </tr>\n",
       "    <tr>\n",
       "      <th>...</th>\n",
       "      <td>...</td>\n",
       "      <td>...</td>\n",
       "    </tr>\n",
       "    <tr>\n",
       "      <th>17065</th>\n",
       "      <td>blog low s would again like to remind custom t...</td>\n",
       "      <td>1.0</td>\n",
       "    </tr>\n",
       "    <tr>\n",
       "      <th>17066</th>\n",
       "      <td>blog my republican colleagu must condemn racis...</td>\n",
       "      <td>1.0</td>\n",
       "    </tr>\n",
       "    <tr>\n",
       "      <th>17067</th>\n",
       "      <td>target dorm room essenti aisl be brows exclus ...</td>\n",
       "      <td>1.0</td>\n",
       "    </tr>\n",
       "    <tr>\n",
       "      <th>17068</th>\n",
       "      <td>nervou steve bannon bing - eat entir class of ...</td>\n",
       "      <td>1.0</td>\n",
       "    </tr>\n",
       "    <tr>\n",
       "      <th>17069</th>\n",
       "      <td>charlottesvil suspect might have receiv tacit ...</td>\n",
       "      <td>1.0</td>\n",
       "    </tr>\n",
       "    <tr>\n",
       "      <th>17070</th>\n",
       "      <td>laptop get to age when it can be lightli toss ...</td>\n",
       "      <td>1.0</td>\n",
       "    </tr>\n",
       "    <tr>\n",
       "      <th>17071</th>\n",
       "      <td>life great news for anyon who hate conner he w...</td>\n",
       "      <td>1.0</td>\n",
       "    </tr>\n",
       "    <tr>\n",
       "      <th>17072</th>\n",
       "      <td>must see after leav hi famili 20 year ago , th...</td>\n",
       "      <td>1.0</td>\n",
       "    </tr>\n",
       "    <tr>\n",
       "      <th>17073</th>\n",
       "      <td>life at last the mind behind lumin - ho hey ly...</td>\n",
       "      <td>1.0</td>\n",
       "    </tr>\n",
       "    <tr>\n",
       "      <th>17074</th>\n",
       "      <td>news desper a starv , emaci jerri seinfeld and...</td>\n",
       "      <td>1.0</td>\n",
       "    </tr>\n",
       "    <tr>\n",
       "      <th>17075</th>\n",
       "      <td>they said what find out what jami oliv , david...</td>\n",
       "      <td>1.0</td>\n",
       "    </tr>\n",
       "    <tr>\n",
       "      <th>17076</th>\n",
       "      <td>local dipshit plan on fight trump administr th...</td>\n",
       "      <td>1.0</td>\n",
       "    </tr>\n",
       "    <tr>\n",
       "      <th>17077</th>\n",
       "      <td>god plan to get rid of harsh shadow by ad seco...</td>\n",
       "      <td>1.0</td>\n",
       "    </tr>\n",
       "    <tr>\n",
       "      <th>17078</th>\n",
       "      <td>report mom send you someth</td>\n",
       "      <td>1.0</td>\n",
       "    </tr>\n",
       "    <tr>\n",
       "      <th>17079</th>\n",
       "      <td>weird , creepi guy just hang around same websi...</td>\n",
       "      <td>1.0</td>\n",
       "    </tr>\n",
       "    <tr>\n",
       "      <th>17080</th>\n",
       "      <td>man worri about drug dealer who ' s not pick u...</td>\n",
       "      <td>1.0</td>\n",
       "    </tr>\n",
       "    <tr>\n",
       "      <th>17081</th>\n",
       "      <td>slideshow 7 unbeliev inspir quot from gandhi a...</td>\n",
       "      <td>1.0</td>\n",
       "    </tr>\n",
       "    <tr>\n",
       "      <th>17082</th>\n",
       "      <td>perfect day in catch the orca show at the louv...</td>\n",
       "      <td>1.0</td>\n",
       "    </tr>\n",
       "    <tr>\n",
       "      <th>17083</th>\n",
       "      <td>report most american now get their news while ...</td>\n",
       "      <td>1.0</td>\n",
       "    </tr>\n",
       "    <tr>\n",
       "      <th>17084</th>\n",
       "      <td>quiz are you have a quarter - life crisi</td>\n",
       "      <td>1.0</td>\n",
       "    </tr>\n",
       "    <tr>\n",
       "      <th>17085</th>\n",
       "      <td>blog feminist don t want to admit it , but it ...</td>\n",
       "      <td>1.0</td>\n",
       "    </tr>\n",
       "    <tr>\n",
       "      <th>17086</th>\n",
       "      <td>cultur shock everyth you need to know about sp...</td>\n",
       "      <td>1.0</td>\n",
       "    </tr>\n",
       "    <tr>\n",
       "      <th>17087</th>\n",
       "      <td>news incred find thi dinosaur fossil wa discov...</td>\n",
       "      <td>1.0</td>\n",
       "    </tr>\n",
       "    <tr>\n",
       "      <th>17088</th>\n",
       "      <td>all flight ground after faa offici suddenli re...</td>\n",
       "      <td>1.0</td>\n",
       "    </tr>\n",
       "    <tr>\n",
       "      <th>17089</th>\n",
       "      <td>life the doctor told her that her husband woul...</td>\n",
       "      <td>1.0</td>\n",
       "    </tr>\n",
       "    <tr>\n",
       "      <th>17090</th>\n",
       "      <td>how trump write hi tweet</td>\n",
       "      <td>1.0</td>\n",
       "    </tr>\n",
       "    <tr>\n",
       "      <th>17091</th>\n",
       "      <td>trump boy sadli releas pet allig into lincoln ...</td>\n",
       "      <td>1.0</td>\n",
       "    </tr>\n",
       "    <tr>\n",
       "      <th>17092</th>\n",
       "      <td>a glimps into the femal world of web design ca...</td>\n",
       "      <td>1.0</td>\n",
       "    </tr>\n",
       "    <tr>\n",
       "      <th>17093</th>\n",
       "      <td>they said what find out what soledad o brien ,...</td>\n",
       "      <td>1.0</td>\n",
       "    </tr>\n",
       "    <tr>\n",
       "      <th>17094</th>\n",
       "      <td>usd 1000 paypal account only0 . 08 bitcoin or ...</td>\n",
       "      <td>1.0</td>\n",
       "    </tr>\n",
       "  </tbody>\n",
       "</table>\n",
       "<p>17095 rows × 2 columns</p>\n",
       "</div>"
      ],
      "text/plain": [
       "                                                  titles  target\n",
       "0      founder brew manag claim he didn t know black ...     0.0\n",
       "1      lid on 1947 - 49 kashmir file archiv reveal ne...     0.0\n",
       "2        lion and rhino are farm anim , say south africa     0.0\n",
       "3      human , profession hong kong polic forc to be ...     0.0\n",
       "4      kashmir politician refus to sign bond ban them...     0.0\n",
       "5      chines hitmen jail over repeatedli outsourc mu...     0.0\n",
       "6      man in china pay hitman s 385 , 000 to kill ri...     0.0\n",
       "7      vegan struggl to get over trauma of eat domino...     0.0\n",
       "8      kmart pull ' offens ' children ' s bride costu...     0.0\n",
       "9      real ham on pizza leav aussi vegan feel ' betr...     0.0\n",
       "10     on j amp k , indian journalist ' s face - off ...     0.0\n",
       "11     the us nuclear forc dr . strangelov - era mess...     0.0\n",
       "12     pak singer pose with suicid vest to threaten m...     0.0\n",
       "13     u . s . air forc retir it vintag nuclear comma...     0.0\n",
       "14     we don t want to con anyon inventor charg 50 ,...     0.0\n",
       "15     woman lose husband , lover in murder plot both...     0.0\n",
       "16     amit shah , savarkar and the battl for india s...     0.0\n",
       "17     ' babi shark ' song use to sooth toddler becom...     0.0\n",
       "18     opposit parti join hand to dethron pakistan pr...     0.0\n",
       "19     video white man caught rape a 6 - year - old s...     0.0\n",
       "20     propos law would make the b - word illeg in ma...     0.0\n",
       "21     bitch an an insult would be ban by massachuset...     0.0\n",
       "22     natali portman excit thor 4 may tackl jane s b...     0.0\n",
       "23     women told not to flaunt bodi or confront men ...     0.0\n",
       "24     delhi traffic kidnapp take man in car from jan...     0.0\n",
       "25                            kidnapp hate thi one trick     0.0\n",
       "26     a lebanes mother told protest her babi wa scar...     0.0\n",
       "27     the stumbl block of cast in solv india s sanit...     0.0\n",
       "28             hesit hitmen jail over botch job in china     0.0\n",
       "29     scientist have train rat to drive tini car to ...     0.0\n",
       "...                                                  ...     ...\n",
       "17065  blog low s would again like to remind custom t...     1.0\n",
       "17066  blog my republican colleagu must condemn racis...     1.0\n",
       "17067  target dorm room essenti aisl be brows exclus ...     1.0\n",
       "17068  nervou steve bannon bing - eat entir class of ...     1.0\n",
       "17069  charlottesvil suspect might have receiv tacit ...     1.0\n",
       "17070  laptop get to age when it can be lightli toss ...     1.0\n",
       "17071  life great news for anyon who hate conner he w...     1.0\n",
       "17072  must see after leav hi famili 20 year ago , th...     1.0\n",
       "17073  life at last the mind behind lumin - ho hey ly...     1.0\n",
       "17074  news desper a starv , emaci jerri seinfeld and...     1.0\n",
       "17075  they said what find out what jami oliv , david...     1.0\n",
       "17076  local dipshit plan on fight trump administr th...     1.0\n",
       "17077  god plan to get rid of harsh shadow by ad seco...     1.0\n",
       "17078                         report mom send you someth     1.0\n",
       "17079  weird , creepi guy just hang around same websi...     1.0\n",
       "17080  man worri about drug dealer who ' s not pick u...     1.0\n",
       "17081  slideshow 7 unbeliev inspir quot from gandhi a...     1.0\n",
       "17082  perfect day in catch the orca show at the louv...     1.0\n",
       "17083  report most american now get their news while ...     1.0\n",
       "17084           quiz are you have a quarter - life crisi     1.0\n",
       "17085  blog feminist don t want to admit it , but it ...     1.0\n",
       "17086  cultur shock everyth you need to know about sp...     1.0\n",
       "17087  news incred find thi dinosaur fossil wa discov...     1.0\n",
       "17088  all flight ground after faa offici suddenli re...     1.0\n",
       "17089  life the doctor told her that her husband woul...     1.0\n",
       "17090                           how trump write hi tweet     1.0\n",
       "17091  trump boy sadli releas pet allig into lincoln ...     1.0\n",
       "17092  a glimps into the femal world of web design ca...     1.0\n",
       "17093  they said what find out what soledad o brien ,...     1.0\n",
       "17094  usd 1000 paypal account only0 . 08 bitcoin or ...     1.0\n",
       "\n",
       "[17095 rows x 2 columns]"
      ]
     },
     "execution_count": 10,
     "metadata": {},
     "output_type": "execute_result"
    }
   ],
   "source": [
    "dfstem2"
   ]
  },
  {
   "cell_type": "markdown",
   "metadata": {},
   "source": [
    "### Hyper-Parameter Search"
   ]
  },
  {
   "cell_type": "markdown",
   "metadata": {},
   "source": [
    "#### Summary of initial search-region"
   ]
  },
  {
   "cell_type": "markdown",
   "metadata": {},
   "source": [
    "A summary of what the hyper-parameter search region:\n",
    "1. 5 Different methods of modifiying the data have been used for the datasets tested:\n",
    "    a. Leave the data as is and tokenize  \n",
    "    b. Split by white space and punctuation then stem/lemmatize all words, dont keep punctuation  \n",
    "    c. Split by white space and punctuation, stem/lemmatize only lower case words and keep punctuation\n",
    "      \n",
    "2. 2 different Vectorizers were tested:  \n",
    "    a. Term Frequency–Inverse Document Frequency Vectorizer \n",
    "    b. Count Vectorizer\n",
    "  \n",
    "3. 2 different classifiers were tested(KNN is unsuitable to the sparse matrix):  \n",
    "    a. Logistic Regression  \n",
    "    b. Multinomial Naive Bayes  \n",
    "    \n",
    "4. I later added in customstop as my custom stopwords, but I had previously found that no stopwords performed better across the board than with english stopwords"
   ]
  },
  {
   "cell_type": "code",
   "execution_count": 6,
   "metadata": {
    "ExecuteTime": {
     "end_time": "2019-10-24T16:19:22.723216Z",
     "start_time": "2019-10-24T16:19:22.718049Z"
    }
   },
   "outputs": [],
   "source": [
    "customstop=['onion','nottheonion']"
   ]
  },
  {
   "cell_type": "markdown",
   "metadata": {},
   "source": [
    "#### Function Definition"
   ]
  },
  {
   "cell_type": "code",
   "execution_count": 768,
   "metadata": {
    "ExecuteTime": {
     "end_time": "2019-10-23T16:51:31.829099Z",
     "start_time": "2019-10-23T16:51:31.814661Z"
    }
   },
   "outputs": [],
   "source": [
    "def SupraPipeline(Dataframes,Vectorizerlist,ClassifierList,Dfnames,pipe_params,methodgridname):\n",
    "    Methodgrid=[]\n",
    "    metnum=len(Dataframes)*len(Vectorizerlist)*len(Classifierlist)\n",
    "    n=0\n",
    "    for index,df in enumerate(Dataframes):\n",
    "        X=Dataframes[index]['titles']\n",
    "        y=Dataframes[index]['target']\n",
    "        X_train,X_test,y_train,y_test=train_test_split(X,y,stratify=y,random_state=23)\n",
    "\n",
    "        for Vectorizer in Vectorizerlist:\n",
    "            for Classifier in ClassifierList:\n",
    "                n+=1\n",
    "                print(f'{n} of {metnum} of methods attempting')\n",
    "                method={}\n",
    "                pipe = Pipeline([\n",
    "                    ('vec', Vectorizer ),\n",
    "                    ('class', Classifier)\n",
    "                ])\n",
    "\n",
    "                gs = GridSearchCV(pipe, param_grid=pipe_params, cv=5,verbose=1,n_jobs=-1)\n",
    "                gs.fit(X_train, y_train)\n",
    "                method=(gs.best_params_)\n",
    "                method['Cross_Val_Score']=(gs.best_score_)\n",
    "                method['Test_Score']=gs.score(X_test,y_test)\n",
    "                method['Vectorizer']=str(Vectorizer).split('(')[0]\n",
    "                method['Data']=str(Dfnames[index])\n",
    "                method['Classifier']=str(Classifier).split('(')[0]\n",
    "                Methodgrid.append(method)\n",
    "                \n",
    "    Methodgrid=pd.DataFrame(Methodgrid)\n",
    "    Methodgrid.to_csv(methodgridname,index=False)\n",
    "    return Methodgrid"
   ]
  },
  {
   "cell_type": "markdown",
   "metadata": {},
   "source": [
    "#### Widesearch across stated parameters"
   ]
  },
  {
   "cell_type": "code",
   "execution_count": 1261,
   "metadata": {
    "ExecuteTime": {
     "end_time": "2019-10-24T10:12:23.289292Z",
     "start_time": "2019-10-24T10:07:26.365694Z"
    },
    "scrolled": true
   },
   "outputs": [
    {
     "name": "stdout",
     "output_type": "stream",
     "text": [
      "1 of 20 of methods attempting\n",
      "Fitting 5 folds for each of 8 candidates, totalling 40 fits\n"
     ]
    },
    {
     "name": "stderr",
     "output_type": "stream",
     "text": [
      "[Parallel(n_jobs=-1)]: Using backend LokyBackend with 4 concurrent workers.\n",
      "[Parallel(n_jobs=-1)]: Done  40 out of  40 | elapsed:   17.8s finished\n",
      "/Users/apple/anaconda3/lib/python3.7/site-packages/sklearn/linear_model/logistic.py:432: FutureWarning: Default solver will be changed to 'lbfgs' in 0.22. Specify a solver to silence this warning.\n",
      "  FutureWarning)\n"
     ]
    },
    {
     "name": "stdout",
     "output_type": "stream",
     "text": [
      "2 of 20 of methods attempting\n",
      "Fitting 5 folds for each of 8 candidates, totalling 40 fits\n"
     ]
    },
    {
     "name": "stderr",
     "output_type": "stream",
     "text": [
      "[Parallel(n_jobs=-1)]: Using backend LokyBackend with 4 concurrent workers.\n",
      "[Parallel(n_jobs=-1)]: Done  40 out of  40 | elapsed:   14.1s finished\n"
     ]
    },
    {
     "name": "stdout",
     "output_type": "stream",
     "text": [
      "3 of 20 of methods attempting\n",
      "Fitting 5 folds for each of 8 candidates, totalling 40 fits\n"
     ]
    },
    {
     "name": "stderr",
     "output_type": "stream",
     "text": [
      "[Parallel(n_jobs=-1)]: Using backend LokyBackend with 4 concurrent workers.\n",
      "[Parallel(n_jobs=-1)]: Done  40 out of  40 | elapsed:   17.4s finished\n",
      "/Users/apple/anaconda3/lib/python3.7/site-packages/sklearn/linear_model/logistic.py:432: FutureWarning: Default solver will be changed to 'lbfgs' in 0.22. Specify a solver to silence this warning.\n",
      "  FutureWarning)\n"
     ]
    },
    {
     "name": "stdout",
     "output_type": "stream",
     "text": [
      "4 of 20 of methods attempting\n",
      "Fitting 5 folds for each of 8 candidates, totalling 40 fits\n"
     ]
    },
    {
     "name": "stderr",
     "output_type": "stream",
     "text": [
      "[Parallel(n_jobs=-1)]: Using backend LokyBackend with 4 concurrent workers.\n",
      "[Parallel(n_jobs=-1)]: Done  40 out of  40 | elapsed:   13.0s finished\n"
     ]
    },
    {
     "name": "stdout",
     "output_type": "stream",
     "text": [
      "5 of 20 of methods attempting\n",
      "Fitting 5 folds for each of 8 candidates, totalling 40 fits\n"
     ]
    },
    {
     "name": "stderr",
     "output_type": "stream",
     "text": [
      "[Parallel(n_jobs=-1)]: Using backend LokyBackend with 4 concurrent workers.\n",
      "[Parallel(n_jobs=-1)]: Done  40 out of  40 | elapsed:   13.9s finished\n",
      "/Users/apple/anaconda3/lib/python3.7/site-packages/sklearn/linear_model/logistic.py:432: FutureWarning: Default solver will be changed to 'lbfgs' in 0.22. Specify a solver to silence this warning.\n",
      "  FutureWarning)\n"
     ]
    },
    {
     "name": "stdout",
     "output_type": "stream",
     "text": [
      "6 of 20 of methods attempting\n",
      "Fitting 5 folds for each of 8 candidates, totalling 40 fits\n"
     ]
    },
    {
     "name": "stderr",
     "output_type": "stream",
     "text": [
      "[Parallel(n_jobs=-1)]: Using backend LokyBackend with 4 concurrent workers.\n",
      "[Parallel(n_jobs=-1)]: Done  40 out of  40 | elapsed:   11.6s finished\n"
     ]
    },
    {
     "name": "stdout",
     "output_type": "stream",
     "text": [
      "7 of 20 of methods attempting\n",
      "Fitting 5 folds for each of 8 candidates, totalling 40 fits\n"
     ]
    },
    {
     "name": "stderr",
     "output_type": "stream",
     "text": [
      "[Parallel(n_jobs=-1)]: Using backend LokyBackend with 4 concurrent workers.\n",
      "[Parallel(n_jobs=-1)]: Done  40 out of  40 | elapsed:   18.0s finished\n",
      "/Users/apple/anaconda3/lib/python3.7/site-packages/sklearn/linear_model/logistic.py:432: FutureWarning: Default solver will be changed to 'lbfgs' in 0.22. Specify a solver to silence this warning.\n",
      "  FutureWarning)\n"
     ]
    },
    {
     "name": "stdout",
     "output_type": "stream",
     "text": [
      "8 of 20 of methods attempting\n",
      "Fitting 5 folds for each of 8 candidates, totalling 40 fits\n"
     ]
    },
    {
     "name": "stderr",
     "output_type": "stream",
     "text": [
      "[Parallel(n_jobs=-1)]: Using backend LokyBackend with 4 concurrent workers.\n",
      "[Parallel(n_jobs=-1)]: Done  40 out of  40 | elapsed:   12.8s finished\n"
     ]
    },
    {
     "name": "stdout",
     "output_type": "stream",
     "text": [
      "9 of 20 of methods attempting\n",
      "Fitting 5 folds for each of 8 candidates, totalling 40 fits\n"
     ]
    },
    {
     "name": "stderr",
     "output_type": "stream",
     "text": [
      "[Parallel(n_jobs=-1)]: Using backend LokyBackend with 4 concurrent workers.\n",
      "[Parallel(n_jobs=-1)]: Done  40 out of  40 | elapsed:   13.1s finished\n",
      "/Users/apple/anaconda3/lib/python3.7/site-packages/sklearn/linear_model/logistic.py:432: FutureWarning: Default solver will be changed to 'lbfgs' in 0.22. Specify a solver to silence this warning.\n",
      "  FutureWarning)\n"
     ]
    },
    {
     "name": "stdout",
     "output_type": "stream",
     "text": [
      "10 of 20 of methods attempting\n",
      "Fitting 5 folds for each of 8 candidates, totalling 40 fits\n"
     ]
    },
    {
     "name": "stderr",
     "output_type": "stream",
     "text": [
      "[Parallel(n_jobs=-1)]: Using backend LokyBackend with 4 concurrent workers.\n",
      "[Parallel(n_jobs=-1)]: Done  40 out of  40 | elapsed:   11.6s finished\n"
     ]
    },
    {
     "name": "stdout",
     "output_type": "stream",
     "text": [
      "11 of 20 of methods attempting\n",
      "Fitting 5 folds for each of 8 candidates, totalling 40 fits\n"
     ]
    },
    {
     "name": "stderr",
     "output_type": "stream",
     "text": [
      "[Parallel(n_jobs=-1)]: Using backend LokyBackend with 4 concurrent workers.\n",
      "[Parallel(n_jobs=-1)]: Done  40 out of  40 | elapsed:   14.9s finished\n",
      "/Users/apple/anaconda3/lib/python3.7/site-packages/sklearn/linear_model/logistic.py:432: FutureWarning: Default solver will be changed to 'lbfgs' in 0.22. Specify a solver to silence this warning.\n",
      "  FutureWarning)\n"
     ]
    },
    {
     "name": "stdout",
     "output_type": "stream",
     "text": [
      "12 of 20 of methods attempting\n",
      "Fitting 5 folds for each of 8 candidates, totalling 40 fits\n"
     ]
    },
    {
     "name": "stderr",
     "output_type": "stream",
     "text": [
      "[Parallel(n_jobs=-1)]: Using backend LokyBackend with 4 concurrent workers.\n",
      "[Parallel(n_jobs=-1)]: Done  40 out of  40 | elapsed:   10.6s finished\n"
     ]
    },
    {
     "name": "stdout",
     "output_type": "stream",
     "text": [
      "13 of 20 of methods attempting\n",
      "Fitting 5 folds for each of 8 candidates, totalling 40 fits\n"
     ]
    },
    {
     "name": "stderr",
     "output_type": "stream",
     "text": [
      "[Parallel(n_jobs=-1)]: Using backend LokyBackend with 4 concurrent workers.\n",
      "[Parallel(n_jobs=-1)]: Done  40 out of  40 | elapsed:   12.3s finished\n",
      "/Users/apple/anaconda3/lib/python3.7/site-packages/sklearn/linear_model/logistic.py:432: FutureWarning: Default solver will be changed to 'lbfgs' in 0.22. Specify a solver to silence this warning.\n",
      "  FutureWarning)\n"
     ]
    },
    {
     "name": "stdout",
     "output_type": "stream",
     "text": [
      "14 of 20 of methods attempting\n",
      "Fitting 5 folds for each of 8 candidates, totalling 40 fits\n"
     ]
    },
    {
     "name": "stderr",
     "output_type": "stream",
     "text": [
      "[Parallel(n_jobs=-1)]: Using backend LokyBackend with 4 concurrent workers.\n",
      "[Parallel(n_jobs=-1)]: Done  40 out of  40 | elapsed:   11.4s finished\n"
     ]
    },
    {
     "name": "stdout",
     "output_type": "stream",
     "text": [
      "15 of 20 of methods attempting\n",
      "Fitting 5 folds for each of 8 candidates, totalling 40 fits\n"
     ]
    },
    {
     "name": "stderr",
     "output_type": "stream",
     "text": [
      "[Parallel(n_jobs=-1)]: Using backend LokyBackend with 4 concurrent workers.\n",
      "[Parallel(n_jobs=-1)]: Done  40 out of  40 | elapsed:   14.7s finished\n",
      "/Users/apple/anaconda3/lib/python3.7/site-packages/sklearn/linear_model/logistic.py:432: FutureWarning: Default solver will be changed to 'lbfgs' in 0.22. Specify a solver to silence this warning.\n",
      "  FutureWarning)\n"
     ]
    },
    {
     "name": "stdout",
     "output_type": "stream",
     "text": [
      "16 of 20 of methods attempting\n",
      "Fitting 5 folds for each of 8 candidates, totalling 40 fits\n"
     ]
    },
    {
     "name": "stderr",
     "output_type": "stream",
     "text": [
      "[Parallel(n_jobs=-1)]: Using backend LokyBackend with 4 concurrent workers.\n",
      "[Parallel(n_jobs=-1)]: Done  40 out of  40 | elapsed:   11.6s finished\n"
     ]
    },
    {
     "name": "stdout",
     "output_type": "stream",
     "text": [
      "17 of 20 of methods attempting\n",
      "Fitting 5 folds for each of 8 candidates, totalling 40 fits\n"
     ]
    },
    {
     "name": "stderr",
     "output_type": "stream",
     "text": [
      "[Parallel(n_jobs=-1)]: Using backend LokyBackend with 4 concurrent workers.\n",
      "[Parallel(n_jobs=-1)]: Done  40 out of  40 | elapsed:   12.1s finished\n",
      "/Users/apple/anaconda3/lib/python3.7/site-packages/sklearn/linear_model/logistic.py:432: FutureWarning: Default solver will be changed to 'lbfgs' in 0.22. Specify a solver to silence this warning.\n",
      "  FutureWarning)\n"
     ]
    },
    {
     "name": "stdout",
     "output_type": "stream",
     "text": [
      "18 of 20 of methods attempting\n",
      "Fitting 5 folds for each of 8 candidates, totalling 40 fits\n"
     ]
    },
    {
     "name": "stderr",
     "output_type": "stream",
     "text": [
      "[Parallel(n_jobs=-1)]: Using backend LokyBackend with 4 concurrent workers.\n",
      "[Parallel(n_jobs=-1)]: Done  40 out of  40 | elapsed:   12.0s finished\n"
     ]
    },
    {
     "name": "stdout",
     "output_type": "stream",
     "text": [
      "19 of 20 of methods attempting\n",
      "Fitting 5 folds for each of 8 candidates, totalling 40 fits\n"
     ]
    },
    {
     "name": "stderr",
     "output_type": "stream",
     "text": [
      "[Parallel(n_jobs=-1)]: Using backend LokyBackend with 4 concurrent workers.\n",
      "[Parallel(n_jobs=-1)]: Done  40 out of  40 | elapsed:   15.9s finished\n",
      "/Users/apple/anaconda3/lib/python3.7/site-packages/sklearn/linear_model/logistic.py:432: FutureWarning: Default solver will be changed to 'lbfgs' in 0.22. Specify a solver to silence this warning.\n",
      "  FutureWarning)\n"
     ]
    },
    {
     "name": "stdout",
     "output_type": "stream",
     "text": [
      "20 of 20 of methods attempting\n",
      "Fitting 5 folds for each of 8 candidates, totalling 40 fits\n"
     ]
    },
    {
     "name": "stderr",
     "output_type": "stream",
     "text": [
      "[Parallel(n_jobs=-1)]: Using backend LokyBackend with 4 concurrent workers.\n",
      "[Parallel(n_jobs=-1)]: Done  40 out of  40 | elapsed:   12.7s finished\n"
     ]
    }
   ],
   "source": [
    "df.to_csv()\n",
    "Vectorizerlist=[TfidfVectorizer(),CountVectorizer()]\n",
    "Dataframes=[df,dflemma,dfstem,dflemma2,dfstem2]\n",
    "Dfnames=['df','dflemma','dfstem','dflemma2','dfstem2']\n",
    "Classifierlist=[LogisticRegression(),MultinomialNB()]\n",
    "pipe_params = {\n",
    "                    'vec__max_features': [int(i) for i in np.linspace(5000,20000,4)],\n",
    "                    'vec__min_df': [2],\n",
    "                    'vec__max_df': [.95],\n",
    "                    'vec__ngram_range': [(1,1),(1,2)],\n",
    "                    'vec__stop_words':[customstop],\n",
    "                    'vec__token_pattern':[r'\\S+']\n",
    "                }\n",
    "\n",
    "#widesearch=SupraPipeline(Dataframes,Vectorizerlist,Classifierlist,Dfnames,pipe_params,'Methodgrid.csv')"
   ]
  },
  {
   "cell_type": "code",
   "execution_count": 1264,
   "metadata": {
    "ExecuteTime": {
     "end_time": "2019-10-24T10:12:40.391027Z",
     "start_time": "2019-10-24T10:12:40.379400Z"
    }
   },
   "outputs": [],
   "source": [
    "widesearch=pd.read_csv('Methodgrid.csv')"
   ]
  },
  {
   "cell_type": "code",
   "execution_count": 1265,
   "metadata": {
    "ExecuteTime": {
     "end_time": "2019-10-24T10:12:40.756194Z",
     "start_time": "2019-10-24T10:12:40.725207Z"
    },
    "scrolled": true
   },
   "outputs": [
    {
     "data": {
      "text/html": [
       "<div>\n",
       "<style scoped>\n",
       "    .dataframe tbody tr th:only-of-type {\n",
       "        vertical-align: middle;\n",
       "    }\n",
       "\n",
       "    .dataframe tbody tr th {\n",
       "        vertical-align: top;\n",
       "    }\n",
       "\n",
       "    .dataframe thead th {\n",
       "        text-align: right;\n",
       "    }\n",
       "</style>\n",
       "<table border=\"1\" class=\"dataframe\">\n",
       "  <thead>\n",
       "    <tr style=\"text-align: right;\">\n",
       "      <th></th>\n",
       "      <th>Classifier</th>\n",
       "      <th>Cross_Val_Score</th>\n",
       "      <th>Data</th>\n",
       "      <th>Test_Score</th>\n",
       "      <th>Vectorizer</th>\n",
       "      <th>vec__max_df</th>\n",
       "      <th>vec__max_features</th>\n",
       "      <th>vec__min_df</th>\n",
       "      <th>vec__ngram_range</th>\n",
       "      <th>vec__stop_words</th>\n",
       "      <th>vec__token_pattern</th>\n",
       "    </tr>\n",
       "  </thead>\n",
       "  <tbody>\n",
       "    <tr>\n",
       "      <th>14</th>\n",
       "      <td>LogisticRegression</td>\n",
       "      <td>0.849856</td>\n",
       "      <td>dflemma2</td>\n",
       "      <td>0.855873</td>\n",
       "      <td>CountVectorizer</td>\n",
       "      <td>0.95</td>\n",
       "      <td>20000</td>\n",
       "      <td>2</td>\n",
       "      <td>(1, 2)</td>\n",
       "      <td>['onion', 'nottheonion']</td>\n",
       "      <td>\\S+</td>\n",
       "    </tr>\n",
       "    <tr>\n",
       "      <th>18</th>\n",
       "      <td>LogisticRegression</td>\n",
       "      <td>0.845878</td>\n",
       "      <td>dfstem2</td>\n",
       "      <td>0.855405</td>\n",
       "      <td>CountVectorizer</td>\n",
       "      <td>0.95</td>\n",
       "      <td>20000</td>\n",
       "      <td>2</td>\n",
       "      <td>(1, 2)</td>\n",
       "      <td>['onion', 'nottheonion']</td>\n",
       "      <td>\\S+</td>\n",
       "    </tr>\n",
       "    <tr>\n",
       "      <th>15</th>\n",
       "      <td>MultinomialNB</td>\n",
       "      <td>0.840730</td>\n",
       "      <td>dflemma2</td>\n",
       "      <td>0.857745</td>\n",
       "      <td>CountVectorizer</td>\n",
       "      <td>0.95</td>\n",
       "      <td>20000</td>\n",
       "      <td>2</td>\n",
       "      <td>(1, 2)</td>\n",
       "      <td>['onion', 'nottheonion']</td>\n",
       "      <td>\\S+</td>\n",
       "    </tr>\n",
       "    <tr>\n",
       "      <th>19</th>\n",
       "      <td>MultinomialNB</td>\n",
       "      <td>0.840574</td>\n",
       "      <td>dfstem2</td>\n",
       "      <td>0.856809</td>\n",
       "      <td>CountVectorizer</td>\n",
       "      <td>0.95</td>\n",
       "      <td>20000</td>\n",
       "      <td>2</td>\n",
       "      <td>(1, 2)</td>\n",
       "      <td>['onion', 'nottheonion']</td>\n",
       "      <td>\\S+</td>\n",
       "    </tr>\n",
       "    <tr>\n",
       "      <th>16</th>\n",
       "      <td>LogisticRegression</td>\n",
       "      <td>0.838936</td>\n",
       "      <td>dfstem2</td>\n",
       "      <td>0.856809</td>\n",
       "      <td>TfidfVectorizer</td>\n",
       "      <td>0.95</td>\n",
       "      <td>15000</td>\n",
       "      <td>2</td>\n",
       "      <td>(1, 2)</td>\n",
       "      <td>['onion', 'nottheonion']</td>\n",
       "      <td>\\S+</td>\n",
       "    </tr>\n",
       "    <tr>\n",
       "      <th>13</th>\n",
       "      <td>MultinomialNB</td>\n",
       "      <td>0.838702</td>\n",
       "      <td>dflemma2</td>\n",
       "      <td>0.852363</td>\n",
       "      <td>TfidfVectorizer</td>\n",
       "      <td>0.95</td>\n",
       "      <td>20000</td>\n",
       "      <td>2</td>\n",
       "      <td>(1, 2)</td>\n",
       "      <td>['onion', 'nottheonion']</td>\n",
       "      <td>\\S+</td>\n",
       "    </tr>\n",
       "    <tr>\n",
       "      <th>17</th>\n",
       "      <td>MultinomialNB</td>\n",
       "      <td>0.838546</td>\n",
       "      <td>dfstem2</td>\n",
       "      <td>0.853767</td>\n",
       "      <td>TfidfVectorizer</td>\n",
       "      <td>0.95</td>\n",
       "      <td>20000</td>\n",
       "      <td>2</td>\n",
       "      <td>(1, 2)</td>\n",
       "      <td>['onion', 'nottheonion']</td>\n",
       "      <td>\\S+</td>\n",
       "    </tr>\n",
       "    <tr>\n",
       "      <th>12</th>\n",
       "      <td>LogisticRegression</td>\n",
       "      <td>0.837922</td>\n",
       "      <td>dflemma2</td>\n",
       "      <td>0.855405</td>\n",
       "      <td>TfidfVectorizer</td>\n",
       "      <td>0.95</td>\n",
       "      <td>15000</td>\n",
       "      <td>2</td>\n",
       "      <td>(1, 2)</td>\n",
       "      <td>['onion', 'nottheonion']</td>\n",
       "      <td>\\S+</td>\n",
       "    </tr>\n",
       "    <tr>\n",
       "      <th>10</th>\n",
       "      <td>LogisticRegression</td>\n",
       "      <td>0.837766</td>\n",
       "      <td>dfstem</td>\n",
       "      <td>0.844408</td>\n",
       "      <td>CountVectorizer</td>\n",
       "      <td>0.95</td>\n",
       "      <td>20000</td>\n",
       "      <td>2</td>\n",
       "      <td>(1, 2)</td>\n",
       "      <td>['onion', 'nottheonion']</td>\n",
       "      <td>\\S+</td>\n",
       "    </tr>\n",
       "    <tr>\n",
       "      <th>6</th>\n",
       "      <td>LogisticRegression</td>\n",
       "      <td>0.835270</td>\n",
       "      <td>dflemma</td>\n",
       "      <td>0.843706</td>\n",
       "      <td>CountVectorizer</td>\n",
       "      <td>0.95</td>\n",
       "      <td>20000</td>\n",
       "      <td>2</td>\n",
       "      <td>(1, 2)</td>\n",
       "      <td>['onion', 'nottheonion']</td>\n",
       "      <td>\\S+</td>\n",
       "    </tr>\n",
       "    <tr>\n",
       "      <th>2</th>\n",
       "      <td>LogisticRegression</td>\n",
       "      <td>0.831526</td>\n",
       "      <td>df</td>\n",
       "      <td>0.849321</td>\n",
       "      <td>CountVectorizer</td>\n",
       "      <td>0.95</td>\n",
       "      <td>20000</td>\n",
       "      <td>2</td>\n",
       "      <td>(1, 2)</td>\n",
       "      <td>['onion', 'nottheonion']</td>\n",
       "      <td>\\S+</td>\n",
       "    </tr>\n",
       "    <tr>\n",
       "      <th>4</th>\n",
       "      <td>LogisticRegression</td>\n",
       "      <td>0.830434</td>\n",
       "      <td>dflemma</td>\n",
       "      <td>0.836219</td>\n",
       "      <td>TfidfVectorizer</td>\n",
       "      <td>0.95</td>\n",
       "      <td>15000</td>\n",
       "      <td>2</td>\n",
       "      <td>(1, 2)</td>\n",
       "      <td>['onion', 'nottheonion']</td>\n",
       "      <td>\\S+</td>\n",
       "    </tr>\n",
       "    <tr>\n",
       "      <th>8</th>\n",
       "      <td>LogisticRegression</td>\n",
       "      <td>0.828641</td>\n",
       "      <td>dfstem</td>\n",
       "      <td>0.838793</td>\n",
       "      <td>TfidfVectorizer</td>\n",
       "      <td>0.95</td>\n",
       "      <td>15000</td>\n",
       "      <td>2</td>\n",
       "      <td>(1, 2)</td>\n",
       "      <td>['onion', 'nottheonion']</td>\n",
       "      <td>\\S+</td>\n",
       "    </tr>\n",
       "    <tr>\n",
       "      <th>7</th>\n",
       "      <td>MultinomialNB</td>\n",
       "      <td>0.826379</td>\n",
       "      <td>dflemma</td>\n",
       "      <td>0.841600</td>\n",
       "      <td>CountVectorizer</td>\n",
       "      <td>0.95</td>\n",
       "      <td>20000</td>\n",
       "      <td>2</td>\n",
       "      <td>(1, 2)</td>\n",
       "      <td>['onion', 'nottheonion']</td>\n",
       "      <td>\\S+</td>\n",
       "    </tr>\n",
       "    <tr>\n",
       "      <th>11</th>\n",
       "      <td>MultinomialNB</td>\n",
       "      <td>0.826145</td>\n",
       "      <td>dfstem</td>\n",
       "      <td>0.845812</td>\n",
       "      <td>CountVectorizer</td>\n",
       "      <td>0.95</td>\n",
       "      <td>20000</td>\n",
       "      <td>2</td>\n",
       "      <td>(1, 2)</td>\n",
       "      <td>['onion', 'nottheonion']</td>\n",
       "      <td>\\S+</td>\n",
       "    </tr>\n",
       "    <tr>\n",
       "      <th>9</th>\n",
       "      <td>MultinomialNB</td>\n",
       "      <td>0.824507</td>\n",
       "      <td>dfstem</td>\n",
       "      <td>0.838091</td>\n",
       "      <td>TfidfVectorizer</td>\n",
       "      <td>0.95</td>\n",
       "      <td>20000</td>\n",
       "      <td>2</td>\n",
       "      <td>(1, 2)</td>\n",
       "      <td>['onion', 'nottheonion']</td>\n",
       "      <td>\\S+</td>\n",
       "    </tr>\n",
       "    <tr>\n",
       "      <th>3</th>\n",
       "      <td>MultinomialNB</td>\n",
       "      <td>0.824429</td>\n",
       "      <td>df</td>\n",
       "      <td>0.840431</td>\n",
       "      <td>CountVectorizer</td>\n",
       "      <td>0.95</td>\n",
       "      <td>20000</td>\n",
       "      <td>2</td>\n",
       "      <td>(1, 2)</td>\n",
       "      <td>['onion', 'nottheonion']</td>\n",
       "      <td>\\S+</td>\n",
       "    </tr>\n",
       "    <tr>\n",
       "      <th>0</th>\n",
       "      <td>LogisticRegression</td>\n",
       "      <td>0.824351</td>\n",
       "      <td>df</td>\n",
       "      <td>0.839729</td>\n",
       "      <td>TfidfVectorizer</td>\n",
       "      <td>0.95</td>\n",
       "      <td>20000</td>\n",
       "      <td>2</td>\n",
       "      <td>(1, 2)</td>\n",
       "      <td>['onion', 'nottheonion']</td>\n",
       "      <td>\\S+</td>\n",
       "    </tr>\n",
       "    <tr>\n",
       "      <th>5</th>\n",
       "      <td>MultinomialNB</td>\n",
       "      <td>0.823493</td>\n",
       "      <td>dflemma</td>\n",
       "      <td>0.837155</td>\n",
       "      <td>TfidfVectorizer</td>\n",
       "      <td>0.95</td>\n",
       "      <td>15000</td>\n",
       "      <td>2</td>\n",
       "      <td>(1, 2)</td>\n",
       "      <td>['onion', 'nottheonion']</td>\n",
       "      <td>\\S+</td>\n",
       "    </tr>\n",
       "    <tr>\n",
       "      <th>1</th>\n",
       "      <td>MultinomialNB</td>\n",
       "      <td>0.821621</td>\n",
       "      <td>df</td>\n",
       "      <td>0.837857</td>\n",
       "      <td>TfidfVectorizer</td>\n",
       "      <td>0.95</td>\n",
       "      <td>10000</td>\n",
       "      <td>2</td>\n",
       "      <td>(1, 1)</td>\n",
       "      <td>['onion', 'nottheonion']</td>\n",
       "      <td>\\S+</td>\n",
       "    </tr>\n",
       "  </tbody>\n",
       "</table>\n",
       "</div>"
      ],
      "text/plain": [
       "            Classifier  Cross_Val_Score      Data  Test_Score  \\\n",
       "14  LogisticRegression         0.849856  dflemma2    0.855873   \n",
       "18  LogisticRegression         0.845878   dfstem2    0.855405   \n",
       "15       MultinomialNB         0.840730  dflemma2    0.857745   \n",
       "19       MultinomialNB         0.840574   dfstem2    0.856809   \n",
       "16  LogisticRegression         0.838936   dfstem2    0.856809   \n",
       "13       MultinomialNB         0.838702  dflemma2    0.852363   \n",
       "17       MultinomialNB         0.838546   dfstem2    0.853767   \n",
       "12  LogisticRegression         0.837922  dflemma2    0.855405   \n",
       "10  LogisticRegression         0.837766    dfstem    0.844408   \n",
       "6   LogisticRegression         0.835270   dflemma    0.843706   \n",
       "2   LogisticRegression         0.831526        df    0.849321   \n",
       "4   LogisticRegression         0.830434   dflemma    0.836219   \n",
       "8   LogisticRegression         0.828641    dfstem    0.838793   \n",
       "7        MultinomialNB         0.826379   dflemma    0.841600   \n",
       "11       MultinomialNB         0.826145    dfstem    0.845812   \n",
       "9        MultinomialNB         0.824507    dfstem    0.838091   \n",
       "3        MultinomialNB         0.824429        df    0.840431   \n",
       "0   LogisticRegression         0.824351        df    0.839729   \n",
       "5        MultinomialNB         0.823493   dflemma    0.837155   \n",
       "1        MultinomialNB         0.821621        df    0.837857   \n",
       "\n",
       "         Vectorizer  vec__max_df  vec__max_features  vec__min_df  \\\n",
       "14  CountVectorizer         0.95              20000            2   \n",
       "18  CountVectorizer         0.95              20000            2   \n",
       "15  CountVectorizer         0.95              20000            2   \n",
       "19  CountVectorizer         0.95              20000            2   \n",
       "16  TfidfVectorizer         0.95              15000            2   \n",
       "13  TfidfVectorizer         0.95              20000            2   \n",
       "17  TfidfVectorizer         0.95              20000            2   \n",
       "12  TfidfVectorizer         0.95              15000            2   \n",
       "10  CountVectorizer         0.95              20000            2   \n",
       "6   CountVectorizer         0.95              20000            2   \n",
       "2   CountVectorizer         0.95              20000            2   \n",
       "4   TfidfVectorizer         0.95              15000            2   \n",
       "8   TfidfVectorizer         0.95              15000            2   \n",
       "7   CountVectorizer         0.95              20000            2   \n",
       "11  CountVectorizer         0.95              20000            2   \n",
       "9   TfidfVectorizer         0.95              20000            2   \n",
       "3   CountVectorizer         0.95              20000            2   \n",
       "0   TfidfVectorizer         0.95              20000            2   \n",
       "5   TfidfVectorizer         0.95              15000            2   \n",
       "1   TfidfVectorizer         0.95              10000            2   \n",
       "\n",
       "   vec__ngram_range           vec__stop_words vec__token_pattern  \n",
       "14           (1, 2)  ['onion', 'nottheonion']                \\S+  \n",
       "18           (1, 2)  ['onion', 'nottheonion']                \\S+  \n",
       "15           (1, 2)  ['onion', 'nottheonion']                \\S+  \n",
       "19           (1, 2)  ['onion', 'nottheonion']                \\S+  \n",
       "16           (1, 2)  ['onion', 'nottheonion']                \\S+  \n",
       "13           (1, 2)  ['onion', 'nottheonion']                \\S+  \n",
       "17           (1, 2)  ['onion', 'nottheonion']                \\S+  \n",
       "12           (1, 2)  ['onion', 'nottheonion']                \\S+  \n",
       "10           (1, 2)  ['onion', 'nottheonion']                \\S+  \n",
       "6            (1, 2)  ['onion', 'nottheonion']                \\S+  \n",
       "2            (1, 2)  ['onion', 'nottheonion']                \\S+  \n",
       "4            (1, 2)  ['onion', 'nottheonion']                \\S+  \n",
       "8            (1, 2)  ['onion', 'nottheonion']                \\S+  \n",
       "7            (1, 2)  ['onion', 'nottheonion']                \\S+  \n",
       "11           (1, 2)  ['onion', 'nottheonion']                \\S+  \n",
       "9            (1, 2)  ['onion', 'nottheonion']                \\S+  \n",
       "3            (1, 2)  ['onion', 'nottheonion']                \\S+  \n",
       "0            (1, 2)  ['onion', 'nottheonion']                \\S+  \n",
       "5            (1, 2)  ['onion', 'nottheonion']                \\S+  \n",
       "1            (1, 1)  ['onion', 'nottheonion']                \\S+  "
      ]
     },
     "execution_count": 1265,
     "metadata": {},
     "output_type": "execute_result"
    }
   ],
   "source": [
    "widesearch.sort_values('Cross_Val_Score',ascending=False)"
   ]
  },
  {
   "cell_type": "markdown",
   "metadata": {},
   "source": [
    "#### Dropping of weaker performing datasets \n",
    "\n",
    "**Since we see that the the datasets dflemma2 and dfstem2, where the punctuation is not stripped perform best, we keep them and search a wider range of parameters for individual classifiers. Having no stopwords also makes the model perform better, so we keep that parameter as well as using bigrams**"
   ]
  },
  {
   "cell_type": "markdown",
   "metadata": {},
   "source": [
    "#### Multinomial Naive Bayes Optimization\n",
    "\n",
    "The Count Vectorization method has been shown to work better with Naive Bayes, so we adopt this"
   ]
  },
  {
   "cell_type": "code",
   "execution_count": 1279,
   "metadata": {
    "ExecuteTime": {
     "end_time": "2019-10-24T10:21:28.848708Z",
     "start_time": "2019-10-24T10:21:28.711346Z"
    },
    "scrolled": false
   },
   "outputs": [],
   "source": [
    "df.to_csv()\n",
    "Vectorizerlist=[CountVectorizer()]\n",
    "Dataframes=[dflemma2,dfstem2]\n",
    "Dfnames=['dflemma2','dfstem2']\n",
    "Classifierlist=[MultinomialNB()]\n",
    "pipe_params = {\n",
    "\n",
    "                    'vec__max_features': [10000,15000,17500,None],\n",
    "                    'vec__min_df': [2],\n",
    "                    'vec__max_df': [.95,.9],\n",
    "                    'vec__ngram_range': [(1,2)],\n",
    "                    'vec__stop_words':[customstop],\n",
    "                    'vec__token_pattern':[r'\\S+'],\n",
    "                    'class__alpha':[0.1,0.3,0.6,0.9,1]\n",
    "                }\n",
    "\n",
    "#NaiveBayes=SupraPipeline(Dataframes,Vectorizerlist,Classifierlist,Dfnames,pipe_params,'NaiveBayes.csv')"
   ]
  },
  {
   "cell_type": "code",
   "execution_count": 1277,
   "metadata": {
    "ExecuteTime": {
     "end_time": "2019-10-24T10:21:24.874617Z",
     "start_time": "2019-10-24T10:21:24.864002Z"
    }
   },
   "outputs": [],
   "source": [
    "NBgrid=pd.read_csv('NaiveBayes.csv')"
   ]
  },
  {
   "cell_type": "code",
   "execution_count": 1278,
   "metadata": {
    "ExecuteTime": {
     "end_time": "2019-10-24T10:21:25.412867Z",
     "start_time": "2019-10-24T10:21:25.390713Z"
    },
    "scrolled": true
   },
   "outputs": [
    {
     "data": {
      "text/html": [
       "<div>\n",
       "<style scoped>\n",
       "    .dataframe tbody tr th:only-of-type {\n",
       "        vertical-align: middle;\n",
       "    }\n",
       "\n",
       "    .dataframe tbody tr th {\n",
       "        vertical-align: top;\n",
       "    }\n",
       "\n",
       "    .dataframe thead th {\n",
       "        text-align: right;\n",
       "    }\n",
       "</style>\n",
       "<table border=\"1\" class=\"dataframe\">\n",
       "  <thead>\n",
       "    <tr style=\"text-align: right;\">\n",
       "      <th></th>\n",
       "      <th>Classifier</th>\n",
       "      <th>Cross_Val_Score</th>\n",
       "      <th>Data</th>\n",
       "      <th>Test_Score</th>\n",
       "      <th>Vectorizer</th>\n",
       "      <th>class__alpha</th>\n",
       "      <th>vec__max_df</th>\n",
       "      <th>vec__max_features</th>\n",
       "      <th>vec__min_df</th>\n",
       "      <th>vec__ngram_range</th>\n",
       "      <th>vec__stop_words</th>\n",
       "      <th>vec__token_pattern</th>\n",
       "    </tr>\n",
       "  </thead>\n",
       "  <tbody>\n",
       "    <tr>\n",
       "      <th>1</th>\n",
       "      <td>MultinomialNB</td>\n",
       "      <td>0.844786</td>\n",
       "      <td>dfstem2</td>\n",
       "      <td>0.861488</td>\n",
       "      <td>CountVectorizer</td>\n",
       "      <td>0.1</td>\n",
       "      <td>0.95</td>\n",
       "      <td>NaN</td>\n",
       "      <td>2</td>\n",
       "      <td>(1, 2)</td>\n",
       "      <td>['onion', 'nottheonion']</td>\n",
       "      <td>\\S+</td>\n",
       "    </tr>\n",
       "    <tr>\n",
       "      <th>0</th>\n",
       "      <td>MultinomialNB</td>\n",
       "      <td>0.844240</td>\n",
       "      <td>dflemma2</td>\n",
       "      <td>0.865232</td>\n",
       "      <td>CountVectorizer</td>\n",
       "      <td>0.6</td>\n",
       "      <td>0.95</td>\n",
       "      <td>NaN</td>\n",
       "      <td>2</td>\n",
       "      <td>(1, 2)</td>\n",
       "      <td>['onion', 'nottheonion']</td>\n",
       "      <td>\\S+</td>\n",
       "    </tr>\n",
       "  </tbody>\n",
       "</table>\n",
       "</div>"
      ],
      "text/plain": [
       "      Classifier  Cross_Val_Score      Data  Test_Score       Vectorizer  \\\n",
       "1  MultinomialNB         0.844786   dfstem2    0.861488  CountVectorizer   \n",
       "0  MultinomialNB         0.844240  dflemma2    0.865232  CountVectorizer   \n",
       "\n",
       "   class__alpha  vec__max_df  vec__max_features  vec__min_df vec__ngram_range  \\\n",
       "1           0.1         0.95                NaN            2           (1, 2)   \n",
       "0           0.6         0.95                NaN            2           (1, 2)   \n",
       "\n",
       "            vec__stop_words vec__token_pattern  \n",
       "1  ['onion', 'nottheonion']                \\S+  \n",
       "0  ['onion', 'nottheonion']                \\S+  "
      ]
     },
     "execution_count": 1278,
     "metadata": {},
     "output_type": "execute_result"
    }
   ],
   "source": [
    "NBgrid.sort_values('Cross_Val_Score',ascending=False)"
   ]
  },
  {
   "cell_type": "markdown",
   "metadata": {},
   "source": [
    "#### Logistic Regression Optimization"
   ]
  },
  {
   "cell_type": "code",
   "execution_count": 1280,
   "metadata": {
    "ExecuteTime": {
     "end_time": "2019-10-24T10:41:44.507639Z",
     "start_time": "2019-10-24T10:21:33.953138Z"
    },
    "scrolled": true
   },
   "outputs": [
    {
     "name": "stdout",
     "output_type": "stream",
     "text": [
      "1 of 4 of methods attempting\n",
      "Fitting 5 folds for each of 96 candidates, totalling 480 fits\n"
     ]
    },
    {
     "name": "stderr",
     "output_type": "stream",
     "text": [
      "[Parallel(n_jobs=-1)]: Using backend LokyBackend with 4 concurrent workers.\n",
      "[Parallel(n_jobs=-1)]: Done  42 tasks      | elapsed:   30.4s\n",
      "[Parallel(n_jobs=-1)]: Done 192 tasks      | elapsed:  2.0min\n",
      "[Parallel(n_jobs=-1)]: Done 442 tasks      | elapsed:  4.6min\n",
      "[Parallel(n_jobs=-1)]: Done 480 out of 480 | elapsed:  5.0min finished\n",
      "/Users/apple/anaconda3/lib/python3.7/site-packages/sklearn/linear_model/logistic.py:432: FutureWarning: Default solver will be changed to 'lbfgs' in 0.22. Specify a solver to silence this warning.\n",
      "  FutureWarning)\n"
     ]
    },
    {
     "name": "stdout",
     "output_type": "stream",
     "text": [
      "2 of 4 of methods attempting\n",
      "Fitting 5 folds for each of 96 candidates, totalling 480 fits\n"
     ]
    },
    {
     "name": "stderr",
     "output_type": "stream",
     "text": [
      "[Parallel(n_jobs=-1)]: Using backend LokyBackend with 4 concurrent workers.\n",
      "[Parallel(n_jobs=-1)]: Done  42 tasks      | elapsed:   27.3s\n",
      "[Parallel(n_jobs=-1)]: Done 192 tasks      | elapsed:  2.1min\n",
      "[Parallel(n_jobs=-1)]: Done 442 tasks      | elapsed:  5.0min\n",
      "[Parallel(n_jobs=-1)]: Done 480 out of 480 | elapsed:  5.5min finished\n",
      "/Users/apple/anaconda3/lib/python3.7/site-packages/sklearn/linear_model/logistic.py:432: FutureWarning: Default solver will be changed to 'lbfgs' in 0.22. Specify a solver to silence this warning.\n",
      "  FutureWarning)\n"
     ]
    },
    {
     "name": "stdout",
     "output_type": "stream",
     "text": [
      "3 of 4 of methods attempting\n",
      "Fitting 5 folds for each of 96 candidates, totalling 480 fits\n"
     ]
    },
    {
     "name": "stderr",
     "output_type": "stream",
     "text": [
      "[Parallel(n_jobs=-1)]: Using backend LokyBackend with 4 concurrent workers.\n",
      "[Parallel(n_jobs=-1)]: Done  42 tasks      | elapsed:   23.1s\n",
      "[Parallel(n_jobs=-1)]: Done 192 tasks      | elapsed:  1.7min\n",
      "[Parallel(n_jobs=-1)]: Done 442 tasks      | elapsed:  4.1min\n",
      "[Parallel(n_jobs=-1)]: Done 480 out of 480 | elapsed:  4.4min finished\n",
      "/Users/apple/anaconda3/lib/python3.7/site-packages/sklearn/linear_model/logistic.py:432: FutureWarning: Default solver will be changed to 'lbfgs' in 0.22. Specify a solver to silence this warning.\n",
      "  FutureWarning)\n"
     ]
    },
    {
     "name": "stdout",
     "output_type": "stream",
     "text": [
      "4 of 4 of methods attempting\n",
      "Fitting 5 folds for each of 96 candidates, totalling 480 fits\n"
     ]
    },
    {
     "name": "stderr",
     "output_type": "stream",
     "text": [
      "[Parallel(n_jobs=-1)]: Using backend LokyBackend with 4 concurrent workers.\n",
      "[Parallel(n_jobs=-1)]: Done  42 tasks      | elapsed:   24.3s\n",
      "[Parallel(n_jobs=-1)]: Done 192 tasks      | elapsed:  1.9min\n",
      "[Parallel(n_jobs=-1)]: Done 442 tasks      | elapsed:  4.6min\n",
      "[Parallel(n_jobs=-1)]: Done 480 out of 480 | elapsed:  5.1min finished\n",
      "/Users/apple/anaconda3/lib/python3.7/site-packages/sklearn/linear_model/logistic.py:432: FutureWarning: Default solver will be changed to 'lbfgs' in 0.22. Specify a solver to silence this warning.\n",
      "  FutureWarning)\n"
     ]
    }
   ],
   "source": [
    "Vectorizerlist=[TfidfVectorizer(),CountVectorizer()]\n",
    "Dataframes=[dflemma2,dfstem2]\n",
    "Dfnames=['dflemma2','dfstem2']\n",
    "Classifierlist=[LogisticRegression()]\n",
    "pipe_params = {\n",
    "\n",
    "                    'vec__max_features': [10000,15000,17500,None],\n",
    "                    'vec__min_df': [2,3],\n",
    "                    'vec__max_df': [.95,.9],\n",
    "                    'vec__ngram_range': [(1,2),(1,3)],\n",
    "                    'vec__stop_words':[customstop],\n",
    "                    'vec__token_pattern':[r'\\S+'],\n",
    "                    'class__C':[0.1,1,10]\n",
    "                }\n",
    "\n",
    "#LrGrid=SupraPipeline(Dataframes,Vectorizerlist,Classifierlist,Dfnames,pipe_params,'LrGrid.csv')"
   ]
  },
  {
   "cell_type": "code",
   "execution_count": 1281,
   "metadata": {
    "ExecuteTime": {
     "end_time": "2019-10-24T10:41:44.522129Z",
     "start_time": "2019-10-24T10:41:44.510465Z"
    }
   },
   "outputs": [],
   "source": [
    "LrGrid=pd.read_csv('LrGrid.csv')"
   ]
  },
  {
   "cell_type": "code",
   "execution_count": 1282,
   "metadata": {
    "ExecuteTime": {
     "end_time": "2019-10-24T10:41:44.565406Z",
     "start_time": "2019-10-24T10:41:44.532619Z"
    }
   },
   "outputs": [
    {
     "data": {
      "text/html": [
       "<div>\n",
       "<style scoped>\n",
       "    .dataframe tbody tr th:only-of-type {\n",
       "        vertical-align: middle;\n",
       "    }\n",
       "\n",
       "    .dataframe tbody tr th {\n",
       "        vertical-align: top;\n",
       "    }\n",
       "\n",
       "    .dataframe thead th {\n",
       "        text-align: right;\n",
       "    }\n",
       "</style>\n",
       "<table border=\"1\" class=\"dataframe\">\n",
       "  <thead>\n",
       "    <tr style=\"text-align: right;\">\n",
       "      <th></th>\n",
       "      <th>Classifier</th>\n",
       "      <th>Cross_Val_Score</th>\n",
       "      <th>Data</th>\n",
       "      <th>Test_Score</th>\n",
       "      <th>Vectorizer</th>\n",
       "      <th>class__C</th>\n",
       "      <th>vec__max_df</th>\n",
       "      <th>vec__max_features</th>\n",
       "      <th>vec__min_df</th>\n",
       "      <th>vec__ngram_range</th>\n",
       "      <th>vec__stop_words</th>\n",
       "      <th>vec__token_pattern</th>\n",
       "    </tr>\n",
       "  </thead>\n",
       "  <tbody>\n",
       "    <tr>\n",
       "      <th>0</th>\n",
       "      <td>LogisticRegression</td>\n",
       "      <td>0.853912</td>\n",
       "      <td>dflemma2</td>\n",
       "      <td>0.865466</td>\n",
       "      <td>TfidfVectorizer</td>\n",
       "      <td>10</td>\n",
       "      <td>0.95</td>\n",
       "      <td>NaN</td>\n",
       "      <td>2</td>\n",
       "      <td>(1, 2)</td>\n",
       "      <td>['onion', 'nottheonion']</td>\n",
       "      <td>\\S+</td>\n",
       "    </tr>\n",
       "    <tr>\n",
       "      <th>2</th>\n",
       "      <td>LogisticRegression</td>\n",
       "      <td>0.852898</td>\n",
       "      <td>dfstem2</td>\n",
       "      <td>0.867337</td>\n",
       "      <td>TfidfVectorizer</td>\n",
       "      <td>10</td>\n",
       "      <td>0.95</td>\n",
       "      <td>NaN</td>\n",
       "      <td>2</td>\n",
       "      <td>(1, 3)</td>\n",
       "      <td>['onion', 'nottheonion']</td>\n",
       "      <td>\\S+</td>\n",
       "    </tr>\n",
       "    <tr>\n",
       "      <th>1</th>\n",
       "      <td>LogisticRegression</td>\n",
       "      <td>0.849700</td>\n",
       "      <td>dflemma2</td>\n",
       "      <td>0.860084</td>\n",
       "      <td>CountVectorizer</td>\n",
       "      <td>1</td>\n",
       "      <td>0.95</td>\n",
       "      <td>NaN</td>\n",
       "      <td>2</td>\n",
       "      <td>(1, 2)</td>\n",
       "      <td>['onion', 'nottheonion']</td>\n",
       "      <td>\\S+</td>\n",
       "    </tr>\n",
       "    <tr>\n",
       "      <th>3</th>\n",
       "      <td>LogisticRegression</td>\n",
       "      <td>0.848374</td>\n",
       "      <td>dfstem2</td>\n",
       "      <td>0.858680</td>\n",
       "      <td>CountVectorizer</td>\n",
       "      <td>1</td>\n",
       "      <td>0.95</td>\n",
       "      <td>NaN</td>\n",
       "      <td>2</td>\n",
       "      <td>(1, 2)</td>\n",
       "      <td>['onion', 'nottheonion']</td>\n",
       "      <td>\\S+</td>\n",
       "    </tr>\n",
       "  </tbody>\n",
       "</table>\n",
       "</div>"
      ],
      "text/plain": [
       "           Classifier  Cross_Val_Score      Data  Test_Score       Vectorizer  \\\n",
       "0  LogisticRegression         0.853912  dflemma2    0.865466  TfidfVectorizer   \n",
       "2  LogisticRegression         0.852898   dfstem2    0.867337  TfidfVectorizer   \n",
       "1  LogisticRegression         0.849700  dflemma2    0.860084  CountVectorizer   \n",
       "3  LogisticRegression         0.848374   dfstem2    0.858680  CountVectorizer   \n",
       "\n",
       "   class__C  vec__max_df  vec__max_features  vec__min_df vec__ngram_range  \\\n",
       "0        10         0.95                NaN            2           (1, 2)   \n",
       "2        10         0.95                NaN            2           (1, 3)   \n",
       "1         1         0.95                NaN            2           (1, 2)   \n",
       "3         1         0.95                NaN            2           (1, 2)   \n",
       "\n",
       "            vec__stop_words vec__token_pattern  \n",
       "0  ['onion', 'nottheonion']                \\S+  \n",
       "2  ['onion', 'nottheonion']                \\S+  \n",
       "1  ['onion', 'nottheonion']                \\S+  \n",
       "3  ['onion', 'nottheonion']                \\S+  "
      ]
     },
     "execution_count": 1282,
     "metadata": {},
     "output_type": "execute_result"
    }
   ],
   "source": [
    "LrGrid.sort_values('Cross_Val_Score',ascending=False)"
   ]
  },
  {
   "cell_type": "markdown",
   "metadata": {},
   "source": [
    "#### Random Forests Classifier"
   ]
  },
  {
   "cell_type": "code",
   "execution_count": 1291,
   "metadata": {
    "ExecuteTime": {
     "end_time": "2019-10-24T13:42:46.729092Z",
     "start_time": "2019-10-24T13:27:09.201374Z"
    }
   },
   "outputs": [
    {
     "name": "stdout",
     "output_type": "stream",
     "text": [
      "1 of 4 of methods attempting\n",
      "Fitting 5 folds for each of 6 candidates, totalling 30 fits\n"
     ]
    },
    {
     "name": "stderr",
     "output_type": "stream",
     "text": [
      "[Parallel(n_jobs=-1)]: Using backend LokyBackend with 4 concurrent workers.\n",
      "[Parallel(n_jobs=-1)]: Done  30 out of  30 | elapsed:  3.8min finished\n"
     ]
    },
    {
     "name": "stdout",
     "output_type": "stream",
     "text": [
      "2 of 4 of methods attempting\n",
      "Fitting 5 folds for each of 6 candidates, totalling 30 fits\n"
     ]
    },
    {
     "name": "stderr",
     "output_type": "stream",
     "text": [
      "[Parallel(n_jobs=-1)]: Using backend LokyBackend with 4 concurrent workers.\n",
      "[Parallel(n_jobs=-1)]: Done  30 out of  30 | elapsed:  3.3min finished\n"
     ]
    },
    {
     "name": "stdout",
     "output_type": "stream",
     "text": [
      "3 of 4 of methods attempting\n",
      "Fitting 5 folds for each of 6 candidates, totalling 30 fits\n"
     ]
    },
    {
     "name": "stderr",
     "output_type": "stream",
     "text": [
      "[Parallel(n_jobs=-1)]: Using backend LokyBackend with 4 concurrent workers.\n",
      "[Parallel(n_jobs=-1)]: Done  30 out of  30 | elapsed:  3.8min finished\n"
     ]
    },
    {
     "name": "stdout",
     "output_type": "stream",
     "text": [
      "4 of 4 of methods attempting\n",
      "Fitting 5 folds for each of 6 candidates, totalling 30 fits\n"
     ]
    },
    {
     "name": "stderr",
     "output_type": "stream",
     "text": [
      "[Parallel(n_jobs=-1)]: Using backend LokyBackend with 4 concurrent workers.\n",
      "[Parallel(n_jobs=-1)]: Done  30 out of  30 | elapsed:  3.3min finished\n"
     ]
    }
   ],
   "source": [
    "Vectorizerlist=[CountVectorizer(),TfidfVectorizer()]\n",
    "Dataframes=[dfstem2,dflemma2]\n",
    "Dfnames=['dfstem2','dflemma2']\n",
    "Classifierlist=[RandomForestClassifier()]\n",
    "pipe_params = {\n",
    "\n",
    "                    'vec__max_features': [None],\n",
    "                    'vec__min_df': [2],\n",
    "                    'vec__max_df': [.95],\n",
    "                    'vec__ngram_range': [(1,2),(1,3)],\n",
    "                    'vec__stop_words':[customstop],\n",
    "                    'vec__token_pattern':[r'\\S+'],\n",
    "                    'class__n_estimators':[100],\n",
    "                    'class__max_depth':[200,400,None]\n",
    "                    \n",
    "                }\n",
    "\n",
    "#RandomForests=SupraPipeline(Dataframes,Vectorizerlist,Classifierlist,Dfnames,pipe_params,'RFgrid.csv')"
   ]
  },
  {
   "cell_type": "code",
   "execution_count": 1308,
   "metadata": {
    "ExecuteTime": {
     "end_time": "2019-10-24T13:44:00.810359Z",
     "start_time": "2019-10-24T13:44:00.799116Z"
    }
   },
   "outputs": [],
   "source": [
    "RFgrid=pd.read_csv('RFgrid.csv')"
   ]
  },
  {
   "cell_type": "code",
   "execution_count": 1309,
   "metadata": {
    "ExecuteTime": {
     "end_time": "2019-10-24T13:44:01.798458Z",
     "start_time": "2019-10-24T13:44:01.775131Z"
    }
   },
   "outputs": [
    {
     "data": {
      "text/html": [
       "<div>\n",
       "<style scoped>\n",
       "    .dataframe tbody tr th:only-of-type {\n",
       "        vertical-align: middle;\n",
       "    }\n",
       "\n",
       "    .dataframe tbody tr th {\n",
       "        vertical-align: top;\n",
       "    }\n",
       "\n",
       "    .dataframe thead th {\n",
       "        text-align: right;\n",
       "    }\n",
       "</style>\n",
       "<table border=\"1\" class=\"dataframe\">\n",
       "  <thead>\n",
       "    <tr style=\"text-align: right;\">\n",
       "      <th></th>\n",
       "      <th>Classifier</th>\n",
       "      <th>Cross_Val_Score</th>\n",
       "      <th>Data</th>\n",
       "      <th>Test_Score</th>\n",
       "      <th>Vectorizer</th>\n",
       "      <th>class__max_depth</th>\n",
       "      <th>class__n_estimators</th>\n",
       "      <th>vec__max_df</th>\n",
       "      <th>vec__max_features</th>\n",
       "      <th>vec__min_df</th>\n",
       "      <th>vec__ngram_range</th>\n",
       "      <th>vec__stop_words</th>\n",
       "      <th>vec__token_pattern</th>\n",
       "    </tr>\n",
       "  </thead>\n",
       "  <tbody>\n",
       "    <tr>\n",
       "      <th>0</th>\n",
       "      <td>RandomForestClassifier</td>\n",
       "      <td>0.822557</td>\n",
       "      <td>dfstem2</td>\n",
       "      <td>0.837857</td>\n",
       "      <td>CountVectorizer</td>\n",
       "      <td>NaN</td>\n",
       "      <td>100</td>\n",
       "      <td>0.95</td>\n",
       "      <td>NaN</td>\n",
       "      <td>2</td>\n",
       "      <td>(1, 3)</td>\n",
       "      <td>['onion', 'nottheonion']</td>\n",
       "      <td>\\S+</td>\n",
       "    </tr>\n",
       "    <tr>\n",
       "      <th>1</th>\n",
       "      <td>RandomForestClassifier</td>\n",
       "      <td>0.817409</td>\n",
       "      <td>dfstem2</td>\n",
       "      <td>0.833645</td>\n",
       "      <td>TfidfVectorizer</td>\n",
       "      <td>NaN</td>\n",
       "      <td>100</td>\n",
       "      <td>0.95</td>\n",
       "      <td>NaN</td>\n",
       "      <td>2</td>\n",
       "      <td>(1, 2)</td>\n",
       "      <td>['onion', 'nottheonion']</td>\n",
       "      <td>\\S+</td>\n",
       "    </tr>\n",
       "    <tr>\n",
       "      <th>2</th>\n",
       "      <td>RandomForestClassifier</td>\n",
       "      <td>0.816161</td>\n",
       "      <td>dflemma2</td>\n",
       "      <td>0.833177</td>\n",
       "      <td>CountVectorizer</td>\n",
       "      <td>400.0</td>\n",
       "      <td>100</td>\n",
       "      <td>0.95</td>\n",
       "      <td>NaN</td>\n",
       "      <td>2</td>\n",
       "      <td>(1, 3)</td>\n",
       "      <td>['onion', 'nottheonion']</td>\n",
       "      <td>\\S+</td>\n",
       "    </tr>\n",
       "    <tr>\n",
       "      <th>3</th>\n",
       "      <td>RandomForestClassifier</td>\n",
       "      <td>0.815459</td>\n",
       "      <td>dflemma2</td>\n",
       "      <td>0.832241</td>\n",
       "      <td>TfidfVectorizer</td>\n",
       "      <td>400.0</td>\n",
       "      <td>100</td>\n",
       "      <td>0.95</td>\n",
       "      <td>NaN</td>\n",
       "      <td>2</td>\n",
       "      <td>(1, 2)</td>\n",
       "      <td>['onion', 'nottheonion']</td>\n",
       "      <td>\\S+</td>\n",
       "    </tr>\n",
       "  </tbody>\n",
       "</table>\n",
       "</div>"
      ],
      "text/plain": [
       "               Classifier  Cross_Val_Score      Data  Test_Score  \\\n",
       "0  RandomForestClassifier         0.822557   dfstem2    0.837857   \n",
       "1  RandomForestClassifier         0.817409   dfstem2    0.833645   \n",
       "2  RandomForestClassifier         0.816161  dflemma2    0.833177   \n",
       "3  RandomForestClassifier         0.815459  dflemma2    0.832241   \n",
       "\n",
       "        Vectorizer  class__max_depth  class__n_estimators  vec__max_df  \\\n",
       "0  CountVectorizer               NaN                  100         0.95   \n",
       "1  TfidfVectorizer               NaN                  100         0.95   \n",
       "2  CountVectorizer             400.0                  100         0.95   \n",
       "3  TfidfVectorizer             400.0                  100         0.95   \n",
       "\n",
       "   vec__max_features  vec__min_df vec__ngram_range           vec__stop_words  \\\n",
       "0                NaN            2           (1, 3)  ['onion', 'nottheonion']   \n",
       "1                NaN            2           (1, 2)  ['onion', 'nottheonion']   \n",
       "2                NaN            2           (1, 3)  ['onion', 'nottheonion']   \n",
       "3                NaN            2           (1, 2)  ['onion', 'nottheonion']   \n",
       "\n",
       "  vec__token_pattern  \n",
       "0                \\S+  \n",
       "1                \\S+  \n",
       "2                \\S+  \n",
       "3                \\S+  "
      ]
     },
     "execution_count": 1309,
     "metadata": {},
     "output_type": "execute_result"
    }
   ],
   "source": [
    "RFgrid.sort_values('Cross_Val_Score',ascending=False)"
   ]
  },
  {
   "cell_type": "markdown",
   "metadata": {},
   "source": [
    "#### VotingClassifier\n",
    "\n",
    "Having selected my three best performing models, I now want to accumulate the insights from all three models using the VotingClassifier"
   ]
  },
  {
   "cell_type": "code",
   "execution_count": 1310,
   "metadata": {
    "ExecuteTime": {
     "end_time": "2019-10-24T13:50:12.106908Z",
     "start_time": "2019-10-24T13:44:05.245575Z"
    }
   },
   "outputs": [
    {
     "name": "stdout",
     "output_type": "stream",
     "text": [
      "1 of 2 of methods attempting\n",
      "Fitting 5 folds for each of 4 candidates, totalling 20 fits\n"
     ]
    },
    {
     "name": "stderr",
     "output_type": "stream",
     "text": [
      "[Parallel(n_jobs=-1)]: Using backend LokyBackend with 4 concurrent workers.\n",
      "[Parallel(n_jobs=-1)]: Done  20 out of  20 | elapsed:  2.6min finished\n",
      "/Users/apple/anaconda3/lib/python3.7/site-packages/sklearn/linear_model/logistic.py:432: FutureWarning: Default solver will be changed to 'lbfgs' in 0.22. Specify a solver to silence this warning.\n",
      "  FutureWarning)\n"
     ]
    },
    {
     "name": "stdout",
     "output_type": "stream",
     "text": [
      "2 of 2 of methods attempting\n",
      "Fitting 5 folds for each of 4 candidates, totalling 20 fits\n"
     ]
    },
    {
     "name": "stderr",
     "output_type": "stream",
     "text": [
      "[Parallel(n_jobs=-1)]: Using backend LokyBackend with 4 concurrent workers.\n",
      "[Parallel(n_jobs=-1)]: Done  20 out of  20 | elapsed:  2.7min finished\n",
      "/Users/apple/anaconda3/lib/python3.7/site-packages/sklearn/linear_model/logistic.py:432: FutureWarning: Default solver will be changed to 'lbfgs' in 0.22. Specify a solver to silence this warning.\n",
      "  FutureWarning)\n"
     ]
    }
   ],
   "source": [
    "Vectorizerlist=[CountVectorizer()]\n",
    "Dataframes=[dfstem2,dflemma2]\n",
    "Dfnames=['dfstem2','dflemma2']\n",
    "Classifierlist=[VotingClassifier([('tree', RandomForestClassifier(n_estimators=100,max_depth=None)),\n",
    "                       ('lr', LogisticRegression()),\n",
    "                       ('nb', MultinomialNB())\n",
    "                       ]\n",
    "                      )]\n",
    "pipe_params = {\n",
    "\n",
    "                    'vec__max_features': [None],\n",
    "                    'vec__min_df': [2],\n",
    "                    'vec__max_df': [.95],\n",
    "                    'vec__ngram_range': [(1,2),(1,3)],\n",
    "                    'vec__stop_words':[customstop],\n",
    "                    'vec__token_pattern':[r'\\S+'],\n",
    "                    'class__tree__n_estimators':[100],\n",
    "                    'class__lr__C':[10],\n",
    "                    'class__nb__alpha':[0.3,0.6]\n",
    "                }\n",
    "\n",
    "#Votegrid=SupraPipeline(Dataframes,Vectorizerlist,Classifierlist,Dfnames,pipe_params,'Votegrid.csv')\n"
   ]
  },
  {
   "cell_type": "code",
   "execution_count": 1312,
   "metadata": {
    "ExecuteTime": {
     "end_time": "2019-10-24T14:24:26.783637Z",
     "start_time": "2019-10-24T14:24:26.749783Z"
    },
    "scrolled": false
   },
   "outputs": [
    {
     "data": {
      "text/html": [
       "<div>\n",
       "<style scoped>\n",
       "    .dataframe tbody tr th:only-of-type {\n",
       "        vertical-align: middle;\n",
       "    }\n",
       "\n",
       "    .dataframe tbody tr th {\n",
       "        vertical-align: top;\n",
       "    }\n",
       "\n",
       "    .dataframe thead th {\n",
       "        text-align: right;\n",
       "    }\n",
       "</style>\n",
       "<table border=\"1\" class=\"dataframe\">\n",
       "  <thead>\n",
       "    <tr style=\"text-align: right;\">\n",
       "      <th></th>\n",
       "      <th>Classifier</th>\n",
       "      <th>Cross_Val_Score</th>\n",
       "      <th>Data</th>\n",
       "      <th>Test_Score</th>\n",
       "      <th>Vectorizer</th>\n",
       "      <th>class__lr__C</th>\n",
       "      <th>class__nb__alpha</th>\n",
       "      <th>class__tree__n_estimators</th>\n",
       "      <th>vec__max_df</th>\n",
       "      <th>vec__max_features</th>\n",
       "      <th>vec__min_df</th>\n",
       "      <th>vec__ngram_range</th>\n",
       "      <th>vec__stop_words</th>\n",
       "      <th>vec__token_pattern</th>\n",
       "    </tr>\n",
       "  </thead>\n",
       "  <tbody>\n",
       "    <tr>\n",
       "      <th>0</th>\n",
       "      <td>VotingClassifier</td>\n",
       "      <td>0.852040</td>\n",
       "      <td>dfstem2</td>\n",
       "      <td>0.872485</td>\n",
       "      <td>CountVectorizer</td>\n",
       "      <td>10</td>\n",
       "      <td>0.3</td>\n",
       "      <td>100</td>\n",
       "      <td>0.95</td>\n",
       "      <td>NaN</td>\n",
       "      <td>2</td>\n",
       "      <td>(1, 2)</td>\n",
       "      <td>['onion', 'nottheonion']</td>\n",
       "      <td>\\S+</td>\n",
       "    </tr>\n",
       "    <tr>\n",
       "      <th>1</th>\n",
       "      <td>VotingClassifier</td>\n",
       "      <td>0.853132</td>\n",
       "      <td>dflemma2</td>\n",
       "      <td>0.870613</td>\n",
       "      <td>CountVectorizer</td>\n",
       "      <td>10</td>\n",
       "      <td>0.3</td>\n",
       "      <td>100</td>\n",
       "      <td>0.95</td>\n",
       "      <td>NaN</td>\n",
       "      <td>2</td>\n",
       "      <td>(1, 2)</td>\n",
       "      <td>['onion', 'nottheonion']</td>\n",
       "      <td>\\S+</td>\n",
       "    </tr>\n",
       "  </tbody>\n",
       "</table>\n",
       "</div>"
      ],
      "text/plain": [
       "         Classifier  Cross_Val_Score      Data  Test_Score       Vectorizer  \\\n",
       "0  VotingClassifier         0.852040   dfstem2    0.872485  CountVectorizer   \n",
       "1  VotingClassifier         0.853132  dflemma2    0.870613  CountVectorizer   \n",
       "\n",
       "   class__lr__C  class__nb__alpha  class__tree__n_estimators  vec__max_df  \\\n",
       "0            10               0.3                        100         0.95   \n",
       "1            10               0.3                        100         0.95   \n",
       "\n",
       "   vec__max_features  vec__min_df vec__ngram_range           vec__stop_words  \\\n",
       "0                NaN            2           (1, 2)  ['onion', 'nottheonion']   \n",
       "1                NaN            2           (1, 2)  ['onion', 'nottheonion']   \n",
       "\n",
       "  vec__token_pattern  \n",
       "0                \\S+  \n",
       "1                \\S+  "
      ]
     },
     "execution_count": 1312,
     "metadata": {},
     "output_type": "execute_result"
    }
   ],
   "source": [
    "Votegrid=pd.read_csv('Votegrid.csv')\n",
    "Votegrid.sort_values('Cross_Val_Score')"
   ]
  },
  {
   "cell_type": "markdown",
   "metadata": {},
   "source": [
    "### Estimator Comparison"
   ]
  },
  {
   "cell_type": "markdown",
   "metadata": {},
   "source": [
    "#### Best Estimator"
   ]
  },
  {
   "cell_type": "code",
   "execution_count": 1148,
   "metadata": {
    "ExecuteTime": {
     "end_time": "2019-10-24T09:11:34.318327Z",
     "start_time": "2019-10-24T09:11:34.310391Z"
    }
   },
   "outputs": [],
   "source": [
    "def get_best(csvlist):\n",
    "    best_class=[]\n",
    "    for csv in csvlist:\n",
    "        grid=pd.read_csv(csv)\n",
    "        best_class.append(grid.sort_values('Cross_Val_Score',ascending=False).iloc[0,:][['Classifier','Vectorizer','Cross_Val_Score','Test_Score','Data']].values)\n",
    "        \n",
    "        \n",
    "    return pd.DataFrame(best_class,columns=['Classifier','Vectorizer','Cross_Val_Score','Test_Score','Data'])"
   ]
  },
  {
   "cell_type": "code",
   "execution_count": null,
   "metadata": {},
   "outputs": [],
   "source": []
  },
  {
   "cell_type": "code",
   "execution_count": 1149,
   "metadata": {
    "ExecuteTime": {
     "end_time": "2019-10-24T09:11:34.800441Z",
     "start_time": "2019-10-24T09:11:34.754924Z"
    },
    "scrolled": true
   },
   "outputs": [
    {
     "data": {
      "text/html": [
       "<div>\n",
       "<style scoped>\n",
       "    .dataframe tbody tr th:only-of-type {\n",
       "        vertical-align: middle;\n",
       "    }\n",
       "\n",
       "    .dataframe tbody tr th {\n",
       "        vertical-align: top;\n",
       "    }\n",
       "\n",
       "    .dataframe thead th {\n",
       "        text-align: right;\n",
       "    }\n",
       "</style>\n",
       "<table border=\"1\" class=\"dataframe\">\n",
       "  <thead>\n",
       "    <tr style=\"text-align: right;\">\n",
       "      <th></th>\n",
       "      <th>Classifier</th>\n",
       "      <th>Vectorizer</th>\n",
       "      <th>Cross_Val_Score</th>\n",
       "      <th>Test_Score</th>\n",
       "      <th>Data</th>\n",
       "    </tr>\n",
       "  </thead>\n",
       "  <tbody>\n",
       "    <tr>\n",
       "      <th>3</th>\n",
       "      <td>VotingClassifier</td>\n",
       "      <td>CountVectorizer</td>\n",
       "      <td>0.856329</td>\n",
       "      <td>0.872017</td>\n",
       "      <td>dfstem2</td>\n",
       "    </tr>\n",
       "    <tr>\n",
       "      <th>1</th>\n",
       "      <td>LogisticRegression</td>\n",
       "      <td>TfidfVectorizer</td>\n",
       "      <td>0.854770</td>\n",
       "      <td>0.868741</td>\n",
       "      <td>dflemma2</td>\n",
       "    </tr>\n",
       "    <tr>\n",
       "      <th>0</th>\n",
       "      <td>MultinomialNB</td>\n",
       "      <td>CountVectorizer</td>\n",
       "      <td>0.846034</td>\n",
       "      <td>0.862658</td>\n",
       "      <td>dfstem2</td>\n",
       "    </tr>\n",
       "    <tr>\n",
       "      <th>2</th>\n",
       "      <td>RandomForestClassifier</td>\n",
       "      <td>CountVectorizer</td>\n",
       "      <td>0.823025</td>\n",
       "      <td>0.843238</td>\n",
       "      <td>dfstem2</td>\n",
       "    </tr>\n",
       "  </tbody>\n",
       "</table>\n",
       "</div>"
      ],
      "text/plain": [
       "               Classifier       Vectorizer  Cross_Val_Score  Test_Score  \\\n",
       "3        VotingClassifier  CountVectorizer         0.856329    0.872017   \n",
       "1      LogisticRegression  TfidfVectorizer         0.854770    0.868741   \n",
       "0           MultinomialNB  CountVectorizer         0.846034    0.862658   \n",
       "2  RandomForestClassifier  CountVectorizer         0.823025    0.843238   \n",
       "\n",
       "       Data  \n",
       "3   dfstem2  \n",
       "1  dflemma2  \n",
       "0   dfstem2  \n",
       "2   dfstem2  "
      ]
     },
     "execution_count": 1149,
     "metadata": {},
     "output_type": "execute_result"
    }
   ],
   "source": [
    "get_best(['NaiveBayes.csv','LrGrid.csv','RFgrid.csv','Votegrid.csv']).sort_values('Cross_Val_Score',ascending=False)"
   ]
  },
  {
   "cell_type": "markdown",
   "metadata": {},
   "source": [
    "#### Best Intepretable Model"
   ]
  },
  {
   "cell_type": "code",
   "execution_count": 1150,
   "metadata": {
    "ExecuteTime": {
     "end_time": "2019-10-24T09:14:35.841548Z",
     "start_time": "2019-10-24T09:14:35.810856Z"
    }
   },
   "outputs": [
    {
     "data": {
      "text/html": [
       "<div>\n",
       "<style scoped>\n",
       "    .dataframe tbody tr th:only-of-type {\n",
       "        vertical-align: middle;\n",
       "    }\n",
       "\n",
       "    .dataframe tbody tr th {\n",
       "        vertical-align: top;\n",
       "    }\n",
       "\n",
       "    .dataframe thead th {\n",
       "        text-align: right;\n",
       "    }\n",
       "</style>\n",
       "<table border=\"1\" class=\"dataframe\">\n",
       "  <thead>\n",
       "    <tr style=\"text-align: right;\">\n",
       "      <th></th>\n",
       "      <th>Classifier</th>\n",
       "      <th>Cross_Val_Score</th>\n",
       "      <th>Data</th>\n",
       "      <th>Test_Score</th>\n",
       "      <th>Vectorizer</th>\n",
       "      <th>class__C</th>\n",
       "      <th>vec__max_df</th>\n",
       "      <th>vec__max_features</th>\n",
       "      <th>vec__min_df</th>\n",
       "      <th>vec__ngram_range</th>\n",
       "      <th>vec__stop_words</th>\n",
       "      <th>vec__token_pattern</th>\n",
       "    </tr>\n",
       "  </thead>\n",
       "  <tbody>\n",
       "    <tr>\n",
       "      <th>0</th>\n",
       "      <td>LogisticRegression</td>\n",
       "      <td>0.854770</td>\n",
       "      <td>dflemma2</td>\n",
       "      <td>0.868741</td>\n",
       "      <td>TfidfVectorizer</td>\n",
       "      <td>10</td>\n",
       "      <td>0.95</td>\n",
       "      <td>NaN</td>\n",
       "      <td>2</td>\n",
       "      <td>(1, 3)</td>\n",
       "      <td>NaN</td>\n",
       "      <td>\\S+</td>\n",
       "    </tr>\n",
       "    <tr>\n",
       "      <th>1</th>\n",
       "      <td>LogisticRegression</td>\n",
       "      <td>0.850090</td>\n",
       "      <td>dflemma2</td>\n",
       "      <td>0.860786</td>\n",
       "      <td>CountVectorizer</td>\n",
       "      <td>1</td>\n",
       "      <td>0.95</td>\n",
       "      <td>NaN</td>\n",
       "      <td>2</td>\n",
       "      <td>(1, 2)</td>\n",
       "      <td>NaN</td>\n",
       "      <td>\\S+</td>\n",
       "    </tr>\n",
       "    <tr>\n",
       "      <th>2</th>\n",
       "      <td>LogisticRegression</td>\n",
       "      <td>0.853834</td>\n",
       "      <td>dfstem2</td>\n",
       "      <td>0.866401</td>\n",
       "      <td>TfidfVectorizer</td>\n",
       "      <td>10</td>\n",
       "      <td>0.95</td>\n",
       "      <td>NaN</td>\n",
       "      <td>2</td>\n",
       "      <td>(1, 2)</td>\n",
       "      <td>NaN</td>\n",
       "      <td>\\S+</td>\n",
       "    </tr>\n",
       "    <tr>\n",
       "      <th>3</th>\n",
       "      <td>LogisticRegression</td>\n",
       "      <td>0.850246</td>\n",
       "      <td>dfstem2</td>\n",
       "      <td>0.860786</td>\n",
       "      <td>CountVectorizer</td>\n",
       "      <td>1</td>\n",
       "      <td>0.95</td>\n",
       "      <td>NaN</td>\n",
       "      <td>2</td>\n",
       "      <td>(1, 2)</td>\n",
       "      <td>NaN</td>\n",
       "      <td>\\S+</td>\n",
       "    </tr>\n",
       "  </tbody>\n",
       "</table>\n",
       "</div>"
      ],
      "text/plain": [
       "           Classifier  Cross_Val_Score      Data  Test_Score       Vectorizer  \\\n",
       "0  LogisticRegression         0.854770  dflemma2    0.868741  TfidfVectorizer   \n",
       "1  LogisticRegression         0.850090  dflemma2    0.860786  CountVectorizer   \n",
       "2  LogisticRegression         0.853834   dfstem2    0.866401  TfidfVectorizer   \n",
       "3  LogisticRegression         0.850246   dfstem2    0.860786  CountVectorizer   \n",
       "\n",
       "   class__C  vec__max_df  vec__max_features  vec__min_df vec__ngram_range  \\\n",
       "0        10         0.95                NaN            2           (1, 3)   \n",
       "1         1         0.95                NaN            2           (1, 2)   \n",
       "2        10         0.95                NaN            2           (1, 2)   \n",
       "3         1         0.95                NaN            2           (1, 2)   \n",
       "\n",
       "   vec__stop_words vec__token_pattern  \n",
       "0              NaN                \\S+  \n",
       "1              NaN                \\S+  \n",
       "2              NaN                \\S+  \n",
       "3              NaN                \\S+  "
      ]
     },
     "execution_count": 1150,
     "metadata": {},
     "output_type": "execute_result"
    }
   ],
   "source": [
    "pd.read_csv('LrGrid.csv')"
   ]
  },
  {
   "cell_type": "markdown",
   "metadata": {},
   "source": [
    "We can see here that the Voting Classifier performs the best on both the Cross Validation Accuracy Score and the Accuracy score on the test set.  \n",
    "However, for the sake of intepretability, we choose the **Logistic Regression/Count Vectorizer model** on the **dflemma2** dataset, while sacrificing only **0.06 of Cross Validation Accuracy score** for a much more **intepretable model**."
   ]
  },
  {
   "cell_type": "markdown",
   "metadata": {},
   "source": [
    "### Estimator Analysis"
   ]
  },
  {
   "cell_type": "markdown",
   "metadata": {},
   "source": [
    "#### Running the model on the found parameters"
   ]
  },
  {
   "cell_type": "code",
   "execution_count": 10,
   "metadata": {
    "ExecuteTime": {
     "end_time": "2019-10-24T16:19:42.715244Z",
     "start_time": "2019-10-24T16:19:41.448354Z"
    }
   },
   "outputs": [],
   "source": [
    "X=dflemma2['titles']\n",
    "y=dflemma2['target']\n",
    "\n",
    "X_train,X_test,y_train,y_test=train_test_split(X,y,stratify=y,random_state=23)\n",
    "\n",
    "cvec=CountVectorizer(max_df=0.95,min_df=2,ngram_range=(1,2),token_pattern=r'\\S+',stop_words=customstop)\n",
    "\n",
    "X_train_cvec=cvec.fit_transform(X_train)\n",
    "X_test_cvec=cvec.transform(X_test)\n",
    "\n",
    "lr=LogisticRegression(C=1)"
   ]
  },
  {
   "cell_type": "code",
   "execution_count": 11,
   "metadata": {
    "ExecuteTime": {
     "end_time": "2019-10-24T16:19:43.268626Z",
     "start_time": "2019-10-24T16:19:42.717836Z"
    }
   },
   "outputs": [
    {
     "name": "stderr",
     "output_type": "stream",
     "text": [
      "/Users/apple/anaconda3/lib/python3.7/site-packages/sklearn/linear_model/logistic.py:432: FutureWarning: Default solver will be changed to 'lbfgs' in 0.22. Specify a solver to silence this warning.\n",
      "  FutureWarning)\n"
     ]
    },
    {
     "data": {
      "text/plain": [
       "LogisticRegression(C=1, class_weight=None, dual=False, fit_intercept=True,\n",
       "                   intercept_scaling=1, l1_ratio=None, max_iter=100,\n",
       "                   multi_class='warn', n_jobs=None, penalty='l2',\n",
       "                   random_state=None, solver='warn', tol=0.0001, verbose=0,\n",
       "                   warm_start=False)"
      ]
     },
     "execution_count": 11,
     "metadata": {},
     "output_type": "execute_result"
    }
   ],
   "source": [
    "lr.fit(X_train_cvec,y_train)"
   ]
  },
  {
   "cell_type": "code",
   "execution_count": 12,
   "metadata": {
    "ExecuteTime": {
     "end_time": "2019-10-24T16:19:43.289216Z",
     "start_time": "2019-10-24T16:19:43.274149Z"
    }
   },
   "outputs": [
    {
     "data": {
      "text/plain": [
       "0.8600842302292934"
      ]
     },
     "execution_count": 12,
     "metadata": {},
     "output_type": "execute_result"
    }
   ],
   "source": [
    "lr.score(X_test_cvec,y_test)"
   ]
  },
  {
   "cell_type": "code",
   "execution_count": 14,
   "metadata": {
    "ExecuteTime": {
     "end_time": "2019-10-24T16:19:49.936400Z",
     "start_time": "2019-10-24T16:19:49.931240Z"
    }
   },
   "outputs": [],
   "source": [
    "pred_df=pd.DataFrame()"
   ]
  },
  {
   "cell_type": "code",
   "execution_count": 15,
   "metadata": {
    "ExecuteTime": {
     "end_time": "2019-10-24T16:19:50.490700Z",
     "start_time": "2019-10-24T16:19:50.481728Z"
    },
    "scrolled": true
   },
   "outputs": [],
   "source": [
    "pred_df['true_values']=y_test"
   ]
  },
  {
   "cell_type": "code",
   "execution_count": 16,
   "metadata": {
    "ExecuteTime": {
     "end_time": "2019-10-24T16:19:51.031735Z",
     "start_time": "2019-10-24T16:19:51.024688Z"
    }
   },
   "outputs": [],
   "source": [
    "pred_df['pred_probs']=lr.predict_proba(X_test_cvec)[:,1]"
   ]
  },
  {
   "cell_type": "markdown",
   "metadata": {},
   "source": [
    "#### Distribution of prediction probabilities"
   ]
  },
  {
   "cell_type": "code",
   "execution_count": 1319,
   "metadata": {
    "ExecuteTime": {
     "end_time": "2019-10-24T14:25:33.345038Z",
     "start_time": "2019-10-24T14:25:32.788228Z"
    },
    "scrolled": false
   },
   "outputs": [
    {
     "data": {
      "image/png": "[encoded data removed]",
      "text/plain": [
       "<Figure size 720x504 with 1 Axes>"
      ]
     },
     "metadata": {},
     "output_type": "display_data"
    }
   ],
   "source": [
    "# Create figure.\n",
    "plt.figure(figsize = (10,7))\n",
    "\n",
    "# Create two histograms of observations.\n",
    "plt.hist(pred_df[pred_df['true_values'] == 0]['pred_probs'],\n",
    "         bins=25,\n",
    "         color='b',\n",
    "         alpha = 0.6,\n",
    "         label='Outcome = 0')\n",
    "plt.hist(pred_df[pred_df['true_values'] == 1]['pred_probs'],\n",
    "         bins=25,\n",
    "         color='orange',\n",
    "         alpha = 0.6,\n",
    "         label='Outcome = 1')\n",
    "\n",
    "# Label axes.\n",
    "plt.title('Distribution of P(Outcome = 1)', fontsize=22)\n",
    "plt.ylabel('Frequency', fontsize=18)\n",
    "plt.xlabel('Predicted Probability that Outcome = 1', fontsize=18)\n",
    "\n",
    "# Create legend.\n",
    "plt.legend(fontsize=20);"
   ]
  },
  {
   "cell_type": "markdown",
   "metadata": {},
   "source": [
    "**We see that the predicted probabilities are well separated, though there is not significant overlap, where the predictions were wrong**"
   ]
  },
  {
   "cell_type": "markdown",
   "metadata": {},
   "source": [
    "#### Receiver Operating Curve + Area Under Curve\n",
    "\n",
    "The ROC shows the relationship between sensitivity, calculated as  \n",
    "**Sensitivity=(True Positives)/(True Positive + False Positives)**\n",
    "\n",
    "**Specificity=(True Negatives)/(True Negatives + False Positives**\n",
    "\n",
    "The area under the curve represents how well separated our distributions are, and the closer to 1 it is, the better."
   ]
  },
  {
   "cell_type": "code",
   "execution_count": 1320,
   "metadata": {
    "ExecuteTime": {
     "end_time": "2019-10-24T14:25:35.022760Z",
     "start_time": "2019-10-24T14:25:33.402054Z"
    }
   },
   "outputs": [
    {
     "data": {
      "image/png": "[encoded data removed]",
      "text/plain": [
       "<Figure size 720x504 with 1 Axes>"
      ]
     },
     "metadata": {},
     "output_type": "display_data"
    }
   ],
   "source": [
    "from sklearn.metrics import roc_auc_score\n",
    "# Create figure.\n",
    "plt.figure(figsize = (10,7))\n",
    "\n",
    "# Create threshold values. (Dashed red line in image.)\n",
    "thresholds = np.linspace(0, 1, 200)\n",
    "\n",
    "# Define function to calculate sensitivity. (True positive rate.)\n",
    "def TPR(df, true_col, pred_prob_col, threshold):\n",
    "    true_positive = df[(df[true_col] == 1) & (df[pred_prob_col] >= threshold)].shape[0]\n",
    "    false_negative = df[(df[true_col] == 1) & (df[pred_prob_col] < threshold)].shape[0]\n",
    "    return true_positive / (true_positive + false_negative)\n",
    "    \n",
    "\n",
    "# Define function to calculate 1 - specificity. (False positive rate.)\n",
    "def FPR(df, true_col, pred_prob_col, threshold):\n",
    "    true_negative = df[(df[true_col] == 0) & (df[pred_prob_col] <= threshold)].shape[0]\n",
    "    false_positive = df[(df[true_col] == 0) & (df[pred_prob_col] > threshold)].shape[0]\n",
    "    return 1 - (true_negative / (true_negative + false_positive))\n",
    "    \n",
    "# Calculate sensitivity & 1-specificity for each threshold between 0 and 1.\n",
    "tpr_values = [TPR(pred_df, 'true_values', 'pred_probs', prob) for prob in thresholds]\n",
    "fpr_values = [FPR(pred_df, 'true_values', 'pred_probs', prob) for prob in thresholds]\n",
    "\n",
    "# Plot ROC curve.\n",
    "plt.plot(fpr_values, # False Positive Rate on X-axis\n",
    "         tpr_values, # True Positive Rate on Y-axis\n",
    "         label='ROC Curve')\n",
    "\n",
    "# Plot baseline. (Perfect overlap between the two populations.)\n",
    "plt.plot(np.linspace(0, 1, 200),\n",
    "         np.linspace(0, 1, 200),\n",
    "         label='baseline',\n",
    "         linestyle='--')\n",
    "\n",
    "# Label axes.\n",
    "plt.title(f'ROC Curve with AUC = {round(roc_auc_score(pred_df[\"true_values\"], pred_df[\"pred_probs\"]),3)}', fontsize=22)\n",
    "plt.ylabel('Sensitivity', fontsize=18)\n",
    "plt.xlabel('1 - Specificity', fontsize=18)\n",
    "\n",
    "# Create legend.\n",
    "plt.legend(fontsize=16);"
   ]
  },
  {
   "cell_type": "markdown",
   "metadata": {},
   "source": [
    "With a AUC of 0.938, our distributions are well-separated"
   ]
  },
  {
   "cell_type": "markdown",
   "metadata": {
    "ExecuteTime": {
     "end_time": "2019-10-24T09:47:43.723512Z",
     "start_time": "2019-10-24T09:47:43.717216Z"
    }
   },
   "source": [
    "#### Coefficient Analysis"
   ]
  },
  {
   "cell_type": "markdown",
   "metadata": {},
   "source": [
    "**Exponentiate the coefficients to get the actual probability**"
   ]
  },
  {
   "cell_type": "code",
   "execution_count": 1321,
   "metadata": {
    "ExecuteTime": {
     "end_time": "2019-10-24T14:25:35.039192Z",
     "start_time": "2019-10-24T14:25:35.025783Z"
    },
    "scrolled": true
   },
   "outputs": [],
   "source": [
    "coefdf=pd.DataFrame(np.exp(lr.coef_[0]),columns=['Coef'])"
   ]
  },
  {
   "cell_type": "code",
   "execution_count": 1322,
   "metadata": {
    "ExecuteTime": {
     "end_time": "2019-10-24T14:25:35.104817Z",
     "start_time": "2019-10-24T14:25:35.042532Z"
    }
   },
   "outputs": [],
   "source": [
    "coefdf['Feature_Name']=cvec.get_feature_names()"
   ]
  },
  {
   "cell_type": "markdown",
   "metadata": {},
   "source": [
    "**Top 5 Words/Bi-Grams that indicate that a title is from r/TheOnion**"
   ]
  },
  {
   "cell_type": "code",
   "execution_count": 1323,
   "metadata": {
    "ExecuteTime": {
     "end_time": "2019-10-24T14:25:35.768179Z",
     "start_time": "2019-10-24T14:25:35.748512Z"
    },
    "scrolled": true
   },
   "outputs": [
    {
     "data": {
      "text/html": [
       "<div>\n",
       "<style scoped>\n",
       "    .dataframe tbody tr th:only-of-type {\n",
       "        vertical-align: middle;\n",
       "    }\n",
       "\n",
       "    .dataframe tbody tr th {\n",
       "        vertical-align: top;\n",
       "    }\n",
       "\n",
       "    .dataframe thead th {\n",
       "        text-align: right;\n",
       "    }\n",
       "</style>\n",
       "<table border=\"1\" class=\"dataframe\">\n",
       "  <thead>\n",
       "    <tr style=\"text-align: right;\">\n",
       "      <th></th>\n",
       "      <th>Coef</th>\n",
       "      <th>Feature_Name</th>\n",
       "    </tr>\n",
       "  </thead>\n",
       "  <tbody>\n",
       "    <tr>\n",
       "      <th>18025</th>\n",
       "      <td>13.223465</td>\n",
       "      <td>nation</td>\n",
       "    </tr>\n",
       "    <tr>\n",
       "      <th>23145</th>\n",
       "      <td>12.589784</td>\n",
       "      <td>said what</td>\n",
       "    </tr>\n",
       "    <tr>\n",
       "      <th>17838</th>\n",
       "      <td>5.531259</td>\n",
       "      <td>mueller</td>\n",
       "    </tr>\n",
       "    <tr>\n",
       "      <th>28477</th>\n",
       "      <td>5.270616</td>\n",
       "      <td>u .</td>\n",
       "    </tr>\n",
       "    <tr>\n",
       "      <th>22186</th>\n",
       "      <td>4.931646</td>\n",
       "      <td>report</td>\n",
       "    </tr>\n",
       "  </tbody>\n",
       "</table>\n",
       "</div>"
      ],
      "text/plain": [
       "            Coef Feature_Name\n",
       "18025  13.223465       nation\n",
       "23145  12.589784    said what\n",
       "17838   5.531259      mueller\n",
       "28477   5.270616          u .\n",
       "22186   4.931646       report"
      ]
     },
     "execution_count": 1323,
     "metadata": {},
     "output_type": "execute_result"
    }
   ],
   "source": [
    "coefdf.sort_values('Coef',ascending=False).head()"
   ]
  },
  {
   "cell_type": "markdown",
   "metadata": {},
   "source": [
    "**What's 'u .'??**"
   ]
  },
  {
   "cell_type": "code",
   "execution_count": 1324,
   "metadata": {
    "ExecuteTime": {
     "end_time": "2019-10-24T14:25:36.569231Z",
     "start_time": "2019-10-24T14:25:36.546801Z"
    },
    "scrolled": true
   },
   "outputs": [
    {
     "data": {
      "text/html": [
       "<div>\n",
       "<style scoped>\n",
       "    .dataframe tbody tr th:only-of-type {\n",
       "        vertical-align: middle;\n",
       "    }\n",
       "\n",
       "    .dataframe tbody tr th {\n",
       "        vertical-align: top;\n",
       "    }\n",
       "\n",
       "    .dataframe thead th {\n",
       "        text-align: right;\n",
       "    }\n",
       "</style>\n",
       "<table border=\"1\" class=\"dataframe\">\n",
       "  <thead>\n",
       "    <tr style=\"text-align: right;\">\n",
       "      <th></th>\n",
       "      <th>titles</th>\n",
       "      <th>target</th>\n",
       "    </tr>\n",
       "  </thead>\n",
       "  <tbody>\n",
       "    <tr>\n",
       "      <th>13</th>\n",
       "      <td>u . s . air force retires it vintage nuclear c...</td>\n",
       "      <td>0.0</td>\n",
       "    </tr>\n",
       "    <tr>\n",
       "      <th>226</th>\n",
       "      <td>trump warns u . s . ' may have to get in war '</td>\n",
       "      <td>0.0</td>\n",
       "    </tr>\n",
       "    <tr>\n",
       "      <th>236</th>\n",
       "      <td>drugstore drone ups will fly cv prescription t...</td>\n",
       "      <td>0.0</td>\n",
       "    </tr>\n",
       "    <tr>\n",
       "      <th>376</th>\n",
       "      <td>trump told russian official he wa unconcerned ...</td>\n",
       "      <td>0.0</td>\n",
       "    </tr>\n",
       "    <tr>\n",
       "      <th>525</th>\n",
       "      <td>kim jong un , astride a pale horse , urge self...</td>\n",
       "      <td>0.0</td>\n",
       "    </tr>\n",
       "    <tr>\n",
       "      <th>572</th>\n",
       "      <td>u . s . military will stop using floppy disk t...</td>\n",
       "      <td>0.0</td>\n",
       "    </tr>\n",
       "    <tr>\n",
       "      <th>688</th>\n",
       "      <td>u . s . troop in syria left behind dick drawin...</td>\n",
       "      <td>0.0</td>\n",
       "    </tr>\n",
       "    <tr>\n",
       "      <th>715</th>\n",
       "      <td>most u . s . dairy cow are descended from just...</td>\n",
       "      <td>0.0</td>\n",
       "    </tr>\n",
       "    <tr>\n",
       "      <th>727</th>\n",
       "      <td>venezuela win a seat on the u . n . human righ...</td>\n",
       "      <td>0.0</td>\n",
       "    </tr>\n",
       "    <tr>\n",
       "      <th>787</th>\n",
       "      <td>the u . s . is running out of a critical child...</td>\n",
       "      <td>0.0</td>\n",
       "    </tr>\n",
       "  </tbody>\n",
       "</table>\n",
       "</div>"
      ],
      "text/plain": [
       "                                                titles  target\n",
       "13   u . s . air force retires it vintage nuclear c...     0.0\n",
       "226     trump warns u . s . ' may have to get in war '     0.0\n",
       "236  drugstore drone ups will fly cv prescription t...     0.0\n",
       "376  trump told russian official he wa unconcerned ...     0.0\n",
       "525  kim jong un , astride a pale horse , urge self...     0.0\n",
       "572  u . s . military will stop using floppy disk t...     0.0\n",
       "688  u . s . troop in syria left behind dick drawin...     0.0\n",
       "715  most u . s . dairy cow are descended from just...     0.0\n",
       "727  venezuela win a seat on the u . n . human righ...     0.0\n",
       "787  the u . s . is running out of a critical child...     0.0"
      ]
     },
     "execution_count": 1324,
     "metadata": {},
     "output_type": "execute_result"
    }
   ],
   "source": [
    "dflemma2[['u .' in x for x in dflemma2['titles']]].head(10)"
   ]
  },
  {
   "cell_type": "markdown",
   "metadata": {},
   "source": [
    "These Coefficients mean that for each occurrence of the word/bigram, the **probability** of the title being from **r/TheOnion** increased by the coefficient amount.  \n",
    "\n",
    "In the case of the bigram 'u .' which actually is part of 'U.S.' before the pre-processing, each occurrence increases the probability for it to be **r/TheOnion** by **5.42 times** as opposed to a title not containing the same phrase."
   ]
  },
  {
   "cell_type": "markdown",
   "metadata": {
    "ExecuteTime": {
     "end_time": "2019-10-24T10:16:34.930399Z",
     "start_time": "2019-10-24T10:16:34.922109Z"
    }
   },
   "source": [
    "**Top 5 Words/Bi-Grams that indicate that a title is from r/nottheonion**"
   ]
  },
  {
   "cell_type": "code",
   "execution_count": 1325,
   "metadata": {
    "ExecuteTime": {
     "end_time": "2019-10-24T14:25:40.724811Z",
     "start_time": "2019-10-24T14:25:40.705711Z"
    },
    "scrolled": true
   },
   "outputs": [
    {
     "data": {
      "text/html": [
       "<div>\n",
       "<style scoped>\n",
       "    .dataframe tbody tr th:only-of-type {\n",
       "        vertical-align: middle;\n",
       "    }\n",
       "\n",
       "    .dataframe tbody tr th {\n",
       "        vertical-align: top;\n",
       "    }\n",
       "\n",
       "    .dataframe thead th {\n",
       "        text-align: right;\n",
       "    }\n",
       "</style>\n",
       "<table border=\"1\" class=\"dataframe\">\n",
       "  <thead>\n",
       "    <tr style=\"text-align: right;\">\n",
       "      <th></th>\n",
       "      <th>Coef</th>\n",
       "      <th>Feature_Name</th>\n",
       "    </tr>\n",
       "  </thead>\n",
       "  <tbody>\n",
       "    <tr>\n",
       "      <th>28514</th>\n",
       "      <td>0.173657</td>\n",
       "      <td>ukraine</td>\n",
       "    </tr>\n",
       "    <tr>\n",
       "      <th>6541</th>\n",
       "      <td>0.226405</td>\n",
       "      <td>charged</td>\n",
       "    </tr>\n",
       "    <tr>\n",
       "      <th>20805</th>\n",
       "      <td>0.228038</td>\n",
       "      <td>police</td>\n",
       "    </tr>\n",
       "    <tr>\n",
       "      <th>14268</th>\n",
       "      <td>0.228088</td>\n",
       "      <td>india</td>\n",
       "    </tr>\n",
       "    <tr>\n",
       "      <th>16891</th>\n",
       "      <td>0.230645</td>\n",
       "      <td>map</td>\n",
       "    </tr>\n",
       "  </tbody>\n",
       "</table>\n",
       "</div>"
      ],
      "text/plain": [
       "           Coef Feature_Name\n",
       "28514  0.173657      ukraine\n",
       "6541   0.226405      charged\n",
       "20805  0.228038       police\n",
       "14268  0.228088        india\n",
       "16891  0.230645          map"
      ]
     },
     "execution_count": 1325,
     "metadata": {},
     "output_type": "execute_result"
    }
   ],
   "source": [
    "coefdf.sort_values('Coef',ascending=True).head()"
   ]
  },
  {
   "cell_type": "markdown",
   "metadata": {},
   "source": [
    "On the other hand, as the negative class, the chance for r/nottheonion is 1/coef. In the case for 'ukraine', the probability of the title being from the subreddit increases by **1/0.173829**, or **5.75** times."
   ]
  },
  {
   "cell_type": "code",
   "execution_count": 1326,
   "metadata": {
    "ExecuteTime": {
     "end_time": "2019-10-24T14:25:42.303897Z",
     "start_time": "2019-10-24T14:25:42.296601Z"
    }
   },
   "outputs": [
    {
     "data": {
      "text/plain": [
       "5.752780030949956"
      ]
     },
     "execution_count": 1326,
     "metadata": {},
     "output_type": "execute_result"
    }
   ],
   "source": [
    "1/0.173829"
   ]
  },
  {
   "cell_type": "markdown",
   "metadata": {},
   "source": [
    "#### Erroneous Classification Analysis\n",
    "\n",
    "Where we sample several of the misclassified examples for visual inspection"
   ]
  },
  {
   "cell_type": "code",
   "execution_count": 34,
   "metadata": {
    "ExecuteTime": {
     "end_time": "2019-10-24T16:24:49.863253Z",
     "start_time": "2019-10-24T16:24:49.839231Z"
    }
   },
   "outputs": [],
   "source": [
    "X=df['titles']\n",
    "y=df['target']\n",
    "X_train,X_test,y_train,y_test=train_test_split(X,y,stratify=y,random_state=23)\n",
    "pred_df['titles']=X_test"
   ]
  },
  {
   "cell_type": "code",
   "execution_count": 35,
   "metadata": {
    "ExecuteTime": {
     "end_time": "2019-10-24T16:24:52.441868Z",
     "start_time": "2019-10-24T16:24:52.436351Z"
    }
   },
   "outputs": [],
   "source": [
    "pred_df['pred']=lr.predict(X_test_cvec)"
   ]
  },
  {
   "cell_type": "code",
   "execution_count": 36,
   "metadata": {
    "ExecuteTime": {
     "end_time": "2019-10-24T16:24:52.828938Z",
     "start_time": "2019-10-24T16:24:52.820690Z"
    }
   },
   "outputs": [
    {
     "data": {
      "text/plain": [
       "(4274, 4)"
      ]
     },
     "execution_count": 36,
     "metadata": {},
     "output_type": "execute_result"
    }
   ],
   "source": [
    "pred_df.shape"
   ]
  },
  {
   "cell_type": "code",
   "execution_count": 37,
   "metadata": {
    "ExecuteTime": {
     "end_time": "2019-10-24T16:24:53.418437Z",
     "start_time": "2019-10-24T16:24:53.411664Z"
    },
    "scrolled": true
   },
   "outputs": [],
   "source": [
    "misclass=pd.DataFrame(pred_df[pred_df['true_values']!=pred_df['pred']])"
   ]
  },
  {
   "cell_type": "code",
   "execution_count": 38,
   "metadata": {
    "ExecuteTime": {
     "end_time": "2019-10-24T16:24:54.378942Z",
     "start_time": "2019-10-24T16:24:54.363472Z"
    }
   },
   "outputs": [],
   "source": [
    "misclass.to_csv('misclass.csv')"
   ]
  },
  {
   "cell_type": "code",
   "execution_count": 39,
   "metadata": {
    "ExecuteTime": {
     "end_time": "2019-10-24T16:24:54.576083Z",
     "start_time": "2019-10-24T16:24:54.564237Z"
    }
   },
   "outputs": [],
   "source": [
    "misclass=pd.read_csv('misclass.csv')"
   ]
  },
  {
   "cell_type": "code",
   "execution_count": 52,
   "metadata": {
    "ExecuteTime": {
     "end_time": "2019-10-24T16:29:41.621900Z",
     "start_time": "2019-10-24T16:29:41.586134Z"
    },
    "scrolled": true
   },
   "outputs": [
    {
     "data": {
      "text/html": [
       "<div>\n",
       "<style scoped>\n",
       "    .dataframe tbody tr th:only-of-type {\n",
       "        vertical-align: middle;\n",
       "    }\n",
       "\n",
       "    .dataframe tbody tr th {\n",
       "        vertical-align: top;\n",
       "    }\n",
       "\n",
       "    .dataframe thead th {\n",
       "        text-align: right;\n",
       "    }\n",
       "</style>\n",
       "<table border=\"1\" class=\"dataframe\">\n",
       "  <thead>\n",
       "    <tr style=\"text-align: right;\">\n",
       "      <th></th>\n",
       "      <th>Unnamed: 0</th>\n",
       "      <th>true_values</th>\n",
       "      <th>pred_probs</th>\n",
       "      <th>titles</th>\n",
       "      <th>pred</th>\n",
       "    </tr>\n",
       "  </thead>\n",
       "  <tbody>\n",
       "    <tr>\n",
       "      <th>0</th>\n",
       "      <td>1215</td>\n",
       "      <td>0.0</td>\n",
       "      <td>0.765111</td>\n",
       "      <td>Scientists Propose New Satellite Tech to Dodge...</td>\n",
       "      <td>1.0</td>\n",
       "    </tr>\n",
       "    <tr>\n",
       "      <th>1</th>\n",
       "      <td>13585</td>\n",
       "      <td>1.0</td>\n",
       "      <td>0.452582</td>\n",
       "      <td>I Was Anti-Vaccine Until My Doctor Got Hot And...</td>\n",
       "      <td>0.0</td>\n",
       "    </tr>\n",
       "    <tr>\n",
       "      <th>2</th>\n",
       "      <td>14077</td>\n",
       "      <td>1.0</td>\n",
       "      <td>0.151375</td>\n",
       "      <td>Excuse Me, Mr. Trump, Sir, But, Respectfully, ...</td>\n",
       "      <td>0.0</td>\n",
       "    </tr>\n",
       "    <tr>\n",
       "      <th>3</th>\n",
       "      <td>2470</td>\n",
       "      <td>0.0</td>\n",
       "      <td>0.567020</td>\n",
       "      <td>Priest made young boys dress up like baby Jesu...</td>\n",
       "      <td>1.0</td>\n",
       "    </tr>\n",
       "    <tr>\n",
       "      <th>4</th>\n",
       "      <td>4903</td>\n",
       "      <td>0.0</td>\n",
       "      <td>0.535959</td>\n",
       "      <td>Suspected home intruder leaps from 2nd-floor b...</td>\n",
       "      <td>1.0</td>\n",
       "    </tr>\n",
       "    <tr>\n",
       "      <th>5</th>\n",
       "      <td>4480</td>\n",
       "      <td>0.0</td>\n",
       "      <td>0.570122</td>\n",
       "      <td>She threw her iPhone out the window and has ne...</td>\n",
       "      <td>1.0</td>\n",
       "    </tr>\n",
       "    <tr>\n",
       "      <th>6</th>\n",
       "      <td>10219</td>\n",
       "      <td>1.0</td>\n",
       "      <td>0.322699</td>\n",
       "      <td>Shocking Dark Secret: The Host Of The Beloved ...</td>\n",
       "      <td>0.0</td>\n",
       "    </tr>\n",
       "    <tr>\n",
       "      <th>7</th>\n",
       "      <td>3997</td>\n",
       "      <td>0.0</td>\n",
       "      <td>0.512677</td>\n",
       "      <td>Prehistoric Babies Drank Animal Milk From Bottles</td>\n",
       "      <td>1.0</td>\n",
       "    </tr>\n",
       "    <tr>\n",
       "      <th>8</th>\n",
       "      <td>11975</td>\n",
       "      <td>1.0</td>\n",
       "      <td>0.203362</td>\n",
       "      <td>We Asked 22 Meteorologists About The Worst Sto...</td>\n",
       "      <td>0.0</td>\n",
       "    </tr>\n",
       "    <tr>\n",
       "      <th>9</th>\n",
       "      <td>13909</td>\n",
       "      <td>1.0</td>\n",
       "      <td>0.483765</td>\n",
       "      <td>9/11: Government Admits It Was Only Behind Des...</td>\n",
       "      <td>0.0</td>\n",
       "    </tr>\n",
       "    <tr>\n",
       "      <th>10</th>\n",
       "      <td>1854</td>\n",
       "      <td>0.0</td>\n",
       "      <td>0.721532</td>\n",
       "      <td>Just a reminder that this is illegal in China</td>\n",
       "      <td>1.0</td>\n",
       "    </tr>\n",
       "    <tr>\n",
       "      <th>11</th>\n",
       "      <td>6432</td>\n",
       "      <td>0.0</td>\n",
       "      <td>0.851505</td>\n",
       "      <td>J.K. Simmons Joins Cast of Animated-Adventure ...</td>\n",
       "      <td>1.0</td>\n",
       "    </tr>\n",
       "    <tr>\n",
       "      <th>12</th>\n",
       "      <td>593</td>\n",
       "      <td>0.0</td>\n",
       "      <td>0.579303</td>\n",
       "      <td>Windows 10 Security Alert As Microsoft Warns: ...</td>\n",
       "      <td>1.0</td>\n",
       "    </tr>\n",
       "    <tr>\n",
       "      <th>13</th>\n",
       "      <td>9218</td>\n",
       "      <td>1.0</td>\n",
       "      <td>0.429774</td>\n",
       "      <td>Winter Is Shortcoming</td>\n",
       "      <td>0.0</td>\n",
       "    </tr>\n",
       "    <tr>\n",
       "      <th>14</th>\n",
       "      <td>13899</td>\n",
       "      <td>1.0</td>\n",
       "      <td>0.265242</td>\n",
       "      <td>Prince Harry Gets Old Suit Tailored To Wear To...</td>\n",
       "      <td>0.0</td>\n",
       "    </tr>\n",
       "    <tr>\n",
       "      <th>15</th>\n",
       "      <td>9839</td>\n",
       "      <td>1.0</td>\n",
       "      <td>0.499278</td>\n",
       "      <td>NASA Administrator Resigns After Leak Of Offen...</td>\n",
       "      <td>0.0</td>\n",
       "    </tr>\n",
       "    <tr>\n",
       "      <th>16</th>\n",
       "      <td>9255</td>\n",
       "      <td>1.0</td>\n",
       "      <td>0.261149</td>\n",
       "      <td>Unclear If Store Called ‘Casa Spazio’ Sells Le...</td>\n",
       "      <td>0.0</td>\n",
       "    </tr>\n",
       "    <tr>\n",
       "      <th>17</th>\n",
       "      <td>16246</td>\n",
       "      <td>1.0</td>\n",
       "      <td>0.303036</td>\n",
       "      <td>News: Awesome: Vera Wang Is Releasing A Tear-A...</td>\n",
       "      <td>0.0</td>\n",
       "    </tr>\n",
       "    <tr>\n",
       "      <th>18</th>\n",
       "      <td>12892</td>\n",
       "      <td>1.0</td>\n",
       "      <td>0.373345</td>\n",
       "      <td>Ohio State Puts Urban Meyer On Paid Secret Coa...</td>\n",
       "      <td>0.0</td>\n",
       "    </tr>\n",
       "    <tr>\n",
       "      <th>19</th>\n",
       "      <td>13636</td>\n",
       "      <td>1.0</td>\n",
       "      <td>0.344610</td>\n",
       "      <td>76ers Expected To Fire GM Who Created Anonymou...</td>\n",
       "      <td>0.0</td>\n",
       "    </tr>\n",
       "    <tr>\n",
       "      <th>20</th>\n",
       "      <td>13771</td>\n",
       "      <td>1.0</td>\n",
       "      <td>0.441031</td>\n",
       "      <td>Top Celebrities Who Are Not Invited To The Roy...</td>\n",
       "      <td>0.0</td>\n",
       "    </tr>\n",
       "    <tr>\n",
       "      <th>21</th>\n",
       "      <td>4108</td>\n",
       "      <td>0.0</td>\n",
       "      <td>0.712273</td>\n",
       "      <td>Dominos Offering Dream Job as Garlic Bread Taster</td>\n",
       "      <td>1.0</td>\n",
       "    </tr>\n",
       "    <tr>\n",
       "      <th>22</th>\n",
       "      <td>13104</td>\n",
       "      <td>1.0</td>\n",
       "      <td>0.453666</td>\n",
       "      <td>The Road Worrier</td>\n",
       "      <td>0.0</td>\n",
       "    </tr>\n",
       "    <tr>\n",
       "      <th>23</th>\n",
       "      <td>567</td>\n",
       "      <td>0.0</td>\n",
       "      <td>0.532103</td>\n",
       "      <td>Strategically placed bush used to hide sculptu...</td>\n",
       "      <td>1.0</td>\n",
       "    </tr>\n",
       "    <tr>\n",
       "      <th>24</th>\n",
       "      <td>7738</td>\n",
       "      <td>0.0</td>\n",
       "      <td>0.683540</td>\n",
       "      <td>Theres An Emu On the Loose In North Carolina a...</td>\n",
       "      <td>1.0</td>\n",
       "    </tr>\n",
       "    <tr>\n",
       "      <th>25</th>\n",
       "      <td>8235</td>\n",
       "      <td>1.0</td>\n",
       "      <td>0.473268</td>\n",
       "      <td>Behind The Pen: The Chinese Threat</td>\n",
       "      <td>0.0</td>\n",
       "    </tr>\n",
       "    <tr>\n",
       "      <th>26</th>\n",
       "      <td>9155</td>\n",
       "      <td>1.0</td>\n",
       "      <td>0.466272</td>\n",
       "      <td>A Guide To The Best Weapons In ‘FIFA 19’</td>\n",
       "      <td>0.0</td>\n",
       "    </tr>\n",
       "    <tr>\n",
       "      <th>27</th>\n",
       "      <td>5428</td>\n",
       "      <td>0.0</td>\n",
       "      <td>0.930173</td>\n",
       "      <td>Ted Cruz and Andrew Yang will suit up in 4-on-...</td>\n",
       "      <td>1.0</td>\n",
       "    </tr>\n",
       "    <tr>\n",
       "      <th>28</th>\n",
       "      <td>8674</td>\n",
       "      <td>1.0</td>\n",
       "      <td>0.361668</td>\n",
       "      <td>Trump Thanks Supporters Who Sacrificed Time, M...</td>\n",
       "      <td>0.0</td>\n",
       "    </tr>\n",
       "    <tr>\n",
       "      <th>29</th>\n",
       "      <td>14156</td>\n",
       "      <td>1.0</td>\n",
       "      <td>0.261457</td>\n",
       "      <td>A New Beginning: After Formally Ending Their 6...</td>\n",
       "      <td>0.0</td>\n",
       "    </tr>\n",
       "    <tr>\n",
       "      <th>...</th>\n",
       "      <td>...</td>\n",
       "      <td>...</td>\n",
       "      <td>...</td>\n",
       "      <td>...</td>\n",
       "      <td>...</td>\n",
       "    </tr>\n",
       "    <tr>\n",
       "      <th>568</th>\n",
       "      <td>1310</td>\n",
       "      <td>0.0</td>\n",
       "      <td>0.727025</td>\n",
       "      <td>New rules for contractors have unexpected cons...</td>\n",
       "      <td>1.0</td>\n",
       "    </tr>\n",
       "    <tr>\n",
       "      <th>569</th>\n",
       "      <td>15117</td>\n",
       "      <td>1.0</td>\n",
       "      <td>0.379181</td>\n",
       "      <td>Ambush Tactics ft. Butcha - Too Many Times [Of...</td>\n",
       "      <td>0.0</td>\n",
       "    </tr>\n",
       "    <tr>\n",
       "      <th>570</th>\n",
       "      <td>5062</td>\n",
       "      <td>0.0</td>\n",
       "      <td>0.811456</td>\n",
       "      <td>Again with the American Christian victim complex</td>\n",
       "      <td>1.0</td>\n",
       "    </tr>\n",
       "    <tr>\n",
       "      <th>571</th>\n",
       "      <td>8513</td>\n",
       "      <td>1.0</td>\n",
       "      <td>0.368070</td>\n",
       "      <td>July 21, 1969</td>\n",
       "      <td>0.0</td>\n",
       "    </tr>\n",
       "    <tr>\n",
       "      <th>572</th>\n",
       "      <td>13979</td>\n",
       "      <td>1.0</td>\n",
       "      <td>0.329586</td>\n",
       "      <td>Central NY parents want top county court to ev...</td>\n",
       "      <td>0.0</td>\n",
       "    </tr>\n",
       "    <tr>\n",
       "      <th>573</th>\n",
       "      <td>6348</td>\n",
       "      <td>0.0</td>\n",
       "      <td>0.532193</td>\n",
       "      <td>Guitar Shaped Mailbox Causes Rollover Crash In...</td>\n",
       "      <td>1.0</td>\n",
       "    </tr>\n",
       "    <tr>\n",
       "      <th>574</th>\n",
       "      <td>6843</td>\n",
       "      <td>0.0</td>\n",
       "      <td>0.547414</td>\n",
       "      <td>Ukrainains irate as Sara Netanyahu throws brea...</td>\n",
       "      <td>1.0</td>\n",
       "    </tr>\n",
       "    <tr>\n",
       "      <th>575</th>\n",
       "      <td>2562</td>\n",
       "      <td>0.0</td>\n",
       "      <td>0.548897</td>\n",
       "      <td>The CW's Batwoman Has a New Enemy, and It's Ra...</td>\n",
       "      <td>1.0</td>\n",
       "    </tr>\n",
       "    <tr>\n",
       "      <th>576</th>\n",
       "      <td>4742</td>\n",
       "      <td>0.0</td>\n",
       "      <td>0.506335</td>\n",
       "      <td>\"All a bit predictable\": Sean Bean now rejects...</td>\n",
       "      <td>1.0</td>\n",
       "    </tr>\n",
       "    <tr>\n",
       "      <th>577</th>\n",
       "      <td>16653</td>\n",
       "      <td>1.0</td>\n",
       "      <td>0.200469</td>\n",
       "      <td>Monarch Butterfly Makes Directorial Debut On '...</td>\n",
       "      <td>0.0</td>\n",
       "    </tr>\n",
       "    <tr>\n",
       "      <th>578</th>\n",
       "      <td>2551</td>\n",
       "      <td>0.0</td>\n",
       "      <td>0.580356</td>\n",
       "      <td>Father, son build 3D printed Lamborghini</td>\n",
       "      <td>1.0</td>\n",
       "    </tr>\n",
       "    <tr>\n",
       "      <th>579</th>\n",
       "      <td>9501</td>\n",
       "      <td>1.0</td>\n",
       "      <td>0.277288</td>\n",
       "      <td>Hare Krishnas: ‘Hare Krishna, Hare Krishna, Kr...</td>\n",
       "      <td>0.0</td>\n",
       "    </tr>\n",
       "    <tr>\n",
       "      <th>580</th>\n",
       "      <td>14328</td>\n",
       "      <td>1.0</td>\n",
       "      <td>0.149020</td>\n",
       "      <td>The NRA Is Claiming That The Tennessee Waffle ...</td>\n",
       "      <td>0.0</td>\n",
       "    </tr>\n",
       "    <tr>\n",
       "      <th>581</th>\n",
       "      <td>14828</td>\n",
       "      <td>1.0</td>\n",
       "      <td>0.414364</td>\n",
       "      <td>Authorities Claim The True Austin Bomber Was E...</td>\n",
       "      <td>0.0</td>\n",
       "    </tr>\n",
       "    <tr>\n",
       "      <th>582</th>\n",
       "      <td>13162</td>\n",
       "      <td>1.0</td>\n",
       "      <td>0.415365</td>\n",
       "      <td>Qatar Unveils Indentured Mascot For 2022 World...</td>\n",
       "      <td>0.0</td>\n",
       "    </tr>\n",
       "    <tr>\n",
       "      <th>583</th>\n",
       "      <td>7802</td>\n",
       "      <td>0.0</td>\n",
       "      <td>0.518640</td>\n",
       "      <td>BzzzzzZzzzZZzzZzzz</td>\n",
       "      <td>1.0</td>\n",
       "    </tr>\n",
       "    <tr>\n",
       "      <th>584</th>\n",
       "      <td>6723</td>\n",
       "      <td>0.0</td>\n",
       "      <td>0.599090</td>\n",
       "      <td>This Is What The President Donald Trump Eats |...</td>\n",
       "      <td>1.0</td>\n",
       "    </tr>\n",
       "    <tr>\n",
       "      <th>585</th>\n",
       "      <td>98</td>\n",
       "      <td>0.0</td>\n",
       "      <td>0.717988</td>\n",
       "      <td>North Texas Couple Moving Into New Home Sees I...</td>\n",
       "      <td>1.0</td>\n",
       "    </tr>\n",
       "    <tr>\n",
       "      <th>586</th>\n",
       "      <td>16933</td>\n",
       "      <td>1.0</td>\n",
       "      <td>0.099801</td>\n",
       "      <td>New world Scrabble champion: 'I'm in cocaine a...</td>\n",
       "      <td>0.0</td>\n",
       "    </tr>\n",
       "    <tr>\n",
       "      <th>587</th>\n",
       "      <td>4198</td>\n",
       "      <td>0.0</td>\n",
       "      <td>0.548993</td>\n",
       "      <td>Raccoons punch hole through ceiling, ransack W...</td>\n",
       "      <td>1.0</td>\n",
       "    </tr>\n",
       "    <tr>\n",
       "      <th>588</th>\n",
       "      <td>16202</td>\n",
       "      <td>1.0</td>\n",
       "      <td>0.327506</td>\n",
       "      <td>Doctors Discover Purpose Of Appendix Is To Con...</td>\n",
       "      <td>0.0</td>\n",
       "    </tr>\n",
       "    <tr>\n",
       "      <th>589</th>\n",
       "      <td>11957</td>\n",
       "      <td>1.0</td>\n",
       "      <td>0.204690</td>\n",
       "      <td>Sorry, Feminists, But If Discrimination Agains...</td>\n",
       "      <td>0.0</td>\n",
       "    </tr>\n",
       "    <tr>\n",
       "      <th>590</th>\n",
       "      <td>4754</td>\n",
       "      <td>0.0</td>\n",
       "      <td>0.613289</td>\n",
       "      <td>Man undergoes surgery for erection that lasted...</td>\n",
       "      <td>1.0</td>\n",
       "    </tr>\n",
       "    <tr>\n",
       "      <th>591</th>\n",
       "      <td>2280</td>\n",
       "      <td>0.0</td>\n",
       "      <td>0.559781</td>\n",
       "      <td>European Super League will help football evolv...</td>\n",
       "      <td>1.0</td>\n",
       "    </tr>\n",
       "    <tr>\n",
       "      <th>592</th>\n",
       "      <td>4833</td>\n",
       "      <td>0.0</td>\n",
       "      <td>0.544782</td>\n",
       "      <td>Home - Islamic Traditional Healer</td>\n",
       "      <td>1.0</td>\n",
       "    </tr>\n",
       "    <tr>\n",
       "      <th>593</th>\n",
       "      <td>4707</td>\n",
       "      <td>0.0</td>\n",
       "      <td>0.543070</td>\n",
       "      <td>Naruto Run past the anchor!</td>\n",
       "      <td>1.0</td>\n",
       "    </tr>\n",
       "    <tr>\n",
       "      <th>594</th>\n",
       "      <td>2054</td>\n",
       "      <td>0.0</td>\n",
       "      <td>0.795892</td>\n",
       "      <td>Statue Of A Homeless Jesus Startles A Wealthy ...</td>\n",
       "      <td>1.0</td>\n",
       "    </tr>\n",
       "    <tr>\n",
       "      <th>595</th>\n",
       "      <td>1612</td>\n",
       "      <td>0.0</td>\n",
       "      <td>0.594391</td>\n",
       "      <td>All Postpaid Mobile Phones To Be Restored In J...</td>\n",
       "      <td>1.0</td>\n",
       "    </tr>\n",
       "    <tr>\n",
       "      <th>596</th>\n",
       "      <td>10419</td>\n",
       "      <td>1.0</td>\n",
       "      <td>0.499511</td>\n",
       "      <td>Marine Biologists Train Highly Intelligent Oct...</td>\n",
       "      <td>0.0</td>\n",
       "    </tr>\n",
       "    <tr>\n",
       "      <th>597</th>\n",
       "      <td>6179</td>\n",
       "      <td>0.0</td>\n",
       "      <td>0.704134</td>\n",
       "      <td>John Hinckley Jr., who tried to assassinate Re...</td>\n",
       "      <td>1.0</td>\n",
       "    </tr>\n",
       "  </tbody>\n",
       "</table>\n",
       "<p>598 rows × 5 columns</p>\n",
       "</div>"
      ],
      "text/plain": [
       "     Unnamed: 0  true_values  pred_probs  \\\n",
       "0          1215          0.0    0.765111   \n",
       "1         13585          1.0    0.452582   \n",
       "2         14077          1.0    0.151375   \n",
       "3          2470          0.0    0.567020   \n",
       "4          4903          0.0    0.535959   \n",
       "5          4480          0.0    0.570122   \n",
       "6         10219          1.0    0.322699   \n",
       "7          3997          0.0    0.512677   \n",
       "8         11975          1.0    0.203362   \n",
       "9         13909          1.0    0.483765   \n",
       "10         1854          0.0    0.721532   \n",
       "11         6432          0.0    0.851505   \n",
       "12          593          0.0    0.579303   \n",
       "13         9218          1.0    0.429774   \n",
       "14        13899          1.0    0.265242   \n",
       "15         9839          1.0    0.499278   \n",
       "16         9255          1.0    0.261149   \n",
       "17        16246          1.0    0.303036   \n",
       "18        12892          1.0    0.373345   \n",
       "19        13636          1.0    0.344610   \n",
       "20        13771          1.0    0.441031   \n",
       "21         4108          0.0    0.712273   \n",
       "22        13104          1.0    0.453666   \n",
       "23          567          0.0    0.532103   \n",
       "24         7738          0.0    0.683540   \n",
       "25         8235          1.0    0.473268   \n",
       "26         9155          1.0    0.466272   \n",
       "27         5428          0.0    0.930173   \n",
       "28         8674          1.0    0.361668   \n",
       "29        14156          1.0    0.261457   \n",
       "..          ...          ...         ...   \n",
       "568        1310          0.0    0.727025   \n",
       "569       15117          1.0    0.379181   \n",
       "570        5062          0.0    0.811456   \n",
       "571        8513          1.0    0.368070   \n",
       "572       13979          1.0    0.329586   \n",
       "573        6348          0.0    0.532193   \n",
       "574        6843          0.0    0.547414   \n",
       "575        2562          0.0    0.548897   \n",
       "576        4742          0.0    0.506335   \n",
       "577       16653          1.0    0.200469   \n",
       "578        2551          0.0    0.580356   \n",
       "579        9501          1.0    0.277288   \n",
       "580       14328          1.0    0.149020   \n",
       "581       14828          1.0    0.414364   \n",
       "582       13162          1.0    0.415365   \n",
       "583        7802          0.0    0.518640   \n",
       "584        6723          0.0    0.599090   \n",
       "585          98          0.0    0.717988   \n",
       "586       16933          1.0    0.099801   \n",
       "587        4198          0.0    0.548993   \n",
       "588       16202          1.0    0.327506   \n",
       "589       11957          1.0    0.204690   \n",
       "590        4754          0.0    0.613289   \n",
       "591        2280          0.0    0.559781   \n",
       "592        4833          0.0    0.544782   \n",
       "593        4707          0.0    0.543070   \n",
       "594        2054          0.0    0.795892   \n",
       "595        1612          0.0    0.594391   \n",
       "596       10419          1.0    0.499511   \n",
       "597        6179          0.0    0.704134   \n",
       "\n",
       "                                                titles  pred  \n",
       "0    Scientists Propose New Satellite Tech to Dodge...   1.0  \n",
       "1    I Was Anti-Vaccine Until My Doctor Got Hot And...   0.0  \n",
       "2    Excuse Me, Mr. Trump, Sir, But, Respectfully, ...   0.0  \n",
       "3    Priest made young boys dress up like baby Jesu...   1.0  \n",
       "4    Suspected home intruder leaps from 2nd-floor b...   1.0  \n",
       "5    She threw her iPhone out the window and has ne...   1.0  \n",
       "6    Shocking Dark Secret: The Host Of The Beloved ...   0.0  \n",
       "7    Prehistoric Babies Drank Animal Milk From Bottles   1.0  \n",
       "8    We Asked 22 Meteorologists About The Worst Sto...   0.0  \n",
       "9    9/11: Government Admits It Was Only Behind Des...   0.0  \n",
       "10       Just a reminder that this is illegal in China   1.0  \n",
       "11   J.K. Simmons Joins Cast of Animated-Adventure ...   1.0  \n",
       "12   Windows 10 Security Alert As Microsoft Warns: ...   1.0  \n",
       "13                               Winter Is Shortcoming   0.0  \n",
       "14   Prince Harry Gets Old Suit Tailored To Wear To...   0.0  \n",
       "15   NASA Administrator Resigns After Leak Of Offen...   0.0  \n",
       "16   Unclear If Store Called ‘Casa Spazio’ Sells Le...   0.0  \n",
       "17   News: Awesome: Vera Wang Is Releasing A Tear-A...   0.0  \n",
       "18   Ohio State Puts Urban Meyer On Paid Secret Coa...   0.0  \n",
       "19   76ers Expected To Fire GM Who Created Anonymou...   0.0  \n",
       "20   Top Celebrities Who Are Not Invited To The Roy...   0.0  \n",
       "21   Dominos Offering Dream Job as Garlic Bread Taster   1.0  \n",
       "22                                    The Road Worrier   0.0  \n",
       "23   Strategically placed bush used to hide sculptu...   1.0  \n",
       "24   Theres An Emu On the Loose In North Carolina a...   1.0  \n",
       "25                  Behind The Pen: The Chinese Threat   0.0  \n",
       "26            A Guide To The Best Weapons In ‘FIFA 19’   0.0  \n",
       "27   Ted Cruz and Andrew Yang will suit up in 4-on-...   1.0  \n",
       "28   Trump Thanks Supporters Who Sacrificed Time, M...   0.0  \n",
       "29   A New Beginning: After Formally Ending Their 6...   0.0  \n",
       "..                                                 ...   ...  \n",
       "568  New rules for contractors have unexpected cons...   1.0  \n",
       "569  Ambush Tactics ft. Butcha - Too Many Times [Of...   0.0  \n",
       "570   Again with the American Christian victim complex   1.0  \n",
       "571                                      July 21, 1969   0.0  \n",
       "572  Central NY parents want top county court to ev...   0.0  \n",
       "573  Guitar Shaped Mailbox Causes Rollover Crash In...   1.0  \n",
       "574  Ukrainains irate as Sara Netanyahu throws brea...   1.0  \n",
       "575  The CW's Batwoman Has a New Enemy, and It's Ra...   1.0  \n",
       "576  \"All a bit predictable\": Sean Bean now rejects...   1.0  \n",
       "577  Monarch Butterfly Makes Directorial Debut On '...   0.0  \n",
       "578           Father, son build 3D printed Lamborghini   1.0  \n",
       "579  Hare Krishnas: ‘Hare Krishna, Hare Krishna, Kr...   0.0  \n",
       "580  The NRA Is Claiming That The Tennessee Waffle ...   0.0  \n",
       "581  Authorities Claim The True Austin Bomber Was E...   0.0  \n",
       "582  Qatar Unveils Indentured Mascot For 2022 World...   0.0  \n",
       "583                                 BzzzzzZzzzZZzzZzzz   1.0  \n",
       "584  This Is What The President Donald Trump Eats |...   1.0  \n",
       "585  North Texas Couple Moving Into New Home Sees I...   1.0  \n",
       "586  New world Scrabble champion: 'I'm in cocaine a...   0.0  \n",
       "587  Raccoons punch hole through ceiling, ransack W...   1.0  \n",
       "588  Doctors Discover Purpose Of Appendix Is To Con...   0.0  \n",
       "589  Sorry, Feminists, But If Discrimination Agains...   0.0  \n",
       "590  Man undergoes surgery for erection that lasted...   1.0  \n",
       "591  European Super League will help football evolv...   1.0  \n",
       "592                  Home - Islamic Traditional Healer   1.0  \n",
       "593                        Naruto Run past the anchor!   1.0  \n",
       "594  Statue Of A Homeless Jesus Startles A Wealthy ...   1.0  \n",
       "595  All Postpaid Mobile Phones To Be Restored In J...   1.0  \n",
       "596  Marine Biologists Train Highly Intelligent Oct...   0.0  \n",
       "597  John Hinckley Jr., who tried to assassinate Re...   1.0  \n",
       "\n",
       "[598 rows x 5 columns]"
      ]
     },
     "execution_count": 52,
     "metadata": {},
     "output_type": "execute_result"
    }
   ],
   "source": [
    "misclass"
   ]
  },
  {
   "cell_type": "code",
   "execution_count": 40,
   "metadata": {
    "ExecuteTime": {
     "end_time": "2019-10-24T16:24:54.760094Z",
     "start_time": "2019-10-24T16:24:54.755306Z"
    }
   },
   "outputs": [],
   "source": [
    "import numpy.random as random"
   ]
  },
  {
   "cell_type": "code",
   "execution_count": 55,
   "metadata": {
    "ExecuteTime": {
     "end_time": "2019-10-24T16:30:44.330636Z",
     "start_time": "2019-10-24T16:30:44.325241Z"
    }
   },
   "outputs": [],
   "source": [
    "random.seed(23)\n",
    "samples=pd.DataFrame(random.choice(misclass.index,10))"
   ]
  },
  {
   "cell_type": "code",
   "execution_count": 60,
   "metadata": {
    "ExecuteTime": {
     "end_time": "2019-10-24T16:31:54.454335Z",
     "start_time": "2019-10-24T16:31:54.444748Z"
    }
   },
   "outputs": [
    {
     "data": {
      "text/plain": [
       "Unnamed: 0                                                  7855\n",
       "true_values                                                    0\n",
       "pred_probs                                              0.666589\n",
       "titles         The most common street name in U.S. is Second....\n",
       "pred                                                           1\n",
       "Name: 34, dtype: object"
      ]
     },
     "execution_count": 60,
     "metadata": {},
     "output_type": "execute_result"
    }
   ],
   "source": [
    "misclass.loc[34,:]"
   ]
  },
  {
   "cell_type": "code",
   "execution_count": 75,
   "metadata": {
    "ExecuteTime": {
     "end_time": "2019-10-24T16:44:47.298050Z",
     "start_time": "2019-10-24T16:44:41.125950Z"
    },
    "scrolled": true
   },
   "outputs": [
    {
     "name": "stdout",
     "output_type": "stream",
     "text": [
      "All Postpaid Mobile Phones To Be Restored In J&amp;K From Monday\n",
      "Input 1 for the r/TheOnion and 0 for r/nottheonion\n",
      "1\n",
      "You are WRONG\n",
      "1 is NOT equal to 0\n",
      "Absolutely No Reason For A Recession But ‘We’ll Probably Have One Anyway’\n",
      "Input 1 for the r/TheOnion and 0 for r/nottheonion\n",
      "1\n",
      "You are WRONG\n",
      "1 is NOT equal to 0\n",
      "Savarkar had many faces – but Hindutva has only one\n",
      "Input 1 for the r/TheOnion and 0 for r/nottheonion\n",
      "1\n",
      "You are WRONG\n",
      "1 is NOT equal to 0\n",
      "Donald Trump’s New Mideast Point Man Is Jared Kushner’s Personal Assistant\n",
      "Input 1 for the r/TheOnion and 0 for r/nottheonion\n",
      "1\n",
      "You are WRONG\n",
      "1 is NOT equal to 0\n",
      "No, RBI is not going to discontinue Rs 2000 currency notes; false message viral\n",
      "Input 1 for the r/TheOnion and 0 for r/nottheonion\n",
      "\n",
      "You are WRONG\n",
      " is NOT equal to 0\n",
      "Atheists Will Not Have An Answer For This!\n",
      "Input 1 for the r/TheOnion and 0 for r/nottheonion\n",
      "\n",
      "You are WRONG\n",
      " is NOT equal to 1\n",
      "Here Are The Best Moments From Our \"Ask Questions At Me\" With 'Slip ’N Slide Haircut' Host Claudia Pla’ant\n",
      "Input 1 for the r/TheOnion and 0 for r/nottheonion\n",
      "11\n",
      "You are WRONG\n",
      "11 is NOT equal to 1\n",
      "Disturbing Teen Trend: Adolescents Across The Country Are Getting Together WEEKLY to Worship A Dead Man Named Jesus Christ\n",
      "Input 1 for the r/TheOnion and 0 for r/nottheonion\n",
      "1\n",
      "Correct!\n",
      "1 is equal to 1\n",
      "Shocking Dark Secret: The Host Of The Beloved Kids Show 'Professor Groin Pincher's Carnival Of Pleasures' Has Been Posthumously Unmasked As A Pedophile\n",
      "Input 1 for the r/TheOnion and 0 for r/nottheonion\n",
      "1\n",
      "Correct!\n",
      "1 is equal to 1\n",
      "Westford resident gives town the middle finger—and there's nothing anyone can do about it\n",
      "Input 1 for the r/TheOnion and 0 for r/nottheonion\n",
      "1\n",
      "You are WRONG\n",
      "1 is NOT equal to 0\n",
      "\n",
      " Your Final Score is: 2\n"
     ]
    }
   ],
   "source": [
    "tryclass=[]\n",
    "for sample in samples[0]:\n",
    "    print(misclass.loc[sample,'titles'])\n",
    "    print('Input 1 for the r/TheOnion and 0 for r/nottheonion')\n",
    "    a=input()\n",
    "    b=str(misclass.loc[sample,'true_values'].astype(int))\n",
    "\n",
    "    if a==b:\n",
    "        print ('Correct!')\n",
    "        print(f'{a} is equal to {b}')\n",
    "        tryclass.append(1)\n",
    "    else:\n",
    "        print ('You are WRONG')\n",
    "        print(f'{a} is NOT equal to {b}')\n",
    "        tryclass.append(0)\n",
    "        \n",
    "print(f'\\n Your Final Score is: {np.sum(tryclass)}')"
   ]
  },
  {
   "cell_type": "markdown",
   "metadata": {
    "ExecuteTime": {
     "end_time": "2019-10-24T16:35:06.869497Z",
     "start_time": "2019-10-24T16:35:06.859956Z"
    }
   },
   "source": [
    "Many of these titles are hard to diffrentiate, even by hand, and perhaps it may prove challenging to continue to improve the accuracy score.  \n",
    "\n",
    "Perhaps these misclassifications are where the real border of the real and surreal are, difficult even for a human observer to differentiate.\n",
    "\n"
   ]
  },
  {
   "cell_type": "markdown",
   "metadata": {},
   "source": [
    "## Conclusions"
   ]
  },
  {
   "cell_type": "markdown",
   "metadata": {},
   "source": [
    "In conclusion, the model used to predict on the data (a Logistic Regression model on a lemmatized dataset) tested an 86% accuracy score against unseen data, and had a ROC AUC of 0.938 on a non-trivial problem, demonstrating both accuracy and well-separated populations.\n",
    "\n",
    "\n",
    "The proposed model kept a high prediction power, performing only 1.2% worse than the best predictor and considerably shorter runtime as compared to the voting ensemble method. It also maintained a high level of\n",
    "intepretability, with the ability to predict the effect of the increase in count of individual words in the titles.\n",
    "\n",
    "The misclassified data was analyzed and was compared to an attempt at hand-classification, which also performed poorly, indicating that the articles in question did appear to the user to be on the difficult end of the scale to predict. Further study on this sub-population of misclassified data would be recommended."
   ]
  },
  {
   "cell_type": "code",
   "execution_count": null,
   "metadata": {},
   "outputs": [],
   "source": []
  }
 ],
 "metadata": {
  "kernelspec": {
   "display_name": "Python 3",
   "language": "python",
   "name": "python3"
  },
  "language_info": {
   "codemirror_mode": {
    "name": "ipython",
    "version": 3
   },
   "file_extension": ".py",
   "mimetype": "text/x-python",
   "name": "python",
   "nbconvert_exporter": "python",
   "pygments_lexer": "ipython3",
   "version": "3.7.3"
  },
  "toc": {
   "base_numbering": 1,
   "nav_menu": {},
   "number_sections": true,
   "sideBar": true,
   "skip_h1_title": false,
   "title_cell": "Table of Contents",
   "title_sidebar": "Contents",
   "toc_cell": false,
   "toc_position": {
    "height": "calc(100% - 180px)",
    "left": "10px",
    "top": "150px",
    "width": "320px"
   },
   "toc_section_display": true,
   "toc_window_display": true
  }
 },
 "nbformat": 4,
 "nbformat_minor": 2
}
